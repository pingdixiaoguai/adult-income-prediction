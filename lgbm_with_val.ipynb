{
 "cells": [
  {
   "cell_type": "code",
   "execution_count": 9,
   "outputs": [],
   "source": [
    "# 导包\n",
    "import pandas as pd\n",
    "import numpy as np\n",
    "\n",
    "from sklearn.preprocessing import StandardScaler\n",
    "from lightgbm import LGBMClassifier\n",
    "from sklearn.metrics import confusion_matrix\n",
    "from sklearn.metrics import accuracy_score\n",
    "from plot_confusion_matrix import plot_confusion_matrix\n",
    "from sklearn.preprocessing import LabelEncoder\n",
    "from sklearn.model_selection import train_test_split"
   ],
   "metadata": {
    "collapsed": false,
    "pycharm": {
     "name": "#%%\n",
     "is_executing": false
    }
   }
  },
  {
   "cell_type": "code",
   "execution_count": 10,
   "outputs": [],
   "source": [
    "# 读取数据\n",
    "# 根据题意，先把header设置好\n",
    "headers = ['age', 'workclass', 'fnlwgt',\n",
    "           'education', 'education_num', 'marital_status',\n",
    "           'occupation', 'relationship', 'race',\n",
    "           'sex', 'capital_gain', 'capital_loss',\n",
    "           'hours_per_week', 'native_country', 'income']\n",
    "\n",
    "# 读取训练集进入内存\n",
    "train_data = pd.read_csv(\"data/adult_train.csv\",names=headers)\n",
    "\n",
    "# 对于测试集，他的第一行是一个分隔，不读入\n",
    "test_data = pd.read_csv(\"data/adult_test.csv\",names=headers,skiprows=[0])\n",
    "test_data['income']= test_data['income'].apply(lambda x: x[0:-1])"
   ],
   "metadata": {
    "collapsed": false,
    "pycharm": {
     "name": "#%%\n",
     "is_executing": false
    }
   }
  },
  {
   "cell_type": "code",
   "execution_count": 11,
   "outputs": [
    {
     "data": {
      "text/plain": "(32561, 15)"
     },
     "metadata": {},
     "output_type": "execute_result",
     "execution_count": 11
    }
   ],
   "source": [
    "train_data['source']='train'\n",
    "test_data['source']='test'"
   ],
   "metadata": {
    "collapsed": false,
    "pycharm": {
     "name": "#%%\n",
     "is_executing": false
    }
   }
  },
  {
   "cell_type": "code",
   "execution_count": 12,
   "outputs": [
    {
     "data": {
      "text/plain": "                age        fnlwgt  education_num  capital_gain  capital_loss  \\\ncount  32561.000000  3.256100e+04   32561.000000  32561.000000  32561.000000   \nmean      38.581647  1.897784e+05      10.080679   1077.648844     87.303830   \nstd       13.640433  1.055500e+05       2.572720   7385.292085    402.960219   \nmin       17.000000  1.228500e+04       1.000000      0.000000      0.000000   \n25%       28.000000  1.178270e+05       9.000000      0.000000      0.000000   \n50%       37.000000  1.783560e+05      10.000000      0.000000      0.000000   \n75%       48.000000  2.370510e+05      12.000000      0.000000      0.000000   \nmax       90.000000  1.484705e+06      16.000000  99999.000000   4356.000000   \n\n       hours_per_week  \ncount    32561.000000  \nmean        40.437456  \nstd         12.347429  \nmin          1.000000  \n25%         40.000000  \n50%         40.000000  \n75%         45.000000  \nmax         99.000000  ",
      "text/html": "<div>\n<style scoped>\n    .dataframe tbody tr th:only-of-type {\n        vertical-align: middle;\n    }\n\n    .dataframe tbody tr th {\n        vertical-align: top;\n    }\n\n    .dataframe thead th {\n        text-align: right;\n    }\n</style>\n<table border=\"1\" class=\"dataframe\">\n  <thead>\n    <tr style=\"text-align: right;\">\n      <th></th>\n      <th>age</th>\n      <th>fnlwgt</th>\n      <th>education_num</th>\n      <th>capital_gain</th>\n      <th>capital_loss</th>\n      <th>hours_per_week</th>\n    </tr>\n  </thead>\n  <tbody>\n    <tr>\n      <th>count</th>\n      <td>32561.000000</td>\n      <td>3.256100e+04</td>\n      <td>32561.000000</td>\n      <td>32561.000000</td>\n      <td>32561.000000</td>\n      <td>32561.000000</td>\n    </tr>\n    <tr>\n      <th>mean</th>\n      <td>38.581647</td>\n      <td>1.897784e+05</td>\n      <td>10.080679</td>\n      <td>1077.648844</td>\n      <td>87.303830</td>\n      <td>40.437456</td>\n    </tr>\n    <tr>\n      <th>std</th>\n      <td>13.640433</td>\n      <td>1.055500e+05</td>\n      <td>2.572720</td>\n      <td>7385.292085</td>\n      <td>402.960219</td>\n      <td>12.347429</td>\n    </tr>\n    <tr>\n      <th>min</th>\n      <td>17.000000</td>\n      <td>1.228500e+04</td>\n      <td>1.000000</td>\n      <td>0.000000</td>\n      <td>0.000000</td>\n      <td>1.000000</td>\n    </tr>\n    <tr>\n      <th>25%</th>\n      <td>28.000000</td>\n      <td>1.178270e+05</td>\n      <td>9.000000</td>\n      <td>0.000000</td>\n      <td>0.000000</td>\n      <td>40.000000</td>\n    </tr>\n    <tr>\n      <th>50%</th>\n      <td>37.000000</td>\n      <td>1.783560e+05</td>\n      <td>10.000000</td>\n      <td>0.000000</td>\n      <td>0.000000</td>\n      <td>40.000000</td>\n    </tr>\n    <tr>\n      <th>75%</th>\n      <td>48.000000</td>\n      <td>2.370510e+05</td>\n      <td>12.000000</td>\n      <td>0.000000</td>\n      <td>0.000000</td>\n      <td>45.000000</td>\n    </tr>\n    <tr>\n      <th>max</th>\n      <td>90.000000</td>\n      <td>1.484705e+06</td>\n      <td>16.000000</td>\n      <td>99999.000000</td>\n      <td>4356.000000</td>\n      <td>99.000000</td>\n    </tr>\n  </tbody>\n</table>\n</div>"
     },
     "metadata": {},
     "output_type": "execute_result",
     "execution_count": 12
    }
   ],
   "source": [
    "# 合并数据一起进行预处理\n",
    "data= pd.concat([train_data, test_data],axis=0,ignore_index=True)\n",
    "train_data = train_data.replace('[?]', np.NaN, regex=True)\n",
    "train_data.dropna(inplace=True)"
   ],
   "metadata": {
    "collapsed": false,
    "pycharm": {
     "name": "#%%\n",
     "is_executing": false
    }
   }
  },
  {
   "cell_type": "code",
   "execution_count": 12,
   "outputs": [],
   "source": [
    "# 对缺失数据进行处理，删除\n",
    "data.isnull().sum()"
   ],
   "metadata": {
    "collapsed": false,
    "pycharm": {
     "name": "#%%\n",
     "is_executing": false
    }
   }
  },
  {
   "cell_type": "code",
   "execution_count": 13,
   "outputs": [],
   "source": [
    "# 开始处理离散数据\n",
    "# income我们需要将其映射一下\n",
    "# 先将>=50K的映射成1，<=50K的设置为0\n",
    "le= LabelEncoder()\n",
    "data['income']= le.fit_transform(data['income'])\n",
    "data['income'].value_counts()\n"
   ],
   "metadata": {
    "collapsed": false,
    "pycharm": {
     "name": "#%%\n",
     "is_executing": false
    }
   }
  },
  {
   "cell_type": "code",
   "execution_count": 14,
   "outputs": [],
   "source": [
    "# 取出所有的离散量属性,这些属性先不用看我们自定义的数据来源那一项\n",
    "discrete = [x for x in data.columns if data[x].dtype=='object']\n",
    "discrete.remove('source')\n",
    "discrete"
   ],
   "metadata": {
    "collapsed": false,
    "pycharm": {
     "name": "#%%\n",
     "is_executing": false
    }
   }
  },
  {
   "cell_type": "code",
   "execution_count": 15,
   "outputs": [
    {
     "data": {
      "text/plain": "age               0\nworkclass         0\nfnlwgt            0\neducation         0\neducation_num     0\nmarital_status    0\noccupation        0\nrelationship      0\nrace              0\nsex               0\ncapital_gain      0\ncapital_loss      0\nhours_per_week    0\nnative_country    0\nincome            0\nsource            0\ndtype: int64"
     },
     "metadata": {},
     "output_type": "execute_result",
     "execution_count": 15
    }
   ],
   "source": [
    "# 看看这些离散量属性的取值分布\n",
    "for i in discrete:\n",
    "    print(train_data[i].value_counts())\n",
    "    "
   ],
   "metadata": {
    "collapsed": false,
    "pycharm": {
     "name": "#%%\n",
     "is_executing": false
    }
   }
  },
  {
   "cell_type": "code",
   "execution_count": 16,
   "outputs": [
    {
     "data": {
      "text/plain": "0    34014\n1    11208\nName: income, dtype: int64"
     },
     "metadata": {},
     "output_type": "execute_result",
     "execution_count": 16
    }
   ],
   "source": [
    "# 看看education_num这个连续量\n",
    "train_data['education'].value_counts()"
   ],
   "metadata": {
    "collapsed": false,
    "pycharm": {
     "name": "#%%\n",
     "is_executing": false
    }
   }
  },
  {
   "cell_type": "code",
   "execution_count": 17,
   "outputs": [],
   "source": [
    "# 发现跟education一样的，重复了，因为eudcation是离散的，不好处理。去掉这个属性\n",
    "data = data.drop(columns=['education'])"
   ],
   "metadata": {
    "collapsed": false,
    "pycharm": {
     "name": "#%%\n",
     "is_executing": false
    }
   }
  },
  {
   "cell_type": "code",
   "execution_count": 18,
   "outputs": [
    {
     "name": "stdout",
     "text": [
      " Private             22696\n",
      " Self-emp-not-inc     2541\n",
      " Local-gov            2093\n",
      " ?                    1836\n",
      " State-gov            1298\n",
      " Self-emp-inc         1116\n",
      " Federal-gov           960\n",
      " Without-pay            14\n",
      " Never-worked            7\n",
      "Name: workclass, dtype: int64\n",
      " HS-grad         10501\n",
      " Some-college     7291\n",
      " Bachelors        5355\n",
      " Masters          1723\n",
      " Assoc-voc        1382\n",
      " 11th             1175\n",
      " Assoc-acdm       1067\n",
      " 10th              933\n",
      " 7th-8th           646\n",
      " Prof-school       576\n",
      " 9th               514\n",
      " 12th              433\n",
      " Doctorate         413\n",
      " 5th-6th           333\n",
      " 1st-4th           168\n",
      " Preschool          51\n",
      "Name: education, dtype: int64\n",
      " Married-civ-spouse       14976\n",
      " Never-married            10683\n",
      " Divorced                  4443\n",
      " Separated                 1025\n",
      " Widowed                    993\n",
      " Married-spouse-absent      418\n",
      " Married-AF-spouse           23\n",
      "Name: marital_status, dtype: int64\n",
      " Prof-specialty       4140\n",
      " Craft-repair         4099\n",
      " Exec-managerial      4066\n",
      " Adm-clerical         3770\n",
      " Sales                3650\n",
      " Other-service        3295\n",
      " Machine-op-inspct    2002\n",
      " ?                    1843\n",
      " Transport-moving     1597\n",
      " Handlers-cleaners    1370\n",
      " Farming-fishing       994\n",
      " Tech-support          928\n",
      " Protective-serv       649\n",
      " Priv-house-serv       149\n",
      " Armed-Forces            9\n",
      "Name: occupation, dtype: int64\n",
      " Husband           13193\n",
      " Not-in-family      8305\n",
      " Own-child          5068\n",
      " Unmarried          3446\n",
      " Wife               1568\n",
      " Other-relative      981\n",
      "Name: relationship, dtype: int64\n",
      " White                 27816\n",
      " Black                  3124\n",
      " Asian-Pac-Islander     1039\n",
      " Amer-Indian-Eskimo      311\n",
      " Other                   271\n",
      "Name: race, dtype: int64\n",
      " Male      21790\n",
      " Female    10771\n",
      "Name: sex, dtype: int64\n",
      " United-States                 29170\n",
      " Mexico                          643\n",
      " ?                               583\n",
      " Philippines                     198\n",
      " Germany                         137\n",
      " Canada                          121\n",
      " Puerto-Rico                     114\n",
      " El-Salvador                     106\n",
      " India                           100\n",
      " Cuba                             95\n",
      " England                          90\n",
      " Jamaica                          81\n",
      " South                            80\n",
      " China                            75\n",
      " Italy                            73\n",
      " Dominican-Republic               70\n",
      " Vietnam                          67\n",
      " Guatemala                        64\n",
      " Japan                            62\n",
      " Poland                           60\n",
      " Columbia                         59\n",
      " Taiwan                           51\n",
      " Haiti                            44\n",
      " Iran                             43\n",
      " Portugal                         37\n",
      " Nicaragua                        34\n",
      " Peru                             31\n",
      " France                           29\n",
      " Greece                           29\n",
      " Ecuador                          28\n",
      " Ireland                          24\n",
      " Hong                             20\n",
      " Cambodia                         19\n",
      " Trinadad&Tobago                  19\n",
      " Laos                             18\n",
      " Thailand                         18\n",
      " Yugoslavia                       16\n",
      " Outlying-US(Guam-USVI-etc)       14\n",
      " Hungary                          13\n",
      " Honduras                         13\n",
      " Scotland                         12\n",
      " Holand-Netherlands                1\n",
      "Name: native_country, dtype: int64\n",
      " <=50K    24720\n",
      " >50K      7841\n",
      "Name: income, dtype: int64\n"
     ],
     "output_type": "stream"
    }
   ],
   "source": [
    "# 看看相关系数矩阵,检查一下连续变量。发现序号属性不太影响最后的收入\n",
    "data.corr()"
   ],
   "metadata": {
    "collapsed": false,
    "pycharm": {
     "name": "#%%\n",
     "is_executing": false
    }
   }
  },
  {
   "cell_type": "code",
   "execution_count": 19,
   "outputs": [
    {
     "data": {
      "text/plain": " HS-grad         10501\n Some-college     7291\n Bachelors        5355\n Masters          1723\n Assoc-voc        1382\n 11th             1175\n Assoc-acdm       1067\n 10th              933\n 7th-8th           646\n Prof-school       576\n 9th               514\n 12th              433\n Doctorate         413\n 5th-6th           333\n 1st-4th           168\n Preschool          51\nName: education, dtype: int64"
     },
     "metadata": {},
     "output_type": "execute_result",
     "execution_count": 19
    }
   ],
   "source": [
    "# 把序号属性删掉\n",
    "data = data.drop(columns=['fnlwgt'])"
   ],
   "metadata": {
    "collapsed": false,
    "pycharm": {
     "name": "#%%\n",
     "is_executing": false
    }
   }
  },
  {
   "cell_type": "code",
   "execution_count": 20,
   "outputs": [],
   "source": [
    "discrete2 = [x for x in data.columns if data[x].dtype=='object']\n",
    "discrete2.remove('source')\n",
    "discrete2"
   ],
   "metadata": {
    "collapsed": false,
    "pycharm": {
     "name": "#%%\n",
     "is_executing": false
    }
   }
  },
  {
   "cell_type": "code",
   "execution_count": 21,
   "outputs": [
    {
     "data": {
      "text/plain": "                     age    fnlwgt  education_num  capital_gain  capital_loss  \\\nage             1.000000 -0.075792       0.037623      0.079683      0.059351   \nfnlwgt         -0.075792  1.000000      -0.041993     -0.004110     -0.004349   \neducation_num   0.037623 -0.041993       1.000000      0.126907      0.081711   \ncapital_gain    0.079683 -0.004110       0.126907      1.000000     -0.032102   \ncapital_loss    0.059351 -0.004349       0.081711     -0.032102      1.000000   \nhours_per_week  0.101992 -0.018679       0.146206      0.083880      0.054195   \nincome          0.237040 -0.007264       0.332800      0.221034      0.148687   \n\n                hours_per_week    income  \nage                   0.101992  0.237040  \nfnlwgt               -0.018679 -0.007264  \neducation_num         0.146206  0.332800  \ncapital_gain          0.083880  0.221034  \ncapital_loss          0.054195  0.148687  \nhours_per_week        1.000000  0.227199  \nincome                0.227199  1.000000  ",
      "text/html": "<div>\n<style scoped>\n    .dataframe tbody tr th:only-of-type {\n        vertical-align: middle;\n    }\n\n    .dataframe tbody tr th {\n        vertical-align: top;\n    }\n\n    .dataframe thead th {\n        text-align: right;\n    }\n</style>\n<table border=\"1\" class=\"dataframe\">\n  <thead>\n    <tr style=\"text-align: right;\">\n      <th></th>\n      <th>age</th>\n      <th>fnlwgt</th>\n      <th>education_num</th>\n      <th>capital_gain</th>\n      <th>capital_loss</th>\n      <th>hours_per_week</th>\n      <th>income</th>\n    </tr>\n  </thead>\n  <tbody>\n    <tr>\n      <th>age</th>\n      <td>1.000000</td>\n      <td>-0.075792</td>\n      <td>0.037623</td>\n      <td>0.079683</td>\n      <td>0.059351</td>\n      <td>0.101992</td>\n      <td>0.237040</td>\n    </tr>\n    <tr>\n      <th>fnlwgt</th>\n      <td>-0.075792</td>\n      <td>1.000000</td>\n      <td>-0.041993</td>\n      <td>-0.004110</td>\n      <td>-0.004349</td>\n      <td>-0.018679</td>\n      <td>-0.007264</td>\n    </tr>\n    <tr>\n      <th>education_num</th>\n      <td>0.037623</td>\n      <td>-0.041993</td>\n      <td>1.000000</td>\n      <td>0.126907</td>\n      <td>0.081711</td>\n      <td>0.146206</td>\n      <td>0.332800</td>\n    </tr>\n    <tr>\n      <th>capital_gain</th>\n      <td>0.079683</td>\n      <td>-0.004110</td>\n      <td>0.126907</td>\n      <td>1.000000</td>\n      <td>-0.032102</td>\n      <td>0.083880</td>\n      <td>0.221034</td>\n    </tr>\n    <tr>\n      <th>capital_loss</th>\n      <td>0.059351</td>\n      <td>-0.004349</td>\n      <td>0.081711</td>\n      <td>-0.032102</td>\n      <td>1.000000</td>\n      <td>0.054195</td>\n      <td>0.148687</td>\n    </tr>\n    <tr>\n      <th>hours_per_week</th>\n      <td>0.101992</td>\n      <td>-0.018679</td>\n      <td>0.146206</td>\n      <td>0.083880</td>\n      <td>0.054195</td>\n      <td>1.000000</td>\n      <td>0.227199</td>\n    </tr>\n    <tr>\n      <th>income</th>\n      <td>0.237040</td>\n      <td>-0.007264</td>\n      <td>0.332800</td>\n      <td>0.221034</td>\n      <td>0.148687</td>\n      <td>0.227199</td>\n      <td>1.000000</td>\n    </tr>\n  </tbody>\n</table>\n</div>"
     },
     "metadata": {},
     "output_type": "execute_result",
     "execution_count": 21
    }
   ],
   "source": [
    "# 进行哑编码\n",
    "data = pd.get_dummies(data, columns=discrete2, drop_first=True)"
   ],
   "metadata": {
    "collapsed": false,
    "pycharm": {
     "name": "#%%\n",
     "is_executing": false
    }
   }
  },
  {
   "cell_type": "code",
   "execution_count": 22,
   "outputs": [],
   "source": [
    "# 看看编码后的结果\n",
    "data.columns"
   ],
   "metadata": {
    "collapsed": false,
    "pycharm": {
     "name": "#%%\n",
     "is_executing": false
    }
   }
  },
  {
   "cell_type": "code",
   "execution_count": 23,
   "outputs": [
    {
     "data": {
      "text/plain": "['workclass',\n 'marital_status',\n 'occupation',\n 'relationship',\n 'race',\n 'sex',\n 'native_country']"
     },
     "metadata": {},
     "output_type": "execute_result",
     "execution_count": 23
    }
   ],
   "source": [
    "# 将非2值类型的数据进行标准化\n",
    "num = [x for x in data.columns if data[x].dtype=='int64']\n",
    "num"
   ],
   "metadata": {
    "collapsed": false,
    "pycharm": {
     "name": "#%%\n",
     "is_executing": false
    }
   }
  },
  {
   "cell_type": "code",
   "execution_count": 24,
   "outputs": [],
   "source": [
    "scaler = StandardScaler()\n",
    "data.loc[:, num] = scaler.fit_transform(data.loc[:, num])"
   ],
   "metadata": {
    "collapsed": false,
    "pycharm": {
     "name": "#%%\n",
     "is_executing": false
    }
   }
  },
  {
   "cell_type": "code",
   "execution_count": 25,
   "outputs": [
    {
     "data": {
      "text/plain": "Index(['age', 'education_num', 'capital_gain', 'capital_loss',\n       'hours_per_week', 'income', 'source', 'workclass_ Local-gov',\n       'workclass_ Private', 'workclass_ Self-emp-inc',\n       'workclass_ Self-emp-not-inc', 'workclass_ State-gov',\n       'workclass_ Without-pay', 'marital_status_ Married-AF-spouse',\n       'marital_status_ Married-civ-spouse',\n       'marital_status_ Married-spouse-absent',\n       'marital_status_ Never-married', 'marital_status_ Separated',\n       'marital_status_ Widowed', 'occupation_ Armed-Forces',\n       'occupation_ Craft-repair', 'occupation_ Exec-managerial',\n       'occupation_ Farming-fishing', 'occupation_ Handlers-cleaners',\n       'occupation_ Machine-op-inspct', 'occupation_ Other-service',\n       'occupation_ Priv-house-serv', 'occupation_ Prof-specialty',\n       'occupation_ Protective-serv', 'occupation_ Sales',\n       'occupation_ Tech-support', 'occupation_ Transport-moving',\n       'relationship_ Not-in-family', 'relationship_ Other-relative',\n       'relationship_ Own-child', 'relationship_ Unmarried',\n       'relationship_ Wife', 'race_ Asian-Pac-Islander', 'race_ Black',\n       'race_ Other', 'race_ White', 'sex_ Male', 'native_country_ Canada',\n       'native_country_ China', 'native_country_ Columbia',\n       'native_country_ Cuba', 'native_country_ Dominican-Republic',\n       'native_country_ Ecuador', 'native_country_ El-Salvador',\n       'native_country_ England', 'native_country_ France',\n       'native_country_ Germany', 'native_country_ Greece',\n       'native_country_ Guatemala', 'native_country_ Haiti',\n       'native_country_ Holand-Netherlands', 'native_country_ Honduras',\n       'native_country_ Hong', 'native_country_ Hungary',\n       'native_country_ India', 'native_country_ Iran',\n       'native_country_ Ireland', 'native_country_ Italy',\n       'native_country_ Jamaica', 'native_country_ Japan',\n       'native_country_ Laos', 'native_country_ Mexico',\n       'native_country_ Nicaragua',\n       'native_country_ Outlying-US(Guam-USVI-etc)', 'native_country_ Peru',\n       'native_country_ Philippines', 'native_country_ Poland',\n       'native_country_ Portugal', 'native_country_ Puerto-Rico',\n       'native_country_ Scotland', 'native_country_ South',\n       'native_country_ Taiwan', 'native_country_ Thailand',\n       'native_country_ Trinadad&Tobago', 'native_country_ United-States',\n       'native_country_ Vietnam', 'native_country_ Yugoslavia'],\n      dtype='object')"
     },
     "metadata": {},
     "output_type": "execute_result",
     "execution_count": 25
    }
   ],
   "source": [
    "train_data = data.loc[data['source']=='train',:]\n",
    "test_data = data.loc[data['source']=='test',:]"
   ],
   "metadata": {
    "collapsed": false,
    "pycharm": {
     "name": "#%%\n",
     "is_executing": false
    }
   }
  },
  {
   "cell_type": "code",
   "execution_count": 26,
   "outputs": [],
   "source": [
    "# 把要预测的值income单独拿出来看看\n",
    "y_train = np.array(train_data.income)\n",
    "x_train = np.array(train_data.drop(['income','source'], axis=1))\n",
    "\n",
    "y_test = np.array(test_data.income)\n",
    "x_test = np.array(test_data.drop(['income','source'],axis=1))\n",
    "\n",
    "x_train, x_eval, y_train, y_eval = train_test_split(x_train, y_train, test_size=0.2)"
   ],
   "metadata": {
    "collapsed": false,
    "pycharm": {
     "name": "#%%\n",
     "is_executing": false
    }
   }
  },
  {
   "cell_type": "code",
   "execution_count": 28,
   "outputs": [],
   "source": [
    "# 参数，官方文档给出的如下\n",
    "\"\"\"\n",
    "    (boosting_type='gbdt', num_leaves=31, max_depth=-1, \n",
    "    learning_rate=0.1, n_estimators=100, subsample_for_bin=200000, \n",
    "    objective=None, class_weight=None, min_split_gain=0.0, \n",
    "    min_child_weight=0.001, min_child_samples=20, subsample=1.0, \n",
    "    subsample_freq=0, colsample_bytree=1.0, reg_alpha=0.0, \n",
    "    reg_lambda=0.0, random_state=None, n_jobs=-1, \n",
    "    silent=True, importance_type='split', **kwargs)\n",
    "\"\"\"\n",
    "\n",
    "# 由于lightGBM是leaves_wise生长，官方说法是要num_leaves小于2^max_depth\n",
    "# 定义模型并开始训练\n",
    "lgbm = LGBMClassifier(num_leaves=100, max_depth=7, learning_rate=0.05)\n",
    "lgbm.fit(x_train, y_train, eval_set=(x_eval, y_eval), \n",
    "         early_stopping_rounds=5)"
   ],
   "metadata": {
    "collapsed": false,
    "pycharm": {
     "name": "#%%\n",
     "is_executing": false
    }
   }
  },
  {
   "cell_type": "code",
   "execution_count": 30,
   "outputs": [
    {
     "data": {
      "text/plain": "100"
     },
     "metadata": {},
     "output_type": "execute_result",
     "execution_count": 30
    }
   ],
   "source": [
    "lgbm.best_iteration_"
   ],
   "metadata": {
    "collapsed": false,
    "pycharm": {
     "name": "#%%\n",
     "is_executing": false
    }
   }
  },
  {
   "cell_type": "code",
   "execution_count": 31,
   "outputs": [
    {
     "name": "stdout",
     "text": [
      "86.70650730411687\n"
     ],
     "output_type": "stream"
    }
   ],
   "source": [
    "y_pred = lgbm.predict(x_test)\n",
    "print(accuracy_score(y_test, y_pred) * 100)"
   ],
   "metadata": {
    "collapsed": false,
    "pycharm": {
     "name": "#%%\n",
     "is_executing": false
    }
   }
  },
  {
   "cell_type": "code",
   "execution_count": 32,
   "outputs": [
    {
     "data": {
      "text/plain": "array([[10726,   634],\n       [ 1368,  2332]], dtype=int64)"
     },
     "metadata": {},
     "output_type": "execute_result",
     "execution_count": 32
    }
   ],
   "source": [
    "# 获得混淆矩阵\n",
    "lgbm_confusion_matrix = confusion_matrix(y_test, y_pred)\n",
    "lgbm_confusion_matrix\n"
   ],
   "metadata": {
    "collapsed": false,
    "pycharm": {
     "name": "#%%\n",
     "is_executing": false
    }
   }
  },
  {
   "cell_type": "code",
   "execution_count": 33,
   "outputs": [
    {
     "name": "stdout",
     "text": [
      "Confusion matrix, without normalization\n",
      "[[10726   634]\n",
      " [ 1368  2332]]\n"
     ],
     "output_type": "stream"
    },
    {
     "data": {
      "text/plain": "<Figure size 432x288 with 2 Axes>",
      "image/png": "[encoded data removed]"
     },
     "metadata": {
      "needs_background": "light"
     },
     "output_type": "display_data"
    }
   ],
   "source": [
    "# 使用混淆图函数\n",
    "types = ['0', '1']\n",
    "plot_confusion_matrix(lgbm_confusion_matrix, classes=types, normalize=False,\n",
    "                      title='confusion matrix for Light GBM Classifier')"
   ],
   "metadata": {
    "collapsed": false,
    "pycharm": {
     "name": "#%%\n",
     "is_executing": false
    }
   }
  }
 ],
 "metadata": {
  "kernelspec": {
   "display_name": "Python 3",
   "language": "python",
   "name": "python3"
  },
  "language_info": {
   "codemirror_mode": {
    "name": "ipython",
    "version": 2
   },
   "file_extension": ".py",
   "mimetype": "text/x-python",
   "name": "python",
   "nbconvert_exporter": "python",
   "pygments_lexer": "ipython2",
   "version": "2.7.6"
  },
  "pycharm": {
   "stem_cell": {
    "cell_type": "raw",
    "source": [],
    "metadata": {
     "collapsed": false
    }
   }
  }
 },
 "nbformat": 4,
 "nbformat_minor": 0
}