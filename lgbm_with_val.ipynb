{
 "cells": [
  {
   "cell_type": "code",
   "execution_count": 49,
   "metadata": {
    "pycharm": {
     "is_executing": false,
     "name": "#%%\n"
    }
   },
   "outputs": [],
   "source": [
    "# 导包\n",
    "import pandas as pd\n",
    "import numpy as np\n",
    "import datetime\n",
    "\n",
    "from sklearn.preprocessing import StandardScaler\n",
    "from lightgbm import LGBMClassifier\n",
    "from sklearn.metrics import accuracy_score,classification_report,roc_auc_score, roc_curve, auc, confusion_matrix\n",
    "from plot_confusion_matrix import plot_confusion_matrix\n",
    "from sklearn.preprocessing import LabelEncoder\n",
    "from sklearn.model_selection import train_test_split"
   ]
  },
  {
   "cell_type": "code",
   "execution_count": 50,
   "metadata": {
    "pycharm": {
     "is_executing": false,
     "name": "#%%\n"
    }
   },
   "outputs": [],
   "source": [
    "# 读取数据\n",
    "# 根据题意，先把header设置好\n",
    "headers = ['age', 'workclass', 'fnlwgt',\n",
    "           'education', 'education_num', 'marital_status',\n",
    "           'occupation', 'relationship', 'race',\n",
    "           'sex', 'capital_gain', 'capital_loss',\n",
    "           'hours_per_week', 'native_country', 'income']\n",
    "\n",
    "# 读取训练集进入内存\n",
    "train_data = pd.read_csv(\"data/adult_train.csv\",names=headers)\n",
    "\n",
    "# 对于测试集，他的第一行是一个分隔，不读入\n",
    "test_data = pd.read_csv(\"data/adult_test.csv\",names=headers,skiprows=[0])\n",
    "test_data['income']= test_data['income'].apply(lambda x: x[0:-1])"
   ]
  },
  {
   "cell_type": "code",
   "execution_count": 51,
   "metadata": {
    "pycharm": {
     "is_executing": false,
     "name": "#%%\n"
    }
   },
   "outputs": [],
   "source": [
    "train_data['source']='train'\n",
    "test_data['source']='test'"
   ]
  },
  {
   "cell_type": "code",
   "execution_count": 52,
   "metadata": {
    "pycharm": {
     "is_executing": false,
     "name": "#%%\n"
    }
   },
   "outputs": [],
   "source": [
    "# 合并数据一起进行预处理\n",
    "data= pd.concat([train_data, test_data],axis=0,ignore_index=True)\n",
    "train_data = train_data.replace('[?]', np.NaN, regex=True)\n",
    "train_data.dropna(inplace=True)"
   ]
  },
  {
   "cell_type": "code",
   "execution_count": 53,
   "metadata": {
    "pycharm": {
     "is_executing": false,
     "name": "#%%\n"
    }
   },
   "outputs": [
    {
     "data": {
      "text/plain": "age               0\nworkclass         0\nfnlwgt            0\neducation         0\neducation_num     0\nmarital_status    0\noccupation        0\nrelationship      0\nrace              0\nsex               0\ncapital_gain      0\ncapital_loss      0\nhours_per_week    0\nnative_country    0\nincome            0\nsource            0\ndtype: int64"
     },
     "metadata": {},
     "output_type": "execute_result",
     "execution_count": 53
    }
   ],
   "source": [
    "# 对缺失数据进行处理，删除\n",
    "data.isnull().sum()"
   ]
  },
  {
   "cell_type": "code",
   "execution_count": 54,
   "metadata": {
    "pycharm": {
     "is_executing": false,
     "name": "#%%\n"
    }
   },
   "outputs": [
    {
     "data": {
      "text/plain": "0    37155\n1    11687\nName: income, dtype: int64"
     },
     "metadata": {},
     "output_type": "execute_result",
     "execution_count": 54
    }
   ],
   "source": [
    "# 开始处理离散数据\n",
    "# income我们需要将其映射一下\n",
    "# 先将>=50K的映射成1，<=50K的设置为0\n",
    "le= LabelEncoder()\n",
    "data['income']= le.fit_transform(data['income'])\n",
    "data['income'].value_counts()\n"
   ]
  },
  {
   "cell_type": "code",
   "execution_count": 55,
   "metadata": {
    "pycharm": {
     "is_executing": false,
     "name": "#%%\n"
    }
   },
   "outputs": [
    {
     "data": {
      "text/plain": "['workclass',\n 'education',\n 'marital_status',\n 'occupation',\n 'relationship',\n 'race',\n 'sex',\n 'native_country']"
     },
     "metadata": {},
     "output_type": "execute_result",
     "execution_count": 55
    }
   ],
   "source": [
    "# 取出所有的离散量属性,这些属性先不用看我们自定义的数据来源那一项\n",
    "discrete = [x for x in data.columns if data[x].dtype=='object']\n",
    "discrete.remove('source')\n",
    "discrete"
   ]
  },
  {
   "cell_type": "code",
   "execution_count": 56,
   "metadata": {
    "pycharm": {
     "is_executing": false,
     "name": "#%%\n"
    }
   },
   "outputs": [
    {
     "name": "stdout",
     "text": [
      " Private             22286\n",
      " Self-emp-not-inc     2499\n",
      " Local-gov            2067\n",
      " State-gov            1279\n",
      " Self-emp-inc         1074\n",
      " Federal-gov           943\n",
      " Without-pay            14\n",
      "Name: workclass, dtype: int64\n",
      " HS-grad         9840\n",
      " Some-college    6678\n",
      " Bachelors       5044\n",
      " Masters         1627\n",
      " Assoc-voc       1307\n",
      " 11th            1048\n",
      " Assoc-acdm      1008\n",
      " 10th             820\n",
      " 7th-8th          557\n",
      " Prof-school      542\n",
      " 9th              455\n",
      " 12th             377\n",
      " Doctorate        375\n",
      " 5th-6th          288\n",
      " 1st-4th          151\n",
      " Preschool         45\n",
      "Name: education, dtype: int64\n",
      " Married-civ-spouse       14065\n",
      " Never-married             9726\n",
      " Divorced                  4214\n",
      " Separated                  939\n",
      " Widowed                    827\n",
      " Married-spouse-absent      370\n",
      " Married-AF-spouse           21\n",
      "Name: marital_status, dtype: int64\n",
      " Prof-specialty       4038\n",
      " Craft-repair         4030\n",
      " Exec-managerial      3992\n",
      " Adm-clerical         3721\n",
      " Sales                3584\n",
      " Other-service        3212\n",
      " Machine-op-inspct    1966\n",
      " Transport-moving     1572\n",
      " Handlers-cleaners    1350\n",
      " Farming-fishing       989\n",
      " Tech-support          912\n",
      " Protective-serv       644\n",
      " Priv-house-serv       143\n",
      " Armed-Forces            9\n",
      "Name: occupation, dtype: int64\n",
      " Husband           12463\n",
      " Not-in-family      7726\n",
      " Own-child          4466\n",
      " Unmarried          3212\n",
      " Wife               1406\n",
      " Other-relative      889\n",
      "Name: relationship, dtype: int64\n",
      " White                 25933\n",
      " Black                  2817\n",
      " Asian-Pac-Islander      895\n",
      " Amer-Indian-Eskimo      286\n",
      " Other                   231\n",
      "Name: race, dtype: int64\n",
      " Male      20380\n",
      " Female     9782\n",
      "Name: sex, dtype: int64\n",
      " United-States                 27504\n",
      " Mexico                          610\n",
      " Philippines                     188\n",
      " Germany                         128\n",
      " Puerto-Rico                     109\n",
      " Canada                          107\n",
      " India                           100\n",
      " El-Salvador                     100\n",
      " Cuba                             92\n",
      " England                          86\n",
      " Jamaica                          80\n",
      " South                            71\n",
      " Italy                            68\n",
      " China                            68\n",
      " Dominican-Republic               67\n",
      " Vietnam                          64\n",
      " Guatemala                        63\n",
      " Japan                            59\n",
      " Columbia                         56\n",
      " Poland                           56\n",
      " Haiti                            42\n",
      " Taiwan                           42\n",
      " Iran                             42\n",
      " Portugal                         34\n",
      " Nicaragua                        33\n",
      " Peru                             30\n",
      " Greece                           29\n",
      " France                           27\n",
      " Ecuador                          27\n",
      " Ireland                          24\n",
      " Hong                             19\n",
      " Cambodia                         18\n",
      " Trinadad&Tobago                  18\n",
      " Thailand                         17\n",
      " Laos                             17\n",
      " Yugoslavia                       16\n",
      " Outlying-US(Guam-USVI-etc)       14\n",
      " Hungary                          13\n",
      " Honduras                         12\n",
      " Scotland                         11\n",
      " Holand-Netherlands                1\n",
      "Name: native_country, dtype: int64\n"
     ],
     "output_type": "stream"
    }
   ],
   "source": [
    "# 看看这些离散量属性的取值分布\n",
    "for i in discrete:\n",
    "    print(train_data[i].value_counts())\n",
    "    "
   ]
  },
  {
   "cell_type": "code",
   "execution_count": 57,
   "metadata": {
    "pycharm": {
     "is_executing": false,
     "name": "#%%\n"
    }
   },
   "outputs": [
    {
     "data": {
      "text/plain": " HS-grad         9840\n Some-college    6678\n Bachelors       5044\n Masters         1627\n Assoc-voc       1307\n 11th            1048\n Assoc-acdm      1008\n 10th             820\n 7th-8th          557\n Prof-school      542\n 9th              455\n 12th             377\n Doctorate        375\n 5th-6th          288\n 1st-4th          151\n Preschool         45\nName: education, dtype: int64"
     },
     "metadata": {},
     "output_type": "execute_result",
     "execution_count": 57
    }
   ],
   "source": [
    "# 看看education_num这个连续量\n",
    "train_data['education'].value_counts()"
   ]
  },
  {
   "cell_type": "code",
   "execution_count": 58,
   "metadata": {
    "pycharm": {
     "is_executing": false,
     "name": "#%%\n"
    }
   },
   "outputs": [],
   "source": [
    "# 发现跟education一样的，重复了，因为eudcation是离散的，不好处理。去掉这个属性\n",
    "data = data.drop(columns=['education'])"
   ]
  },
  {
   "cell_type": "code",
   "execution_count": 59,
   "metadata": {
    "pycharm": {
     "is_executing": false,
     "name": "#%%\n"
    }
   },
   "outputs": [
    {
     "data": {
      "text/plain": "                     age    fnlwgt  education_num  capital_gain  capital_loss  \\\nage             1.000000 -0.076628       0.030940      0.077229      0.056944   \nfnlwgt         -0.076628  1.000000      -0.038761     -0.003706     -0.004366   \neducation_num   0.030940 -0.038761       1.000000      0.125146      0.080972   \ncapital_gain    0.077229 -0.003706       0.125146      1.000000     -0.031441   \ncapital_loss    0.056944 -0.004366       0.080972     -0.031441      1.000000   \nhours_per_week  0.071558 -0.013519       0.143689      0.082157      0.054467   \nincome          0.230369 -0.006339       0.332613      0.223013      0.147554   \n\n                hours_per_week    income  \nage                   0.071558  0.230369  \nfnlwgt               -0.013519 -0.006339  \neducation_num         0.143689  0.332613  \ncapital_gain          0.082157  0.223013  \ncapital_loss          0.054467  0.147554  \nhours_per_week        1.000000  0.227687  \nincome                0.227687  1.000000  ",
      "text/html": "<div>\n<style scoped>\n    .dataframe tbody tr th:only-of-type {\n        vertical-align: middle;\n    }\n\n    .dataframe tbody tr th {\n        vertical-align: top;\n    }\n\n    .dataframe thead th {\n        text-align: right;\n    }\n</style>\n<table border=\"1\" class=\"dataframe\">\n  <thead>\n    <tr style=\"text-align: right;\">\n      <th></th>\n      <th>age</th>\n      <th>fnlwgt</th>\n      <th>education_num</th>\n      <th>capital_gain</th>\n      <th>capital_loss</th>\n      <th>hours_per_week</th>\n      <th>income</th>\n    </tr>\n  </thead>\n  <tbody>\n    <tr>\n      <th>age</th>\n      <td>1.000000</td>\n      <td>-0.076628</td>\n      <td>0.030940</td>\n      <td>0.077229</td>\n      <td>0.056944</td>\n      <td>0.071558</td>\n      <td>0.230369</td>\n    </tr>\n    <tr>\n      <th>fnlwgt</th>\n      <td>-0.076628</td>\n      <td>1.000000</td>\n      <td>-0.038761</td>\n      <td>-0.003706</td>\n      <td>-0.004366</td>\n      <td>-0.013519</td>\n      <td>-0.006339</td>\n    </tr>\n    <tr>\n      <th>education_num</th>\n      <td>0.030940</td>\n      <td>-0.038761</td>\n      <td>1.000000</td>\n      <td>0.125146</td>\n      <td>0.080972</td>\n      <td>0.143689</td>\n      <td>0.332613</td>\n    </tr>\n    <tr>\n      <th>capital_gain</th>\n      <td>0.077229</td>\n      <td>-0.003706</td>\n      <td>0.125146</td>\n      <td>1.000000</td>\n      <td>-0.031441</td>\n      <td>0.082157</td>\n      <td>0.223013</td>\n    </tr>\n    <tr>\n      <th>capital_loss</th>\n      <td>0.056944</td>\n      <td>-0.004366</td>\n      <td>0.080972</td>\n      <td>-0.031441</td>\n      <td>1.000000</td>\n      <td>0.054467</td>\n      <td>0.147554</td>\n    </tr>\n    <tr>\n      <th>hours_per_week</th>\n      <td>0.071558</td>\n      <td>-0.013519</td>\n      <td>0.143689</td>\n      <td>0.082157</td>\n      <td>0.054467</td>\n      <td>1.000000</td>\n      <td>0.227687</td>\n    </tr>\n    <tr>\n      <th>income</th>\n      <td>0.230369</td>\n      <td>-0.006339</td>\n      <td>0.332613</td>\n      <td>0.223013</td>\n      <td>0.147554</td>\n      <td>0.227687</td>\n      <td>1.000000</td>\n    </tr>\n  </tbody>\n</table>\n</div>"
     },
     "metadata": {},
     "output_type": "execute_result",
     "execution_count": 59
    }
   ],
   "source": [
    "# 看看相关系数矩阵,检查一下连续变量。发现序号属性不太影响最后的收入\n",
    "data.corr()"
   ]
  },
  {
   "cell_type": "code",
   "execution_count": 60,
   "metadata": {
    "pycharm": {
     "is_executing": false,
     "name": "#%%\n"
    }
   },
   "outputs": [],
   "source": [
    "# 把序号属性删掉\n",
    "data = data.drop(columns=['fnlwgt'])"
   ]
  },
  {
   "cell_type": "code",
   "execution_count": 61,
   "metadata": {
    "pycharm": {
     "is_executing": false,
     "name": "#%%\n"
    }
   },
   "outputs": [
    {
     "data": {
      "text/plain": "['workclass',\n 'marital_status',\n 'occupation',\n 'relationship',\n 'race',\n 'sex',\n 'native_country']"
     },
     "metadata": {},
     "output_type": "execute_result",
     "execution_count": 61
    }
   ],
   "source": [
    "discrete2 = [x for x in data.columns if data[x].dtype=='object']\n",
    "discrete2.remove('source')\n",
    "discrete2"
   ]
  },
  {
   "cell_type": "code",
   "execution_count": 62,
   "metadata": {
    "pycharm": {
     "is_executing": false,
     "name": "#%%\n"
    }
   },
   "outputs": [],
   "source": [
    "# 进行哑编码\n",
    "data = pd.get_dummies(data, columns=discrete2, drop_first=True)"
   ]
  },
  {
   "cell_type": "code",
   "execution_count": 63,
   "metadata": {
    "pycharm": {
     "is_executing": false,
     "name": "#%%\n"
    }
   },
   "outputs": [
    {
     "data": {
      "text/plain": "Index(['age', 'education_num', 'capital_gain', 'capital_loss',\n       'hours_per_week', 'income', 'source', 'workclass_ Federal-gov',\n       'workclass_ Local-gov', 'workclass_ Never-worked', 'workclass_ Private',\n       'workclass_ Self-emp-inc', 'workclass_ Self-emp-not-inc',\n       'workclass_ State-gov', 'workclass_ Without-pay',\n       'marital_status_ Married-AF-spouse',\n       'marital_status_ Married-civ-spouse',\n       'marital_status_ Married-spouse-absent',\n       'marital_status_ Never-married', 'marital_status_ Separated',\n       'marital_status_ Widowed', 'occupation_ Adm-clerical',\n       'occupation_ Armed-Forces', 'occupation_ Craft-repair',\n       'occupation_ Exec-managerial', 'occupation_ Farming-fishing',\n       'occupation_ Handlers-cleaners', 'occupation_ Machine-op-inspct',\n       'occupation_ Other-service', 'occupation_ Priv-house-serv',\n       'occupation_ Prof-specialty', 'occupation_ Protective-serv',\n       'occupation_ Sales', 'occupation_ Tech-support',\n       'occupation_ Transport-moving', 'relationship_ Not-in-family',\n       'relationship_ Other-relative', 'relationship_ Own-child',\n       'relationship_ Unmarried', 'relationship_ Wife',\n       'race_ Asian-Pac-Islander', 'race_ Black', 'race_ Other', 'race_ White',\n       'sex_ Male', 'native_country_ Cambodia', 'native_country_ Canada',\n       'native_country_ China', 'native_country_ Columbia',\n       'native_country_ Cuba', 'native_country_ Dominican-Republic',\n       'native_country_ Ecuador', 'native_country_ El-Salvador',\n       'native_country_ England', 'native_country_ France',\n       'native_country_ Germany', 'native_country_ Greece',\n       'native_country_ Guatemala', 'native_country_ Haiti',\n       'native_country_ Holand-Netherlands', 'native_country_ Honduras',\n       'native_country_ Hong', 'native_country_ Hungary',\n       'native_country_ India', 'native_country_ Iran',\n       'native_country_ Ireland', 'native_country_ Italy',\n       'native_country_ Jamaica', 'native_country_ Japan',\n       'native_country_ Laos', 'native_country_ Mexico',\n       'native_country_ Nicaragua',\n       'native_country_ Outlying-US(Guam-USVI-etc)', 'native_country_ Peru',\n       'native_country_ Philippines', 'native_country_ Poland',\n       'native_country_ Portugal', 'native_country_ Puerto-Rico',\n       'native_country_ Scotland', 'native_country_ South',\n       'native_country_ Taiwan', 'native_country_ Thailand',\n       'native_country_ Trinadad&Tobago', 'native_country_ United-States',\n       'native_country_ Vietnam', 'native_country_ Yugoslavia'],\n      dtype='object')"
     },
     "metadata": {},
     "output_type": "execute_result",
     "execution_count": 63
    }
   ],
   "source": [
    "# 看看编码后的结果\n",
    "data.columns"
   ]
  },
  {
   "cell_type": "code",
   "execution_count": 64,
   "metadata": {
    "pycharm": {
     "is_executing": false,
     "name": "#%%\n"
    }
   },
   "outputs": [
    {
     "data": {
      "text/plain": "['age', 'education_num', 'capital_gain', 'capital_loss', 'hours_per_week']"
     },
     "metadata": {},
     "output_type": "execute_result",
     "execution_count": 64
    }
   ],
   "source": [
    "# 将非2值类型的数据进行标准化\n",
    "num = [x for x in data.columns if data[x].dtype=='int64']\n",
    "num"
   ]
  },
  {
   "cell_type": "code",
   "execution_count": 65,
   "metadata": {
    "pycharm": {
     "is_executing": false,
     "name": "#%%\n"
    }
   },
   "outputs": [],
   "source": [
    "scaler = StandardScaler()\n",
    "data.loc[:, num] = scaler.fit_transform(data.loc[:, num])"
   ]
  },
  {
   "cell_type": "code",
   "execution_count": 66,
   "metadata": {
    "pycharm": {
     "is_executing": false,
     "name": "#%%\n"
    }
   },
   "outputs": [],
   "source": [
    "train_data = data.loc[data['source']=='train',:]\n",
    "test_data = data.loc[data['source']=='test',:]"
   ]
  },
  {
   "cell_type": "code",
   "execution_count": 67,
   "metadata": {
    "pycharm": {
     "is_executing": false,
     "name": "#%%\n"
    }
   },
   "outputs": [],
   "source": [
    "# 把要预测的值income单独拿出来看看\n",
    "y_train = np.array(train_data.income)\n",
    "x_train = np.array(train_data.drop(['income','source'], axis=1))\n",
    "\n",
    "y_test = np.array(test_data.income)\n",
    "x_test = np.array(test_data.drop(['income','source'],axis=1))\n",
    "\n",
    "x_train, x_eval, y_train, y_eval = train_test_split(x_train, y_train, test_size=0.2)"
   ]
  },
  {
   "cell_type": "code",
   "execution_count": 68,
   "metadata": {
    "pycharm": {
     "is_executing": false,
     "name": "#%%\n"
    }
   },
   "outputs": [
    {
     "name": "stdout",
     "text": [
      "[1]\tvalid_0's binary_logloss: 0.524832\n",
      "Training until validation scores don't improve for 5 rounds.\n",
      "[2]\tvalid_0's binary_logloss: 0.506325\n",
      "[3]\tvalid_0's binary_logloss: 0.489903\n",
      "[4]\tvalid_0's binary_logloss: 0.47534\n",
      "[5]\tvalid_0's binary_logloss: 0.46222\n",
      "[6]\tvalid_0's binary_logloss: 0.450437\n",
      "[7]\tvalid_0's binary_logloss: 0.439595\n",
      "[8]\tvalid_0's binary_logloss: 0.429926\n",
      "[9]\tvalid_0's binary_logloss: 0.420821\n",
      "[10]\tvalid_0's binary_logloss: 0.412368\n",
      "[11]\tvalid_0's binary_logloss: 0.404695\n",
      "[12]\tvalid_0's binary_logloss: 0.3977\n",
      "[13]\tvalid_0's binary_logloss: 0.390844\n",
      "[14]\tvalid_0's binary_logloss: 0.384486\n",
      "[15]\tvalid_0's binary_logloss: 0.378903\n",
      "[16]\tvalid_0's binary_logloss: 0.373466\n",
      "[17]\tvalid_0's binary_logloss: 0.368684\n",
      "[18]\tvalid_0's binary_logloss: 0.364092\n",
      "[19]\tvalid_0's binary_logloss: 0.359685\n",
      "[20]\tvalid_0's binary_logloss: 0.355603\n",
      "[21]\tvalid_0's binary_logloss: 0.351897\n",
      "[22]\tvalid_0's binary_logloss: 0.348408\n",
      "[23]\tvalid_0's binary_logloss: 0.345096\n",
      "[24]\tvalid_0's binary_logloss: 0.341877\n",
      "[25]\tvalid_0's binary_logloss: 0.338966\n",
      "[26]\tvalid_0's binary_logloss: 0.336175\n",
      "[27]\tvalid_0's binary_logloss: 0.33365\n",
      "[28]\tvalid_0's binary_logloss: 0.331179\n",
      "[29]\tvalid_0's binary_logloss: 0.32872\n",
      "[30]\tvalid_0's binary_logloss: 0.326494\n",
      "[31]\tvalid_0's binary_logloss: 0.324468\n",
      "[32]\tvalid_0's binary_logloss: 0.322503\n",
      "[33]\tvalid_0's binary_logloss: 0.320669\n",
      "[34]\tvalid_0's binary_logloss: 0.318872\n",
      "[35]\tvalid_0's binary_logloss: 0.317014\n",
      "[36]\tvalid_0's binary_logloss: 0.315316\n",
      "[37]\tvalid_0's binary_logloss: 0.313817\n",
      "[38]\tvalid_0's binary_logloss: 0.312307\n",
      "[39]\tvalid_0's binary_logloss: 0.310959\n",
      "[40]\tvalid_0's binary_logloss: 0.309721\n",
      "[41]\tvalid_0's binary_logloss: 0.308355\n",
      "[42]\tvalid_0's binary_logloss: 0.307127\n",
      "[43]\tvalid_0's binary_logloss: 0.306148\n",
      "[44]\tvalid_0's binary_logloss: 0.305026\n",
      "[45]\tvalid_0's binary_logloss: 0.304129\n",
      "[46]\tvalid_0's binary_logloss: 0.30322\n",
      "[47]\tvalid_0's binary_logloss: 0.302461\n",
      "[48]\tvalid_0's binary_logloss: 0.301725\n",
      "[49]\tvalid_0's binary_logloss: 0.300884\n",
      "[50]\tvalid_0's binary_logloss: 0.300127\n",
      "[51]\tvalid_0's binary_logloss: 0.299575\n",
      "[52]\tvalid_0's binary_logloss: 0.298875\n",
      "[53]\tvalid_0's binary_logloss: 0.298215\n",
      "[54]\tvalid_0's binary_logloss: 0.297618\n",
      "[55]\tvalid_0's binary_logloss: 0.297019\n",
      "[56]\tvalid_0's binary_logloss: 0.29643\n",
      "[57]\tvalid_0's binary_logloss: 0.295849\n",
      "[58]\tvalid_0's binary_logloss: 0.295479\n",
      "[59]\tvalid_0's binary_logloss: 0.294954\n",
      "[60]\tvalid_0's binary_logloss: 0.294526\n",
      "[61]\tvalid_0's binary_logloss: 0.294059\n",
      "[62]\tvalid_0's binary_logloss: 0.2936\n",
      "[63]\tvalid_0's binary_logloss: 0.293169\n",
      "[64]\tvalid_0's binary_logloss: 0.292903\n",
      "[65]\tvalid_0's binary_logloss: 0.292066\n",
      "[66]\tvalid_0's binary_logloss: 0.291741\n",
      "[67]\tvalid_0's binary_logloss: 0.290994\n",
      "[68]\tvalid_0's binary_logloss: 0.290776\n",
      "[69]\tvalid_0's binary_logloss: 0.290416\n",
      "[70]\tvalid_0's binary_logloss: 0.290013\n",
      "[71]\tvalid_0's binary_logloss: 0.289265\n",
      "[72]\tvalid_0's binary_logloss: 0.288879\n",
      "[73]\tvalid_0's binary_logloss: 0.288609\n",
      "[74]\tvalid_0's binary_logloss: 0.288093\n",
      "[75]\tvalid_0's binary_logloss: 0.287797\n",
      "[76]\tvalid_0's binary_logloss: 0.287435\n",
      "[77]\tvalid_0's binary_logloss: 0.287234\n",
      "[78]\tvalid_0's binary_logloss: 0.286984\n",
      "[79]\tvalid_0's binary_logloss: 0.286839\n",
      "[80]\tvalid_0's binary_logloss: 0.286704\n",
      "[81]\tvalid_0's binary_logloss: 0.2864\n",
      "[82]\tvalid_0's binary_logloss: 0.285808\n",
      "[83]\tvalid_0's binary_logloss: 0.285504\n",
      "[84]\tvalid_0's binary_logloss: 0.285298\n",
      "[85]\tvalid_0's binary_logloss: 0.285184\n",
      "[86]\tvalid_0's binary_logloss: 0.284981\n",
      "[87]\tvalid_0's binary_logloss: 0.284381\n",
      "[88]\tvalid_0's binary_logloss: 0.284159\n",
      "[89]\tvalid_0's binary_logloss: 0.283903\n",
      "[90]\tvalid_0's binary_logloss: 0.283748\n",
      "[91]\tvalid_0's binary_logloss: 0.283576\n",
      "[92]\tvalid_0's binary_logloss: 0.283075\n",
      "[93]\tvalid_0's binary_logloss: 0.282836\n",
      "[94]\tvalid_0's binary_logloss: 0.282646\n",
      "[95]\tvalid_0's binary_logloss: 0.282528\n",
      "[96]\tvalid_0's binary_logloss: 0.282368\n",
      "[97]\tvalid_0's binary_logloss: 0.282193\n",
      "[98]\tvalid_0's binary_logloss: 0.282186\n",
      "[99]\tvalid_0's binary_logloss: 0.281719\n",
      "[100]\tvalid_0's binary_logloss: 0.281508\n",
      "Did not meet early stopping. Best iteration is:\n",
      "[100]\tvalid_0's binary_logloss: 0.281508\n"
     ],
     "output_type": "stream"
    }
   ],
   "source": [
    "# 参数，官方文档给出的如下\n",
    "\"\"\"\n",
    "    (boosting_type='gbdt', num_leaves=31, max_depth=-1, \n",
    "    learning_rate=0.1, n_estimators=100, subsample_for_bin=200000, \n",
    "    objective=None, class_weight=None, min_split_gain=0.0, \n",
    "    min_child_weight=0.001, min_child_samples=20, subsample=1.0, \n",
    "    subsample_freq=0, colsample_bytree=1.0, reg_alpha=0.0, \n",
    "    reg_lambda=0.0, random_state=None, n_jobs=-1, \n",
    "    silent=True, importance_type='split', **kwargs)\n",
    "\"\"\"\n",
    "\n",
    "# 由于lightGBM是leaves_wise生长，官方说法是要num_leaves小于2^max_depth\n",
    "# 定义模型并开始训练\n",
    "\n",
    "lgbm_start = datetime.datetime.now()\n",
    "lgbm = LGBMClassifier(num_leaves=100, max_depth=7, learning_rate=0.05)\n",
    "lgbm.fit(x_train, y_train, eval_set=(x_eval, y_eval), \n",
    "         early_stopping_rounds=5)\n",
    "lgbm_end = datetime.datetime.now()"
   ]
  },
  {
   "cell_type": "code",
   "execution_count": 69,
   "metadata": {
    "pycharm": {
     "is_executing": false,
     "name": "#%%\n"
    }
   },
   "outputs": [
    {
     "name": "stdout",
     "text": [
      "0:00:00.337156\n"
     ],
     "output_type": "stream"
    }
   ],
   "source": [
    "print(lgbm_end - lgbm_start)"
   ]
  },
  {
   "cell_type": "code",
   "execution_count": 70,
   "metadata": {
    "pycharm": {
     "is_executing": false,
     "name": "#%%\n"
    }
   },
   "outputs": [
    {
     "name": "stdout",
     "text": [
      "\n",
      "accuracy_score on train dataset :  0.8757294226044227\n",
      "roc_score on train dataset :  0.7960342141161024\n",
      "Report on train dataset :  \n",
      "               precision    recall  f1-score   support\n",
      "\n",
      "           0       0.89      0.95      0.92     19743\n",
      "           1       0.81      0.64      0.71      6305\n",
      "\n",
      "    accuracy                           0.88     26048\n",
      "   macro avg       0.85      0.80      0.82     26048\n",
      "weighted avg       0.87      0.88      0.87     26048\n",
      "\n",
      "--------------------------------------------------\n",
      "\n",
      "accuracy_score on test dataset :  0.8722437196732388\n",
      "roc_score on test dataset :  0.7872382880839962\n",
      "Report on test dataset :  \n",
      "               precision    recall  f1-score   support\n",
      "\n",
      "           0       0.89      0.95      0.92     12435\n",
      "           1       0.79      0.63      0.70      3846\n",
      "\n",
      "    accuracy                           0.87     16281\n",
      "   macro avg       0.84      0.79      0.81     16281\n",
      "weighted avg       0.87      0.87      0.87     16281\n",
      "\n"
     ],
     "output_type": "stream"
    }
   ],
   "source": [
    "# svm,lightBGM,ANN比较\n",
    "# predict the target on the train dataset\n",
    "predict_train_y = lgbm.predict(x_train)\n",
    "\n",
    "# 查看模型在训练集上的精度\n",
    "accuracy_train = accuracy_score(y_train, predict_train_y)\n",
    "print('\\naccuracy_score on train dataset : ', accuracy_train)\n",
    "print('roc_score on train dataset : ', roc_auc_score(y_train, predict_train_y))\n",
    "print('Report on train dataset : ','\\n', classification_report(y_train, predict_train_y))\n",
    "\n",
    "# predict the target on the test dataset\n",
    "predict_test_y = lgbm.predict(x_test)\n",
    "\n",
    "print('-' * 50) # 分隔符\n",
    "# 查看模型在测试集上的精度\n",
    "accuracy_test = accuracy_score(y_test, predict_test_y)\n",
    "print('\\naccuracy_score on test dataset : ', accuracy_test)\n",
    "print('roc_score on test dataset : ', roc_auc_score(y_test,predict_test_y))\n",
    "print('Report on test dataset : ','\\n', classification_report(y_test, predict_test_y))\n",
    "\n"
   ]
  },
  {
   "cell_type": "code",
   "execution_count": 71,
   "metadata": {
    "pycharm": {
     "is_executing": false,
     "name": "#%%\n"
    }
   },
   "outputs": [
    {
     "data": {
      "text/plain": "array([[11793,   642],\n       [ 1438,  2408]], dtype=int64)"
     },
     "metadata": {},
     "output_type": "execute_result",
     "execution_count": 71
    }
   ],
   "source": [
    "# 获得混淆矩阵\n",
    "lgbm_confusion_matrix = confusion_matrix(y_test, predict_test_y)\n",
    "lgbm_confusion_matrix\n"
   ]
  },
  {
   "cell_type": "code",
   "execution_count": 72,
   "metadata": {
    "pycharm": {
     "is_executing": false,
     "name": "#%%\n"
    }
   },
   "outputs": [
    {
     "name": "stdout",
     "text": [
      "Confusion matrix, without normalization\n",
      "[[11793   642]\n",
      " [ 1438  2408]]\n"
     ],
     "output_type": "stream"
    },
    {
     "data": {
      "text/plain": "<Figure size 432x288 with 2 Axes>",
      "image/png": "[encoded data removed]"
     },
     "metadata": {
      "needs_background": "light"
     },
     "output_type": "display_data"
    }
   ],
   "source": [
    "# 使用混淆图函数\n",
    "types = ['0', '1']\n",
    "plot_confusion_matrix(lgbm_confusion_matrix, classes=types, normalize=False,\n",
    "                      title='confusion matrix for Light GBM Classifier')"
   ]
  },
  {
   "cell_type": "code",
   "execution_count": 72,
   "outputs": [],
   "source": [],
   "metadata": {
    "collapsed": false,
    "pycharm": {
     "name": "#%%\n",
     "is_executing": false
    }
   }
  }
 ],
 "metadata": {
  "kernelspec": {
   "display_name": "Python 3",
   "language": "python",
   "name": "python3"
  },
  "language_info": {
   "codemirror_mode": {
    "name": "ipython",
    "version": 3
   },
   "file_extension": ".py",
   "mimetype": "text/x-python",
   "name": "python",
   "nbconvert_exporter": "python",
   "pygments_lexer": "ipython3",
   "version": "3.7.3"
  },
  "pycharm": {
   "stem_cell": {
    "cell_type": "raw",
    "source": [],
    "metadata": {
     "collapsed": false
    }
   }
  }
 },
 "nbformat": 4,
 "nbformat_minor": 1
}