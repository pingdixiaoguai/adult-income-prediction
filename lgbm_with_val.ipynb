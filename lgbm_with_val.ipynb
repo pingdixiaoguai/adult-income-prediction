{
 "cells": [
  {
   "cell_type": "code",
   "execution_count": 197,
   "outputs": [],
   "source": [
    "# 导包\n",
    "import pandas as pd\n",
    "import numpy as np\n",
    "import itertools\n",
    "import matplotlib.pyplot as plt\n",
    "\n",
    "from sklearn.metrics import confusion_matrix\n",
    "from sklearn.metrics import accuracy_score\n",
    "from lightgbm import LGBMClassifier\n",
    "from sklearn.model_selection import train_test_split"
   ],
   "metadata": {
    "collapsed": false,
    "pycharm": {
     "name": "#%%\n",
     "is_executing": false
    }
   }
  },
  {
   "cell_type": "code",
   "execution_count": 198,
   "outputs": [],
   "source": [
    "# 读取数据\n",
    "# 根据题意，先把header设置好\n",
    "headers = ['age', 'workclass', 'fnlwgt',\n",
    "           'education', 'education_num', 'marital_status',\n",
    "           'occupation', 'relationship', 'race',\n",
    "           'sex', 'capital_gain', 'capital_loss',\n",
    "           'hours_per_week', 'native_country', 'income']\n",
    "\n",
    "# 读取训练集进入内存\n",
    "train_data = pd.read_csv(\"data/adult_train.csv\",names=headers)\n",
    "\n",
    "# 对于测试集，他的第一行是一个分隔，不读入\n",
    "test_data = pd.read_csv(\"data/adult_test.csv\",names=headers,skiprows=[0])"
   ],
   "metadata": {
    "collapsed": false,
    "pycharm": {
     "name": "#%%\n",
     "is_executing": false
    }
   }
  },
  {
   "cell_type": "code",
   "execution_count": 199,
   "outputs": [
    {
     "data": {
      "text/plain": "age                int64\nworkclass         object\nfnlwgt             int64\neducation         object\neducation_num      int64\nmarital_status    object\noccupation        object\nrelationship      object\nrace              object\nsex               object\ncapital_gain       int64\ncapital_loss       int64\nhours_per_week     int64\nnative_country    object\nincome            object\ndtype: object"
     },
     "metadata": {},
     "output_type": "execute_result",
     "execution_count": 199
    }
   ],
   "source": [
    "# 查看各类数据类型\n",
    "train_data.dtypes"
   ],
   "metadata": {
    "collapsed": false,
    "pycharm": {
     "name": "#%%\n",
     "is_executing": false
    }
   }
  },
  {
   "cell_type": "code",
   "execution_count": 200,
   "outputs": [
    {
     "data": {
      "text/plain": "(32561, 15)"
     },
     "metadata": {},
     "output_type": "execute_result",
     "execution_count": 200
    }
   ],
   "source": [
    "# 看看训练集有多少数据\n",
    "train_data.shape"
   ],
   "metadata": {
    "collapsed": false,
    "pycharm": {
     "name": "#%%\n",
     "is_executing": false
    }
   }
  },
  {
   "cell_type": "code",
   "execution_count": 201,
   "outputs": [
    {
     "data": {
      "text/plain": "                age        fnlwgt  education_num  capital_gain  capital_loss  \\\ncount  32561.000000  3.256100e+04   32561.000000  32561.000000  32561.000000   \nmean      38.581647  1.897784e+05      10.080679   1077.648844     87.303830   \nstd       13.640433  1.055500e+05       2.572720   7385.292085    402.960219   \nmin       17.000000  1.228500e+04       1.000000      0.000000      0.000000   \n25%       28.000000  1.178270e+05       9.000000      0.000000      0.000000   \n50%       37.000000  1.783560e+05      10.000000      0.000000      0.000000   \n75%       48.000000  2.370510e+05      12.000000      0.000000      0.000000   \nmax       90.000000  1.484705e+06      16.000000  99999.000000   4356.000000   \n\n       hours_per_week  \ncount    32561.000000  \nmean        40.437456  \nstd         12.347429  \nmin          1.000000  \n25%         40.000000  \n50%         40.000000  \n75%         45.000000  \nmax         99.000000  ",
      "text/html": "<div>\n<style scoped>\n    .dataframe tbody tr th:only-of-type {\n        vertical-align: middle;\n    }\n\n    .dataframe tbody tr th {\n        vertical-align: top;\n    }\n\n    .dataframe thead th {\n        text-align: right;\n    }\n</style>\n<table border=\"1\" class=\"dataframe\">\n  <thead>\n    <tr style=\"text-align: right;\">\n      <th></th>\n      <th>age</th>\n      <th>fnlwgt</th>\n      <th>education_num</th>\n      <th>capital_gain</th>\n      <th>capital_loss</th>\n      <th>hours_per_week</th>\n    </tr>\n  </thead>\n  <tbody>\n    <tr>\n      <th>count</th>\n      <td>32561.000000</td>\n      <td>3.256100e+04</td>\n      <td>32561.000000</td>\n      <td>32561.000000</td>\n      <td>32561.000000</td>\n      <td>32561.000000</td>\n    </tr>\n    <tr>\n      <th>mean</th>\n      <td>38.581647</td>\n      <td>1.897784e+05</td>\n      <td>10.080679</td>\n      <td>1077.648844</td>\n      <td>87.303830</td>\n      <td>40.437456</td>\n    </tr>\n    <tr>\n      <th>std</th>\n      <td>13.640433</td>\n      <td>1.055500e+05</td>\n      <td>2.572720</td>\n      <td>7385.292085</td>\n      <td>402.960219</td>\n      <td>12.347429</td>\n    </tr>\n    <tr>\n      <th>min</th>\n      <td>17.000000</td>\n      <td>1.228500e+04</td>\n      <td>1.000000</td>\n      <td>0.000000</td>\n      <td>0.000000</td>\n      <td>1.000000</td>\n    </tr>\n    <tr>\n      <th>25%</th>\n      <td>28.000000</td>\n      <td>1.178270e+05</td>\n      <td>9.000000</td>\n      <td>0.000000</td>\n      <td>0.000000</td>\n      <td>40.000000</td>\n    </tr>\n    <tr>\n      <th>50%</th>\n      <td>37.000000</td>\n      <td>1.783560e+05</td>\n      <td>10.000000</td>\n      <td>0.000000</td>\n      <td>0.000000</td>\n      <td>40.000000</td>\n    </tr>\n    <tr>\n      <th>75%</th>\n      <td>48.000000</td>\n      <td>2.370510e+05</td>\n      <td>12.000000</td>\n      <td>0.000000</td>\n      <td>0.000000</td>\n      <td>45.000000</td>\n    </tr>\n    <tr>\n      <th>max</th>\n      <td>90.000000</td>\n      <td>1.484705e+06</td>\n      <td>16.000000</td>\n      <td>99999.000000</td>\n      <td>4356.000000</td>\n      <td>99.000000</td>\n    </tr>\n  </tbody>\n</table>\n</div>"
     },
     "metadata": {},
     "output_type": "execute_result",
     "execution_count": 201
    }
   ],
   "source": [
    "# 看看数据是怎么样的，平均值；最大最小值，标准差等等（只有连续性的）\n",
    "train_data.describe()"
   ],
   "metadata": {
    "collapsed": false,
    "pycharm": {
     "name": "#%%\n",
     "is_executing": false
    }
   }
  },
  {
   "cell_type": "code",
   "execution_count": 202,
   "outputs": [
    {
     "data": {
      "text/plain": "age                  0\nworkclass         1836\nfnlwgt               0\neducation            0\neducation_num        0\nmarital_status       0\noccupation        1843\nrelationship         0\nrace                 0\nsex                  0\ncapital_gain         0\ncapital_loss         0\nhours_per_week       0\nnative_country     583\nincome               0\ndtype: int64"
     },
     "metadata": {},
     "output_type": "execute_result",
     "execution_count": 202
    }
   ],
   "source": [
    "# 数据中有一些值是？，用python的NaN代替方便以后直接当作空值处理\n",
    "train_data = train_data.replace('[?]', np.NaN, regex=True)\n",
    "test_data = test_data.replace('[?]', np.NaN, regex=True)\n",
    "# 看看数据里有NaN的各类有多少\n",
    "train_data.isnull().sum()"
   ],
   "metadata": {
    "collapsed": false,
    "pycharm": {
     "name": "#%%\n",
     "is_executing": false
    }
   }
  },
  {
   "cell_type": "code",
   "execution_count": 203,
   "outputs": [
    {
     "data": {
      "text/plain": "age               0\nworkclass         0\nfnlwgt            0\neducation         0\neducation_num     0\nmarital_status    0\noccupation        0\nrelationship      0\nrace              0\nsex               0\ncapital_gain      0\ncapital_loss      0\nhours_per_week    0\nnative_country    0\nincome            0\ndtype: int64"
     },
     "metadata": {},
     "output_type": "execute_result",
     "execution_count": 203
    }
   ],
   "source": [
    "# 对于缺失属性的数据直接删除\n",
    "train_data = train_data.dropna()\n",
    "train_data.isnull().sum()"
   ],
   "metadata": {
    "collapsed": false,
    "pycharm": {
     "name": "#%%\n",
     "is_executing": false
    }
   }
  },
  {
   "cell_type": "code",
   "execution_count": 204,
   "outputs": [],
   "source": [
    "# 开始处理离散数据\n",
    "# income我们需要将其映射一下\n",
    "# 先将>=50K的映射成0，<=50K的设置为1\n",
    "income_map = {' <=50K':1,' >50K':0}\n",
    "income_map2 = {' <=50K.':1, ' >50K.':0}\n",
    "train_data['income'] = train_data['income'].map(income_map).astype(int)\n",
    "test_data['income'] = test_data['income'].map(income_map2).astype(int)\n"
   ],
   "metadata": {
    "collapsed": false,
    "pycharm": {
     "name": "#%%\n",
     "is_executing": false
    }
   }
  },
  {
   "cell_type": "code",
   "execution_count": 205,
   "outputs": [
    {
     "data": {
      "text/plain": "['workclass',\n 'education',\n 'marital_status',\n 'occupation',\n 'relationship',\n 'race',\n 'sex',\n 'native_country']"
     },
     "metadata": {},
     "output_type": "execute_result",
     "execution_count": 205
    }
   ],
   "source": [
    "# 取出所有的离散量属性\n",
    "discrete = [x for x in train_data.columns if train_data[x].dtype=='object']\n",
    "discrete"
   ],
   "metadata": {
    "collapsed": false,
    "pycharm": {
     "name": "#%%\n",
     "is_executing": false
    }
   }
  },
  {
   "cell_type": "code",
   "execution_count": 206,
   "outputs": [
    {
     "name": "stdout",
     "text": [
      " Private             22286\n Self-emp-not-inc     2499\n Local-gov            2067\n State-gov            1279\n Self-emp-inc         1074\n Federal-gov           943\n Without-pay            14\nName: workclass, dtype: int64\n HS-grad         9840\n Some-college    6678\n Bachelors       5044\n Masters         1627\n Assoc-voc       1307\n 11th            1048\n Assoc-acdm      1008\n 10th             820\n 7th-8th          557\n Prof-school      542\n 9th              455\n 12th             377\n Doctorate        375\n 5th-6th          288\n 1st-4th          151\n Preschool         45\nName: education, dtype: int64\n Married-civ-spouse       14065\n Never-married             9726\n Divorced                  4214\n Separated                  939\n Widowed                    827\n Married-spouse-absent      370\n Married-AF-spouse           21\nName: marital_status, dtype: int64\n Prof-specialty       4038\n Craft-repair         4030\n Exec-managerial      3992\n Adm-clerical         3721\n Sales                3584\n Other-service        3212\n Machine-op-inspct    1966\n Transport-moving     1572\n Handlers-cleaners    1350\n Farming-fishing       989\n Tech-support          912\n Protective-serv       644\n Priv-house-serv       143\n Armed-Forces            9\nName: occupation, dtype: int64\n Husband           12463\n Not-in-family      7726\n Own-child          4466\n Unmarried          3212\n Wife               1406\n Other-relative      889\nName: relationship, dtype: int64\n White                 25933\n Black                  2817\n Asian-Pac-Islander      895\n Amer-Indian-Eskimo      286\n Other                   231\nName: race, dtype: int64\n Male      20380\n Female     9782\nName: sex, dtype: int64\n United-States                 27504\n Mexico                          610\n Philippines                     188\n Germany                         128\n Puerto-Rico                     109\n Canada                          107\n El-Salvador                     100\n India                           100\n Cuba                             92\n England                          86\n Jamaica                          80\n South                            71\n Italy                            68\n China                            68\n Dominican-Republic               67\n Vietnam                          64\n Guatemala                        63\n Japan                            59\n Poland                           56\n Columbia                         56\n Haiti                            42\n Iran                             42\n Taiwan                           42\n Portugal                         34\n Nicaragua                        33\n Peru                             30\n Greece                           29\n France                           27\n Ecuador                          27\n Ireland                          24\n Hong                             19\n Cambodia                         18\n Trinadad&Tobago                  18\n Thailand                         17\n Laos                             17\n Yugoslavia                       16\n Outlying-US(Guam-USVI-etc)       14\n Hungary                          13\n Honduras                         12\n Scotland                         11\n Holand-Netherlands                1\nName: native_country, dtype: int64\n"
     ],
     "output_type": "stream"
    }
   ],
   "source": [
    "# 看看这些离散量属性的取值分布\n",
    "for i in discrete:\n",
    "    print(train_data[i].value_counts())\n",
    "    "
   ],
   "metadata": {
    "collapsed": false,
    "pycharm": {
     "name": "#%%\n",
     "is_executing": false
    }
   }
  },
  {
   "cell_type": "code",
   "execution_count": 207,
   "outputs": [],
   "source": [
    "# 发现有一些是比较接近重叠的，将这些重叠的归到同一类\n",
    "# 大致可以把gov有关的一类，Private一类，Self-emp一类，没工作的一类\n",
    "train_data['workclass'] = train_data['workclass'].replace([' Self-emp-not-inc', ' Self-emp-inc'],' Self-emp')\n",
    "train_data['workclass'] = train_data['workclass'].replace([' Federal-gov', ' Local-gov', ' State-gov'], ' Gov')\n",
    "train_data['workclass'] = train_data['workclass'].replace([' Without-pay', ' Never-worked'], ' Un-emp')\n",
    "train_data['workclass'].value_counts()                                                         \n",
    "\n",
    "test_data['workclass'] = test_data['workclass'].replace([' Self-emp-not-inc', ' Self-emp-inc'],' Self-emp')\n",
    "test_data['workclass'] = test_data['workclass'].replace([' Federal-gov', ' Local-gov', ' State-gov'], ' Gov')\n",
    "test_data['workclass'] = test_data['workclass'].replace([' Without-pay', ' Never-worked'], ' Un-emp')"
   ],
   "metadata": {
    "collapsed": false,
    "pycharm": {
     "name": "#%%\n",
     "is_executing": false
    }
   }
  },
  {
   "cell_type": "code",
   "execution_count": 208,
   "outputs": [],
   "source": [
    "# 同理对marital_status进行归类\n",
    "train_data['marital_status'] = train_data['marital_status'].replace([' Divorced',' Married-spouse-absent',' Never-married',' Separated',' Widowed'],' Single')\n",
    "train_data['marital_status'] = train_data['marital_status'].replace([' Married-civ-spouse', ' Married-AF-spouse'], ' Couple')\n",
    "train_data['marital_status'].value_counts()\n",
    "\n",
    "test_data['marital_status'] = test_data['marital_status'].replace([' Divorced',' Married-spouse-absent',' Never-married',' Separated',' Widowed'],' Single')\n",
    "test_data['marital_status'] = test_data['marital_status'].replace([' Married-civ-spouse', ' Married-AF-spouse'], ' Couple')"
   ],
   "metadata": {
    "collapsed": false,
    "pycharm": {
     "name": "#%%\n",
     "is_executing": false
    }
   }
  },
  {
   "cell_type": "code",
   "execution_count": 209,
   "outputs": [
    {
     "data": {
      "text/plain": " United-States         27504\n Mexico                  610\n Other                   486\n Philippines             188\n Germany                 128\n Puerto-Rico             109\n Canada                  107\n El-Salvador             100\n India                   100\n Cuba                     92\n England                  86\n Jamaica                  80\n South                    71\n China                    68\n Italy                    68\n Dominican-Republic       67\n Vietnam                  64\n Guatemala                63\n Japan                    59\n Poland                   56\n Columbia                 56\nName: native_country, dtype: int64"
     },
     "metadata": {},
     "output_type": "execute_result",
     "execution_count": 209
    }
   ],
   "source": [
    "# native_country这个分类太多了，而且很多类的人很少，干脆把人少的都归到other里\n",
    "train_data['native_country'] = train_data['native_country'].replace([' Holand-Netherlands',' Scotland', ' Honduras', \n",
    "                                                                     ' Hungary', ' Outlying-US(Guam-USVI-etc)', ' Yugoslavia', \n",
    "                                                                     ' Laos', ' Thailand', ' Cambodia', \n",
    "                                                                     ' Trinadad&Tobago', ' Hong', ' Ireland', \n",
    "                                                                     ' France',' Ecuador', ' Greece', ' Peru', \n",
    "                                                                     ' Nicaragua', ' Portugal', ' Iran', \n",
    "                                                                     ' Taiwan', ' Haiti'], ' Other')\n",
    "\n",
    "test_data['native_country'] = test_data['native_country'].replace([' Holand-Netherlands',' Scotland', ' Honduras', \n",
    "                                                                     ' Hungary', ' Outlying-US(Guam-USVI-etc)', ' Yugoslavia', \n",
    "                                                                     ' Laos', ' Thailand', ' Cambodia', \n",
    "                                                                     ' Trinadad&Tobago', ' Hong', ' Ireland', \n",
    "                                                                     ' France',' Ecuador', ' Greece', ' Peru', \n",
    "                                                                     ' Nicaragua', ' Portugal', ' Iran', \n",
    "                                                                     ' Taiwan', ' Haiti'], ' Other')\n",
    "train_data['native_country'].value_counts()"
   ],
   "metadata": {
    "collapsed": false,
    "pycharm": {
     "name": "#%%\n",
     "is_executing": false
    }
   }
  },
  {
   "cell_type": "code",
   "execution_count": 210,
   "outputs": [
    {
     "data": {
      "text/plain": " HS-grad         9840\n Some-college    6678\n Bachelors       5044\n Masters         1627\n Assoc-voc       1307\n 11th            1048\n Assoc-acdm      1008\n 10th             820\n 7th-8th          557\n Prof-school      542\n 9th              455\n 12th             377\n Doctorate        375\n 5th-6th          288\n 1st-4th          151\n Preschool         45\nName: education, dtype: int64"
     },
     "metadata": {},
     "output_type": "execute_result",
     "execution_count": 210
    }
   ],
   "source": [
    "# 最后，看看education_num这个连续量\n",
    "train_data['education'].value_counts()"
   ],
   "metadata": {
    "collapsed": false,
    "pycharm": {
     "name": "#%%\n",
     "is_executing": false
    }
   }
  },
  {
   "cell_type": "code",
   "execution_count": 211,
   "outputs": [],
   "source": [
    "# 发现跟education一样的，重复了，因为eudcation是离散的，不好处理。去掉这个属性\n",
    "train_data = train_data.drop(columns=['education'])\n",
    "test_data = test_data.drop(columns=['education'])"
   ],
   "metadata": {
    "collapsed": false,
    "pycharm": {
     "name": "#%%\n",
     "is_executing": false
    }
   }
  },
  {
   "cell_type": "code",
   "execution_count": 212,
   "outputs": [
    {
     "data": {
      "text/plain": "                     age    fnlwgt  education_num  capital_gain  capital_loss  \\\nage             1.000000 -0.076511       0.043526      0.080154      0.060165   \nfnlwgt         -0.076511  1.000000      -0.044992      0.000422     -0.009750   \neducation_num   0.043526 -0.044992       1.000000      0.124416      0.079646   \ncapital_gain    0.080154  0.000422       0.124416      1.000000     -0.032229   \ncapital_loss    0.060165 -0.009750       0.079646     -0.032229      1.000000   \nhours_per_week  0.101599 -0.022886       0.152522      0.080432      0.052417   \nincome         -0.241998  0.008957      -0.335286     -0.221196     -0.150053   \n\n                hours_per_week    income  \nage                   0.101599 -0.241998  \nfnlwgt               -0.022886  0.008957  \neducation_num         0.152522 -0.335286  \ncapital_gain          0.080432 -0.221196  \ncapital_loss          0.052417 -0.150053  \nhours_per_week        1.000000 -0.229480  \nincome               -0.229480  1.000000  ",
      "text/html": "<div>\n<style scoped>\n    .dataframe tbody tr th:only-of-type {\n        vertical-align: middle;\n    }\n\n    .dataframe tbody tr th {\n        vertical-align: top;\n    }\n\n    .dataframe thead th {\n        text-align: right;\n    }\n</style>\n<table border=\"1\" class=\"dataframe\">\n  <thead>\n    <tr style=\"text-align: right;\">\n      <th></th>\n      <th>age</th>\n      <th>fnlwgt</th>\n      <th>education_num</th>\n      <th>capital_gain</th>\n      <th>capital_loss</th>\n      <th>hours_per_week</th>\n      <th>income</th>\n    </tr>\n  </thead>\n  <tbody>\n    <tr>\n      <th>age</th>\n      <td>1.000000</td>\n      <td>-0.076511</td>\n      <td>0.043526</td>\n      <td>0.080154</td>\n      <td>0.060165</td>\n      <td>0.101599</td>\n      <td>-0.241998</td>\n    </tr>\n    <tr>\n      <th>fnlwgt</th>\n      <td>-0.076511</td>\n      <td>1.000000</td>\n      <td>-0.044992</td>\n      <td>0.000422</td>\n      <td>-0.009750</td>\n      <td>-0.022886</td>\n      <td>0.008957</td>\n    </tr>\n    <tr>\n      <th>education_num</th>\n      <td>0.043526</td>\n      <td>-0.044992</td>\n      <td>1.000000</td>\n      <td>0.124416</td>\n      <td>0.079646</td>\n      <td>0.152522</td>\n      <td>-0.335286</td>\n    </tr>\n    <tr>\n      <th>capital_gain</th>\n      <td>0.080154</td>\n      <td>0.000422</td>\n      <td>0.124416</td>\n      <td>1.000000</td>\n      <td>-0.032229</td>\n      <td>0.080432</td>\n      <td>-0.221196</td>\n    </tr>\n    <tr>\n      <th>capital_loss</th>\n      <td>0.060165</td>\n      <td>-0.009750</td>\n      <td>0.079646</td>\n      <td>-0.032229</td>\n      <td>1.000000</td>\n      <td>0.052417</td>\n      <td>-0.150053</td>\n    </tr>\n    <tr>\n      <th>hours_per_week</th>\n      <td>0.101599</td>\n      <td>-0.022886</td>\n      <td>0.152522</td>\n      <td>0.080432</td>\n      <td>0.052417</td>\n      <td>1.000000</td>\n      <td>-0.229480</td>\n    </tr>\n    <tr>\n      <th>income</th>\n      <td>-0.241998</td>\n      <td>0.008957</td>\n      <td>-0.335286</td>\n      <td>-0.221196</td>\n      <td>-0.150053</td>\n      <td>-0.229480</td>\n      <td>1.000000</td>\n    </tr>\n  </tbody>\n</table>\n</div>"
     },
     "metadata": {},
     "output_type": "execute_result",
     "execution_count": 212
    }
   ],
   "source": [
    "# 看看相关系数矩阵,检查一下连续变量。发现序号属性不太影响最后的收入\n",
    "train_data.corr()"
   ],
   "metadata": {
    "collapsed": false,
    "pycharm": {
     "name": "#%%\n",
     "is_executing": false
    }
   }
  },
  {
   "cell_type": "code",
   "execution_count": 213,
   "outputs": [],
   "source": [
    "# 把序号属性删掉\n",
    "train_data = train_data.drop(columns=['fnlwgt'])\n",
    "test_data = test_data.drop(columns=['fnlwgt'])"
   ],
   "metadata": {
    "collapsed": false,
    "pycharm": {
     "name": "#%%\n",
     "is_executing": false
    }
   }
  },
  {
   "cell_type": "code",
   "execution_count": 214,
   "outputs": [],
   "source": [
    "# 再次取离散量和连续量类别以备后用\n",
    "discrete = [x for x in train_data.columns if train_data[x].dtype=='object']\n",
    "continues = [x for x in train_data.columns if train_data[x].dtype=='int64']"
   ],
   "metadata": {
    "collapsed": false,
    "pycharm": {
     "name": "#%%\n",
     "is_executing": false
    }
   }
  },
  {
   "cell_type": "code",
   "execution_count": 215,
   "outputs": [],
   "source": [
    "# 进行one-hot编码\n",
    "train_data = pd.get_dummies(train_data, columns=['workclass', 'marital_status', 'occupation',\n",
    "                                                 'relationship', 'race', 'sex',\n",
    "                                                 'native_country'])\n",
    "\n",
    "test_data = pd.get_dummies(test_data, columns=['workclass', 'marital_status', 'occupation',\n",
    "                                                 'relationship', 'race', 'sex',\n",
    "                                                 'native_country'])"
   ],
   "metadata": {
    "collapsed": false,
    "pycharm": {
     "name": "#%%\n",
     "is_executing": false
    }
   }
  },
  {
   "cell_type": "code",
   "execution_count": 216,
   "outputs": [
    {
     "name": "stdout",
     "text": [
      "(24129, 59)\n(24129,)\n(16281, 59)\n(16281,)\n"
     ],
     "output_type": "stream"
    }
   ],
   "source": [
    "# 因为使用的模型是决策树，无需进行标准化\n",
    "# 把要预测的值income单独拿出来\n",
    "# 当作结果\n",
    "y_total = train_data.income\n",
    "x_total = train_data.drop('income', axis=1)\n",
    "\n",
    "# 分割出训练集和交叉验证集\n",
    "# stratiy=y_total确保分割后的比例分布与原数据一致\n",
    "x_train, x_eval, y_train, y_eval = train_test_split(x_total, y_total, test_size=0.2, \n",
    "                                                    stratify=y_total) \n",
    "\n",
    "y_test = test_data.income\n",
    "x_test = test_data.drop('income', axis=1)\n",
    "\n",
    "print(x_train.shape)\n",
    "print(y_train.shape)\n",
    "\n",
    "print(x_test.shape)\n",
    "print(y_test.shape)"
   ],
   "metadata": {
    "collapsed": false,
    "pycharm": {
     "name": "#%%\n",
     "is_executing": false
    }
   }
  },
  {
   "cell_type": "code",
   "execution_count": 217,
   "outputs": [
    {
     "name": "stdout",
     "text": [
      "[1]\tvalid_0's l1: 0.356201\tvalid_0's binary_logloss: 0.516975\nTraining until validation scores don't improve for 5 rounds\n[2]\tvalid_0's l1: 0.340511\tvalid_0's binary_logloss: 0.483906\n[3]\tvalid_0's l1: 0.326652\tvalid_0's binary_logloss: 0.457862\n[4]\tvalid_0's l1: 0.314022\tvalid_0's binary_logloss: 0.436032\n[5]\tvalid_0's l1: 0.302746\tvalid_0's binary_logloss: 0.418104\n[6]\tvalid_0's l1: 0.292567\tvalid_0's binary_logloss: 0.402997\n[7]\tvalid_0's l1: 0.283333\tvalid_0's binary_logloss: 0.38994\n[8]\tvalid_0's l1: 0.275135\tvalid_0's binary_logloss: 0.378885\n[9]\tvalid_0's l1: 0.267798\tvalid_0's binary_logloss: 0.36932\n[10]\tvalid_0's l1: 0.26083\tvalid_0's binary_logloss: 0.360765\n[11]\tvalid_0's l1: 0.25467\tvalid_0's binary_logloss: 0.353249\n[12]\tvalid_0's l1: 0.249059\tvalid_0's binary_logloss: 0.346721\n[13]\tvalid_0's l1: 0.243771\tvalid_0's binary_logloss: 0.340526\n[14]\tvalid_0's l1: 0.238558\tvalid_0's binary_logloss: 0.334185\n[15]\tvalid_0's l1: 0.234243\tvalid_0's binary_logloss: 0.329544\n[16]\tvalid_0's l1: 0.230274\tvalid_0's binary_logloss: 0.325228\n[17]\tvalid_0's l1: 0.226536\tvalid_0's binary_logloss: 0.321168\n[18]\tvalid_0's l1: 0.223188\tvalid_0's binary_logloss: 0.317679\n[19]\tvalid_0's l1: 0.220075\tvalid_0's binary_logloss: 0.314412\n[20]\tvalid_0's l1: 0.217233\tvalid_0's binary_logloss: 0.311368\n[21]\tvalid_0's l1: 0.214513\tvalid_0's binary_logloss: 0.30861\n[22]\tvalid_0's l1: 0.212237\tvalid_0's binary_logloss: 0.306298\n[23]\tvalid_0's l1: 0.209764\tvalid_0's binary_logloss: 0.303776\n[24]\tvalid_0's l1: 0.207768\tvalid_0's binary_logloss: 0.301865\n[25]\tvalid_0's l1: 0.206073\tvalid_0's binary_logloss: 0.300251\n[26]\tvalid_0's l1: 0.204383\tvalid_0's binary_logloss: 0.2985\n[27]\tvalid_0's l1: 0.202798\tvalid_0's binary_logloss: 0.297123\n[28]\tvalid_0's l1: 0.201509\tvalid_0's binary_logloss: 0.295842\n[29]\tvalid_0's l1: 0.200232\tvalid_0's binary_logloss: 0.294802\n[30]\tvalid_0's l1: 0.199169\tvalid_0's binary_logloss: 0.293895\n[31]\tvalid_0's l1: 0.198056\tvalid_0's binary_logloss: 0.293017\n[32]\tvalid_0's l1: 0.196691\tvalid_0's binary_logloss: 0.291382\n[33]\tvalid_0's l1: 0.195375\tvalid_0's binary_logloss: 0.2899\n[34]\tvalid_0's l1: 0.194658\tvalid_0's binary_logloss: 0.289273\n[35]\tvalid_0's l1: 0.193566\tvalid_0's binary_logloss: 0.288097\n[36]\tvalid_0's l1: 0.192733\tvalid_0's binary_logloss: 0.287278\n[37]\tvalid_0's l1: 0.191668\tvalid_0's binary_logloss: 0.286302\n[38]\tvalid_0's l1: 0.191107\tvalid_0's binary_logloss: 0.286049\n[39]\tvalid_0's l1: 0.190508\tvalid_0's binary_logloss: 0.285581\n[40]\tvalid_0's l1: 0.189676\tvalid_0's binary_logloss: 0.284618\n[41]\tvalid_0's l1: 0.189265\tvalid_0's binary_logloss: 0.284302\n[42]\tvalid_0's l1: 0.188396\tvalid_0's binary_logloss: 0.283502\n[43]\tvalid_0's l1: 0.18787\tvalid_0's binary_logloss: 0.283025\n[44]\tvalid_0's l1: 0.187446\tvalid_0's binary_logloss: 0.282675\n[45]\tvalid_0's l1: 0.186777\tvalid_0's binary_logloss: 0.282051\n[46]\tvalid_0's l1: 0.186363\tvalid_0's binary_logloss: 0.281704\n[47]\tvalid_0's l1: 0.185759\tvalid_0's binary_logloss: 0.281145\n[48]\tvalid_0's l1: 0.185318\tvalid_0's binary_logloss: 0.280706\n[49]\tvalid_0's l1: 0.184926\tvalid_0's binary_logloss: 0.280357\n[50]\tvalid_0's l1: 0.184645\tvalid_0's binary_logloss: 0.280272\n[51]\tvalid_0's l1: 0.18431\tvalid_0's binary_logloss: 0.279921\n[52]\tvalid_0's l1: 0.184104\tvalid_0's binary_logloss: 0.279733\n[53]\tvalid_0's l1: 0.183935\tvalid_0's binary_logloss: 0.279706\n[54]\tvalid_0's l1: 0.18352\tvalid_0's binary_logloss: 0.27931\n[55]\tvalid_0's l1: 0.18323\tvalid_0's binary_logloss: 0.279195\n[56]\tvalid_0's l1: 0.182931\tvalid_0's binary_logloss: 0.278963\n[57]\tvalid_0's l1: 0.182767\tvalid_0's binary_logloss: 0.27886\n[58]\tvalid_0's l1: 0.18263\tvalid_0's binary_logloss: 0.278812\n[59]\tvalid_0's l1: 0.182474\tvalid_0's binary_logloss: 0.278636\n[60]\tvalid_0's l1: 0.18231\tvalid_0's binary_logloss: 0.278629\n[61]\tvalid_0's l1: 0.18219\tvalid_0's binary_logloss: 0.27864",
      "\n[62]\tvalid_0's l1: 0.182096\tvalid_0's binary_logloss: 0.278605\n[63]\tvalid_0's l1: 0.181994\tvalid_0's binary_logloss: 0.278653\n[64]\tvalid_0's l1: 0.181821\tvalid_0's binary_logloss: 0.278519\n[65]\tvalid_0's l1: 0.181668\tvalid_0's binary_logloss: 0.278473\n[66]\tvalid_0's l1: 0.181704\tvalid_0's binary_logloss: 0.278712\n[67]\tvalid_0's l1: 0.181578\tvalid_0's binary_logloss: 0.278664\n[68]\tvalid_0's l1: 0.181295\tvalid_0's binary_logloss: 0.278454\n[69]\tvalid_0's l1: 0.181215\tvalid_0's binary_logloss: 0.278461\n[70]\tvalid_0's l1: 0.18111\tvalid_0's binary_logloss: 0.278407\n[71]\tvalid_0's l1: 0.180957\tvalid_0's binary_logloss: 0.278268\n[72]\tvalid_0's l1: 0.180902\tvalid_0's binary_logloss: 0.278349\n[73]\tvalid_0's l1: 0.180864\tvalid_0's binary_logloss: 0.278352\n[74]\tvalid_0's l1: 0.180793\tvalid_0's binary_logloss: 0.278384\n[75]\tvalid_0's l1: 0.180684\tvalid_0's binary_logloss: 0.278289\n[76]\tvalid_0's l1: 0.180441\tvalid_0's binary_logloss: 0.278039\n[77]\tvalid_0's l1: 0.180419\tvalid_0's binary_logloss: 0.278043\n[78]\tvalid_0's l1: 0.180362\tvalid_0's binary_logloss: 0.277954\n[79]\tvalid_0's l1: 0.180289\tvalid_0's binary_logloss: 0.27805\n[80]\tvalid_0's l1: 0.180277\tvalid_0's binary_logloss: 0.278114\n[81]\tvalid_0's l1: 0.180301\tvalid_0's binary_logloss: 0.27829\n[82]\tvalid_0's l1: 0.180158\tvalid_0's binary_logloss: 0.278217\n[83]\tvalid_0's l1: 0.180046\tvalid_0's binary_logloss: 0.278027\nEarly stopping, best iteration is:\n[78]\tvalid_0's l1: 0.180362\tvalid_0's binary_logloss: 0.277954\n"
     ],
     "output_type": "stream"
    },
    {
     "data": {
      "text/plain": "LGBMClassifier(boosting_type='gbdt', class_weight=None, colsample_bytree=1.0,\n               importance_type='split', learning_rate=0.1, max_depth=-1,\n               min_child_samples=20, min_child_weight=0.001, min_split_gain=0.0,\n               n_estimators=100, n_jobs=-1, num_leaves=31, objective=None,\n               random_state=None, reg_alpha=0.0, reg_lambda=0.0, silent=True,\n               subsample=1.0, subsample_for_bin=200000, subsample_freq=0)"
     },
     "metadata": {},
     "output_type": "execute_result",
     "execution_count": 217
    }
   ],
   "source": [
    "# 参数，官方文档给出的如下\n",
    "\"\"\"\n",
    "    (boosting_type='gbdt', num_leaves=31, max_depth=-1, \n",
    "    learning_rate=0.1, n_estimators=100, subsample_for_bin=200000, \n",
    "    objective=None, class_weight=None, min_split_gain=0.0, \n",
    "    min_child_weight=0.001, min_child_samples=20, subsample=1.0, \n",
    "    subsample_freq=0, colsample_bytree=1.0, reg_alpha=0.0, \n",
    "    reg_lambda=0.0, random_state=None, n_jobs=-1, \n",
    "    silent=True, importance_type='split', **kwargs)\n",
    "\"\"\"\n",
    "\n",
    "# 由于lightGBM是leaves_wise生长，官方说法是要num_leaves小于2^max_depth\n",
    "\n",
    "paras = {\n",
    "    'num_leaves':100,\n",
    "    'max_depth':8,\n",
    "    'learning_rate':0.05\n",
    "}\n",
    "\n",
    "# 定义模型并开始训练\n",
    "lgbm = LGBMClassifier()\n",
    "lgbm.fit(x_train, y_train, eval_set=(x_eval, y_eval), eval_metric='l1', early_stopping_rounds=5)\n",
    " "
   ],
   "metadata": {
    "collapsed": false,
    "pycharm": {
     "name": "#%%\n",
     "is_executing": false
    }
   }
  },
  {
   "cell_type": "code",
   "execution_count": 218,
   "outputs": [
    {
     "name": "stdout",
     "text": [
      "87.10152939008661",
      "\n"
     ],
     "output_type": "stream"
    }
   ],
   "source": [
    "y_pred = lgbm.predict(x_test)\n",
    "print(accuracy_score(y_test, y_pred) * 100)"
   ],
   "metadata": {
    "collapsed": false,
    "pycharm": {
     "name": "#%%\n",
     "is_executing": false
    }
   }
  },
  {
   "cell_type": "code",
   "execution_count": 219,
   "outputs": [
    {
     "data": {
      "text/plain": "array([[ 2522,  1324],\n       [  776, 11659]], dtype=int64)"
     },
     "metadata": {},
     "output_type": "execute_result",
     "execution_count": 219
    }
   ],
   "source": [
    "# 获得混淆矩阵\n",
    "lgbm_confusion_matrix = confusion_matrix(y_test, y_pred)\n",
    "lgbm_confusion_matrix"
   ],
   "metadata": {
    "collapsed": false,
    "pycharm": {
     "name": "#%%\n",
     "is_executing": false
    }
   }
  },
  {
   "cell_type": "code",
   "execution_count": 220,
   "outputs": [],
   "source": [
    "def plot_confusion_matrix(cm, classes, normalize=False, title='Confusion matrix', cmap=plt.cm.Blues):\n",
    "    \"\"\"\n",
    "    This function prints and plots the confusion matrix.\n",
    "    Normalization can be applied by setting `normalize=True`.\n",
    "    Input\n",
    "    - cm : 计算出的混淆矩阵的值\n",
    "    - classes : 混淆矩阵中每一行每一列对应的列\n",
    "    - normalize : True:显示百分比, False:显示个数\n",
    "    \"\"\"\n",
    "    if normalize:\n",
    "        cm = cm.astype('float') / cm.sum(axis=1)[:, np.newaxis]\n",
    "        print(\"Normalized confusion matrix\")\n",
    "    else:\n",
    "        print('Confusion matrix, without normalization')\n",
    "    print(cm)\n",
    "    plt.imshow(cm, interpolation='nearest', cmap=cmap)\n",
    "    plt.title(title)\n",
    "    plt.colorbar()\n",
    "    tick_marks = np.arange(len(classes))\n",
    "    plt.xticks(tick_marks, classes, rotation=45)\n",
    "    plt.yticks(tick_marks, classes)\n",
    "    fmt = '.2f' if normalize else 'd'\n",
    "    thresh = cm.max() / 2.\n",
    "    for i, j in itertools.product(range(cm.shape[0]), range(cm.shape[1])):\n",
    "        plt.text(j, i, format(cm[i, j], fmt),\n",
    "                 horizontalalignment=\"center\",\n",
    "                 color=\"white\" if cm[i, j] > thresh else \"black\")\n",
    "    plt.tight_layout()\n",
    "    plt.ylabel('True label')\n",
    "    plt.xlabel('Predicted label')\n",
    "    "
   ],
   "metadata": {
    "collapsed": false,
    "pycharm": {
     "name": "#%%\n",
     "is_executing": false
    }
   }
  },
  {
   "cell_type": "code",
   "execution_count": 221,
   "outputs": [
    {
     "name": "stdout",
     "text": [
      "Confusion matrix, without normalization\n[[ 2522  1324]\n [  776 11659]]\n"
     ],
     "output_type": "stream"
    },
    {
     "data": {
      "text/plain": "<Figure size 432x288 with 2 Axes>",
      "image/png": "[encoded data removed]"
     },
     "metadata": {
      "needs_background": "light"
     },
     "output_type": "display_data"
    }
   ],
   "source": [
    "# 使用混淆图函数\n",
    "types = ['0', '1']\n",
    "plot_confusion_matrix(lgbm_confusion_matrix, classes=types, normalize=False,\n",
    "                      title='confusion matrix for Light GBM Classifier')"
   ],
   "metadata": {
    "collapsed": false,
    "pycharm": {
     "name": "#%%\n",
     "is_executing": false
    }
   }
  }
 ],
 "metadata": {
  "kernelspec": {
   "display_name": "Python 3",
   "language": "python",
   "name": "python3"
  },
  "language_info": {
   "codemirror_mode": {
    "name": "ipython",
    "version": 2
   },
   "file_extension": ".py",
   "mimetype": "text/x-python",
   "name": "python",
   "nbconvert_exporter": "python",
   "pygments_lexer": "ipython2",
   "version": "2.7.6"
  },
  "pycharm": {
   "stem_cell": {
    "cell_type": "raw",
    "source": [],
    "metadata": {
     "collapsed": false
    }
   }
  }
 },
 "nbformat": 4,
 "nbformat_minor": 0
}