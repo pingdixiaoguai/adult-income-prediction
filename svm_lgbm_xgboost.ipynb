{
 "cells": [
  {
   "cell_type": "code",
   "execution_count": 1,
   "metadata": {
    "pycharm": {
     "is_executing": false,
     "name": "#%%\n"
    }
   },
   "outputs": [],
   "source": [
    "# 导包\n",
    "import pandas as pd\n",
    "import numpy as np\n",
    "import matplotlib.pyplot as plt\n",
    "import datetime\n",
    "\n",
    "from sklearn import svm\n",
    "from sklearn.preprocessing import StandardScaler\n",
    "from lightgbm import LGBMClassifier\n",
    "from xgboost import XGBClassifier\n",
    "from sklearn.metrics import accuracy_score,classification_report,roc_auc_score, roc_curve, auc, confusion_matrix\n",
    "from plot_confusion_matrix import plot_confusion_matrix\n",
    "from sklearn.preprocessing import LabelEncoder"
   ]
  },
  {
   "cell_type": "code",
   "execution_count": 2,
   "metadata": {
    "pycharm": {
     "is_executing": false,
     "name": "#%%\n"
    }
   },
   "outputs": [],
   "source": [
    "# 读取数据\n",
    "# 根据题意，先把header设置好\n",
    "headers = ['age', 'workclass', 'fnlwgt',\n",
    "           'education', 'education_num', 'marital_status',\n",
    "           'occupation', 'relationship', 'race',\n",
    "           'sex', 'capital_gain', 'capital_loss',\n",
    "           'hours_per_week', 'native_country', 'income']\n",
    "\n",
    "# 读取训练集进入内存\n",
    "train_data = pd.read_csv(\"data/adult_train.csv\",names=headers)\n",
    "\n",
    "# 对于测试集，他的第一行是一个分隔，不读入\n",
    "test_data = pd.read_csv(\"data/adult_test.csv\",names=headers,skiprows=[0])\n",
    "test_data['income']= test_data['income'].apply(lambda x: x[0:-1])"
   ]
  },
  {
   "cell_type": "code",
   "execution_count": 3,
   "metadata": {
    "pycharm": {
     "is_executing": false,
     "name": "#%%\n"
    }
   },
   "outputs": [],
   "source": [
    "train_data['source']='train'\n",
    "test_data['source']='test'"
   ]
  },
  {
   "cell_type": "code",
   "execution_count": 4,
   "metadata": {
    "pycharm": {
     "is_executing": false,
     "name": "#%%\n"
    }
   },
   "outputs": [],
   "source": [
    "# 合并数据一起进行预处理\n",
    "data= pd.concat([train_data, test_data],axis=0,ignore_index=True)\n",
    "data = data.replace('[?]', np.NaN, regex=True)\n",
    "data.dropna(inplace=True)"
   ]
  },
  {
   "cell_type": "code",
   "execution_count": 5,
   "metadata": {
    "pycharm": {
     "is_executing": false,
     "name": "#%%\n"
    }
   },
   "outputs": [
    {
     "data": {
      "text/plain": [
       "age               0\n",
       "workclass         0\n",
       "fnlwgt            0\n",
       "education         0\n",
       "education_num     0\n",
       "marital_status    0\n",
       "occupation        0\n",
       "relationship      0\n",
       "race              0\n",
       "sex               0\n",
       "capital_gain      0\n",
       "capital_loss      0\n",
       "hours_per_week    0\n",
       "native_country    0\n",
       "income            0\n",
       "source            0\n",
       "dtype: int64"
      ]
     },
     "execution_count": 5,
     "metadata": {},
     "output_type": "execute_result"
    }
   ],
   "source": [
    "# 对缺失数据进行处理，删除\n",
    "data.isnull().sum()"
   ]
  },
  {
   "cell_type": "code",
   "execution_count": 6,
   "metadata": {
    "pycharm": {
     "is_executing": false,
     "name": "#%%\n"
    }
   },
   "outputs": [
    {
     "data": {
      "text/plain": [
       "0    34014\n",
       "1    11208\n",
       "Name: income, dtype: int64"
      ]
     },
     "execution_count": 6,
     "metadata": {},
     "output_type": "execute_result"
    }
   ],
   "source": [
    "# 开始处理离散数据\n",
    "# income我们需要将其映射一下\n",
    "# 先将>=50K的映射成1，<=50K的设置为0\n",
    "le= LabelEncoder()\n",
    "data['income']= le.fit_transform(data['income'])\n",
    "data['income'].value_counts()\n"
   ]
  },
  {
   "cell_type": "code",
   "execution_count": 7,
   "metadata": {
    "pycharm": {
     "is_executing": false,
     "name": "#%%\n"
    }
   },
   "outputs": [
    {
     "data": {
      "text/plain": [
       "['workclass',\n",
       " 'education',\n",
       " 'marital_status',\n",
       " 'occupation',\n",
       " 'relationship',\n",
       " 'race',\n",
       " 'sex',\n",
       " 'native_country']"
      ]
     },
     "execution_count": 7,
     "metadata": {},
     "output_type": "execute_result"
    }
   ],
   "source": [
    "# 取出所有的离散量属性,这些属性先不用看我们自定义的数据来源那一项\n",
    "discrete = [x for x in data.columns if data[x].dtype=='object']\n",
    "discrete.remove('source')\n",
    "discrete"
   ]
  },
  {
   "cell_type": "code",
   "execution_count": 8,
   "metadata": {
    "pycharm": {
     "is_executing": false,
     "name": "#%%\n"
    }
   },
   "outputs": [
    {
     "name": "stdout",
     "output_type": "stream",
     "text": [
      " Private             33307\n",
      " Self-emp-not-inc     3796\n",
      " Local-gov            3100\n",
      " State-gov            1946\n",
      " Self-emp-inc         1646\n",
      " Federal-gov          1406\n",
      " Without-pay            21\n",
      "Name: workclass, dtype: int64\n",
      " HS-grad         14783\n",
      " Some-college     9899\n",
      " Bachelors        7570\n",
      " Masters          2514\n",
      " Assoc-voc        1959\n",
      " 11th             1619\n",
      " Assoc-acdm       1507\n",
      " 10th             1223\n",
      " 7th-8th           823\n",
      " Prof-school       785\n",
      " 9th               676\n",
      " 12th              577\n",
      " Doctorate         544\n",
      " 5th-6th           449\n",
      " 1st-4th           222\n",
      " Preschool          72\n",
      "Name: education, dtype: int64\n",
      " Married-civ-spouse       21055\n",
      " Never-married            14598\n",
      " Divorced                  6297\n",
      " Separated                 1411\n",
      " Widowed                   1277\n",
      " Married-spouse-absent      552\n",
      " Married-AF-spouse           32\n",
      "Name: marital_status, dtype: int64\n",
      " Craft-repair         6020\n",
      " Prof-specialty       6008\n",
      " Exec-managerial      5984\n",
      " Adm-clerical         5540\n",
      " Sales                5408\n",
      " Other-service        4808\n",
      " Machine-op-inspct    2970\n",
      " Transport-moving     2316\n",
      " Handlers-cleaners    2046\n",
      " Farming-fishing      1480\n",
      " Tech-support         1420\n",
      " Protective-serv       976\n",
      " Priv-house-serv       232\n",
      " Armed-Forces           14\n",
      "Name: occupation, dtype: int64\n",
      " Husband           18666\n",
      " Not-in-family     11702\n",
      " Own-child          6626\n",
      " Unmarried          4788\n",
      " Wife               2091\n",
      " Other-relative     1349\n",
      "Name: relationship, dtype: int64\n",
      " White                 38903\n",
      " Black                  4228\n",
      " Asian-Pac-Islander     1303\n",
      " Amer-Indian-Eskimo      435\n",
      " Other                   353\n",
      "Name: race, dtype: int64\n",
      " Male      30527\n",
      " Female    14695\n",
      "Name: sex, dtype: int64\n",
      " United-States                 41292\n",
      " Mexico                          903\n",
      " Philippines                     283\n",
      " Germany                         193\n",
      " Puerto-Rico                     175\n",
      " Canada                          163\n",
      " India                           147\n",
      " El-Salvador                     147\n",
      " Cuba                            133\n",
      " England                         119\n",
      " China                           113\n",
      " Jamaica                         103\n",
      " South                           101\n",
      " Italy                           100\n",
      " Dominican-Republic               97\n",
      " Japan                            89\n",
      " Guatemala                        86\n",
      " Vietnam                          83\n",
      " Columbia                         82\n",
      " Poland                           81\n",
      " Haiti                            69\n",
      " Portugal                         62\n",
      " Iran                             56\n",
      " Taiwan                           55\n",
      " Greece                           49\n",
      " Nicaragua                        48\n",
      " Peru                             45\n",
      " Ecuador                          43\n",
      " France                           36\n",
      " Ireland                          36\n",
      " Thailand                         29\n",
      " Hong                             28\n",
      " Cambodia                         26\n",
      " Trinadad&Tobago                  26\n",
      " Yugoslavia                       23\n",
      " Outlying-US(Guam-USVI-etc)       22\n",
      " Laos                             21\n",
      " Scotland                         20\n",
      " Honduras                         19\n",
      " Hungary                          18\n",
      " Holand-Netherlands                1\n",
      "Name: native_country, dtype: int64\n"
     ]
    }
   ],
   "source": [
    "# 看看这些离散量属性的取值分布\n",
    "for i in discrete:\n",
    "    print(data[i].value_counts())\n",
    "    "
   ]
  },
  {
   "cell_type": "code",
   "execution_count": 9,
   "metadata": {
    "pycharm": {
     "is_executing": false,
     "name": "#%%\n"
    }
   },
   "outputs": [
    {
     "data": {
      "text/plain": [
       " HS-grad         14783\n",
       " Some-college     9899\n",
       " Bachelors        7570\n",
       " Masters          2514\n",
       " Assoc-voc        1959\n",
       " 11th             1619\n",
       " Assoc-acdm       1507\n",
       " 10th             1223\n",
       " 7th-8th           823\n",
       " Prof-school       785\n",
       " 9th               676\n",
       " 12th              577\n",
       " Doctorate         544\n",
       " 5th-6th           449\n",
       " 1st-4th           222\n",
       " Preschool          72\n",
       "Name: education, dtype: int64"
      ]
     },
     "execution_count": 9,
     "metadata": {},
     "output_type": "execute_result"
    }
   ],
   "source": [
    "# 看看education_num这个连续量\n",
    "data['education'].value_counts()"
   ]
  },
  {
   "cell_type": "code",
   "execution_count": 10,
   "metadata": {
    "pycharm": {
     "is_executing": false,
     "name": "#%%\n"
    }
   },
   "outputs": [],
   "source": [
    "# 发现跟education一样的，重复了，因为eudcation是离散的，不好处理。去掉这个属性\n",
    "data = data.drop(columns=['education'])"
   ]
  },
  {
   "cell_type": "code",
   "execution_count": 11,
   "metadata": {
    "pycharm": {
     "is_executing": false,
     "name": "#%%\n"
    }
   },
   "outputs": [
    {
     "data": {
      "text/html": [
       "<div>\n",
       "<style scoped>\n",
       "    .dataframe tbody tr th:only-of-type {\n",
       "        vertical-align: middle;\n",
       "    }\n",
       "\n",
       "    .dataframe tbody tr th {\n",
       "        vertical-align: top;\n",
       "    }\n",
       "\n",
       "    .dataframe thead th {\n",
       "        text-align: right;\n",
       "    }\n",
       "</style>\n",
       "<table border=\"1\" class=\"dataframe\">\n",
       "  <thead>\n",
       "    <tr style=\"text-align: right;\">\n",
       "      <th></th>\n",
       "      <th>age</th>\n",
       "      <th>fnlwgt</th>\n",
       "      <th>education_num</th>\n",
       "      <th>capital_gain</th>\n",
       "      <th>capital_loss</th>\n",
       "      <th>hours_per_week</th>\n",
       "      <th>income</th>\n",
       "    </tr>\n",
       "  </thead>\n",
       "  <tbody>\n",
       "    <tr>\n",
       "      <th>age</th>\n",
       "      <td>1.000000</td>\n",
       "      <td>-0.075792</td>\n",
       "      <td>0.037623</td>\n",
       "      <td>0.079683</td>\n",
       "      <td>0.059351</td>\n",
       "      <td>0.101992</td>\n",
       "      <td>0.237040</td>\n",
       "    </tr>\n",
       "    <tr>\n",
       "      <th>fnlwgt</th>\n",
       "      <td>-0.075792</td>\n",
       "      <td>1.000000</td>\n",
       "      <td>-0.041993</td>\n",
       "      <td>-0.004110</td>\n",
       "      <td>-0.004349</td>\n",
       "      <td>-0.018679</td>\n",
       "      <td>-0.007264</td>\n",
       "    </tr>\n",
       "    <tr>\n",
       "      <th>education_num</th>\n",
       "      <td>0.037623</td>\n",
       "      <td>-0.041993</td>\n",
       "      <td>1.000000</td>\n",
       "      <td>0.126907</td>\n",
       "      <td>0.081711</td>\n",
       "      <td>0.146206</td>\n",
       "      <td>0.332800</td>\n",
       "    </tr>\n",
       "    <tr>\n",
       "      <th>capital_gain</th>\n",
       "      <td>0.079683</td>\n",
       "      <td>-0.004110</td>\n",
       "      <td>0.126907</td>\n",
       "      <td>1.000000</td>\n",
       "      <td>-0.032102</td>\n",
       "      <td>0.083880</td>\n",
       "      <td>0.221034</td>\n",
       "    </tr>\n",
       "    <tr>\n",
       "      <th>capital_loss</th>\n",
       "      <td>0.059351</td>\n",
       "      <td>-0.004349</td>\n",
       "      <td>0.081711</td>\n",
       "      <td>-0.032102</td>\n",
       "      <td>1.000000</td>\n",
       "      <td>0.054195</td>\n",
       "      <td>0.148687</td>\n",
       "    </tr>\n",
       "    <tr>\n",
       "      <th>hours_per_week</th>\n",
       "      <td>0.101992</td>\n",
       "      <td>-0.018679</td>\n",
       "      <td>0.146206</td>\n",
       "      <td>0.083880</td>\n",
       "      <td>0.054195</td>\n",
       "      <td>1.000000</td>\n",
       "      <td>0.227199</td>\n",
       "    </tr>\n",
       "    <tr>\n",
       "      <th>income</th>\n",
       "      <td>0.237040</td>\n",
       "      <td>-0.007264</td>\n",
       "      <td>0.332800</td>\n",
       "      <td>0.221034</td>\n",
       "      <td>0.148687</td>\n",
       "      <td>0.227199</td>\n",
       "      <td>1.000000</td>\n",
       "    </tr>\n",
       "  </tbody>\n",
       "</table>\n",
       "</div>"
      ],
      "text/plain": [
       "                     age    fnlwgt  education_num  capital_gain  capital_loss  \\\n",
       "age             1.000000 -0.075792       0.037623      0.079683      0.059351   \n",
       "fnlwgt         -0.075792  1.000000      -0.041993     -0.004110     -0.004349   \n",
       "education_num   0.037623 -0.041993       1.000000      0.126907      0.081711   \n",
       "capital_gain    0.079683 -0.004110       0.126907      1.000000     -0.032102   \n",
       "capital_loss    0.059351 -0.004349       0.081711     -0.032102      1.000000   \n",
       "hours_per_week  0.101992 -0.018679       0.146206      0.083880      0.054195   \n",
       "income          0.237040 -0.007264       0.332800      0.221034      0.148687   \n",
       "\n",
       "                hours_per_week    income  \n",
       "age                   0.101992  0.237040  \n",
       "fnlwgt               -0.018679 -0.007264  \n",
       "education_num         0.146206  0.332800  \n",
       "capital_gain          0.083880  0.221034  \n",
       "capital_loss          0.054195  0.148687  \n",
       "hours_per_week        1.000000  0.227199  \n",
       "income                0.227199  1.000000  "
      ]
     },
     "execution_count": 11,
     "metadata": {},
     "output_type": "execute_result"
    }
   ],
   "source": [
    "# 看看相关系数矩阵,检查一下连续变量。发现序号属性不太影响最后的收入\n",
    "data.corr()"
   ]
  },
  {
   "cell_type": "code",
   "execution_count": 12,
   "metadata": {
    "pycharm": {
     "is_executing": false,
     "name": "#%%\n"
    }
   },
   "outputs": [],
   "source": [
    "# 把序号属性删掉\n",
    "data = data.drop(columns=['fnlwgt'])"
   ]
  },
  {
   "cell_type": "code",
   "execution_count": 13,
   "metadata": {
    "pycharm": {
     "is_executing": false,
     "name": "#%%\n"
    }
   },
   "outputs": [
    {
     "data": {
      "text/plain": [
       "['workclass',\n",
       " 'marital_status',\n",
       " 'occupation',\n",
       " 'relationship',\n",
       " 'race',\n",
       " 'sex',\n",
       " 'native_country']"
      ]
     },
     "execution_count": 13,
     "metadata": {},
     "output_type": "execute_result"
    }
   ],
   "source": [
    "discrete2 = [x for x in data.columns if data[x].dtype=='object']\n",
    "discrete2.remove('source')\n",
    "discrete2"
   ]
  },
  {
   "cell_type": "code",
   "execution_count": 14,
   "metadata": {
    "pycharm": {
     "is_executing": false,
     "name": "#%%\n"
    }
   },
   "outputs": [],
   "source": [
    "# 进行哑编码\n",
    "data = pd.get_dummies(data, columns=discrete2, drop_first=True)"
   ]
  },
  {
   "cell_type": "code",
   "execution_count": 15,
   "metadata": {
    "pycharm": {
     "is_executing": false,
     "name": "#%%\n"
    }
   },
   "outputs": [
    {
     "data": {
      "text/plain": [
       "Index(['age', 'education_num', 'capital_gain', 'capital_loss',\n",
       "       'hours_per_week', 'income', 'source', 'workclass_ Local-gov',\n",
       "       'workclass_ Private', 'workclass_ Self-emp-inc',\n",
       "       'workclass_ Self-emp-not-inc', 'workclass_ State-gov',\n",
       "       'workclass_ Without-pay', 'marital_status_ Married-AF-spouse',\n",
       "       'marital_status_ Married-civ-spouse',\n",
       "       'marital_status_ Married-spouse-absent',\n",
       "       'marital_status_ Never-married', 'marital_status_ Separated',\n",
       "       'marital_status_ Widowed', 'occupation_ Armed-Forces',\n",
       "       'occupation_ Craft-repair', 'occupation_ Exec-managerial',\n",
       "       'occupation_ Farming-fishing', 'occupation_ Handlers-cleaners',\n",
       "       'occupation_ Machine-op-inspct', 'occupation_ Other-service',\n",
       "       'occupation_ Priv-house-serv', 'occupation_ Prof-specialty',\n",
       "       'occupation_ Protective-serv', 'occupation_ Sales',\n",
       "       'occupation_ Tech-support', 'occupation_ Transport-moving',\n",
       "       'relationship_ Not-in-family', 'relationship_ Other-relative',\n",
       "       'relationship_ Own-child', 'relationship_ Unmarried',\n",
       "       'relationship_ Wife', 'race_ Asian-Pac-Islander', 'race_ Black',\n",
       "       'race_ Other', 'race_ White', 'sex_ Male', 'native_country_ Canada',\n",
       "       'native_country_ China', 'native_country_ Columbia',\n",
       "       'native_country_ Cuba', 'native_country_ Dominican-Republic',\n",
       "       'native_country_ Ecuador', 'native_country_ El-Salvador',\n",
       "       'native_country_ England', 'native_country_ France',\n",
       "       'native_country_ Germany', 'native_country_ Greece',\n",
       "       'native_country_ Guatemala', 'native_country_ Haiti',\n",
       "       'native_country_ Holand-Netherlands', 'native_country_ Honduras',\n",
       "       'native_country_ Hong', 'native_country_ Hungary',\n",
       "       'native_country_ India', 'native_country_ Iran',\n",
       "       'native_country_ Ireland', 'native_country_ Italy',\n",
       "       'native_country_ Jamaica', 'native_country_ Japan',\n",
       "       'native_country_ Laos', 'native_country_ Mexico',\n",
       "       'native_country_ Nicaragua',\n",
       "       'native_country_ Outlying-US(Guam-USVI-etc)', 'native_country_ Peru',\n",
       "       'native_country_ Philippines', 'native_country_ Poland',\n",
       "       'native_country_ Portugal', 'native_country_ Puerto-Rico',\n",
       "       'native_country_ Scotland', 'native_country_ South',\n",
       "       'native_country_ Taiwan', 'native_country_ Thailand',\n",
       "       'native_country_ Trinadad&Tobago', 'native_country_ United-States',\n",
       "       'native_country_ Vietnam', 'native_country_ Yugoslavia'],\n",
       "      dtype='object')"
      ]
     },
     "execution_count": 15,
     "metadata": {},
     "output_type": "execute_result"
    }
   ],
   "source": [
    "# 看看编码后的结果\n",
    "data.columns"
   ]
  },
  {
   "cell_type": "code",
   "execution_count": 16,
   "metadata": {
    "pycharm": {
     "is_executing": false,
     "name": "#%%\n"
    }
   },
   "outputs": [
    {
     "data": {
      "text/plain": [
       "['age', 'education_num', 'capital_gain', 'capital_loss', 'hours_per_week']"
      ]
     },
     "execution_count": 16,
     "metadata": {},
     "output_type": "execute_result"
    }
   ],
   "source": [
    "# 将非2值类型的数据进行标准化\n",
    "num = [x for x in data.columns if data[x].dtype=='int64']\n",
    "num"
   ]
  },
  {
   "cell_type": "code",
   "execution_count": 17,
   "metadata": {
    "pycharm": {
     "is_executing": false,
     "name": "#%%\n"
    }
   },
   "outputs": [],
   "source": [
    "scaler = StandardScaler()\n",
    "data.loc[:, num] = scaler.fit_transform(data.loc[:, num])"
   ]
  },
  {
   "cell_type": "code",
   "execution_count": 18,
   "metadata": {
    "pycharm": {
     "is_executing": false,
     "name": "#%%\n"
    }
   },
   "outputs": [],
   "source": [
    "train_data = data.loc[data['source']=='train',:]\n",
    "test_data = data.loc[data['source']=='test',:]"
   ]
  },
  {
   "cell_type": "code",
   "execution_count": 19,
   "metadata": {
    "pycharm": {
     "is_executing": false,
     "name": "#%%\n"
    }
   },
   "outputs": [],
   "source": [
    "# 把要预测的值income单独拿出来看看\n",
    "y_train = np.array(train_data.income)\n",
    "x_train = np.array(train_data.drop(['income','source'], axis=1))\n",
    "\n",
    "y_test = np.array(test_data.income)\n",
    "x_test = np.array(test_data.drop(['income','source'],axis=1))"
   ]
  },
  {
   "cell_type": "code",
   "execution_count": 20,
   "metadata": {
    "pycharm": {
     "is_executing": false,
     "name": "#%%\n"
    }
   },
   "outputs": [
    {
     "name": "stdout",
     "output_type": "stream",
     "text": [
      "0:05:02.241811\n"
     ]
    }
   ],
   "source": [
    "# 训练svm\n",
    "svm_start = datetime.datetime.now()\n",
    "clf = svm.SVC(gamma='scale', probability=True)\n",
    "clf.fit(x_train, y_train)\n",
    "svm_end = datetime.datetime.now()\n",
    "print(svm_end - svm_start)"
   ]
  },
  {
   "cell_type": "code",
   "execution_count": 21,
   "metadata": {
    "pycharm": {
     "is_executing": false
    }
   },
   "outputs": [
    {
     "name": "stdout",
     "output_type": "stream",
     "text": [
      "0:00:00.471119\n"
     ]
    }
   ],
   "source": [
    "# 训练lgbm\n",
    "lgbm_start = datetime.datetime.now()\n",
    "lgbm = LGBMClassifier(num_leaves=100, max_depth=7, learning_rate=0.05)\n",
    "lgbm.fit(x_train, y_train)\n",
    "lgbm_end = datetime.datetime.now()\n",
    "print(lgbm_end - lgbm_start)"
   ]
  },
  {
   "cell_type": "code",
   "execution_count": 22,
   "metadata": {
    "pycharm": {
     "is_executing": false,
     "name": "#%%\n"
    }
   },
   "outputs": [
    {
     "name": "stdout",
     "output_type": "stream",
     "text": [
      "0:00:08.386326\n"
     ]
    }
   ],
   "source": [
    "xgboost_start = datetime.datetime.now()\n",
    "xgboost = XGBClassifier()\n",
    "xgboost.fit(x_train, y_train)\n",
    "xgboost_end = datetime.datetime.now()\n",
    "print(xgboost_end - xgboost_start)"
   ]
  },
  {
   "cell_type": "code",
   "execution_count": 23,
   "metadata": {
    "pycharm": {
     "is_executing": false,
     "name": "#%%\n"
    }
   },
   "outputs": [
    {
     "name": "stdout",
     "output_type": "stream",
     "text": [
      "\n",
      "accuracy_score on train dataset :  0.8597241562230621\n",
      "roc_score on train dataset :  0.7766499936338176\n",
      "Report on train dataset :  \n",
      "               precision    recall  f1-score   support\n",
      "\n",
      "           0       0.88      0.94      0.91     22654\n",
      "           1       0.78      0.61      0.68      7508\n",
      "\n",
      "    accuracy                           0.86     30162\n",
      "   macro avg       0.83      0.78      0.80     30162\n",
      "weighted avg       0.85      0.86      0.85     30162\n",
      "\n",
      "--------------------------------------------------\n",
      "\n",
      "accuracy_score on test dataset :  0.853386454183267\n",
      "roc_score on test dataset :  0.7663175675675675\n",
      "Report on test dataset :  \n",
      "               precision    recall  f1-score   support\n",
      "\n",
      "           0       0.88      0.94      0.91     11360\n",
      "           1       0.76      0.60      0.67      3700\n",
      "\n",
      "    accuracy                           0.85     15060\n",
      "   macro avg       0.82      0.77      0.79     15060\n",
      "weighted avg       0.85      0.85      0.85     15060\n",
      "\n"
     ]
    }
   ],
   "source": [
    "# svm\n",
    "predict_train_y = clf.predict(x_train)\n",
    "\n",
    "# 查看模型在训练集上的精度\n",
    "accuracy_train = accuracy_score(y_train, predict_train_y)\n",
    "print('\\naccuracy_score on train dataset : ', accuracy_train)\n",
    "print('roc_score on train dataset : ', roc_auc_score(y_train, predict_train_y))\n",
    "print('Report on train dataset : ','\\n', classification_report(y_train, predict_train_y))\n",
    "\n",
    "# predict the target on the test dataset\n",
    "predict_test_y = clf.predict(x_test)\n",
    "\n",
    "print('-' * 50) # 分隔符\n",
    "# 查看模型在测试集上的精度\n",
    "accuracy_test = accuracy_score(y_test, predict_test_y)\n",
    "print('\\naccuracy_score on test dataset : ', accuracy_test)\n",
    "print('roc_score on test dataset : ', roc_auc_score(y_test,predict_test_y))\n",
    "print('Report on test dataset : ','\\n', classification_report(y_test, predict_test_y))\n"
   ]
  },
  {
   "cell_type": "code",
   "execution_count": 24,
   "metadata": {
    "pycharm": {
     "is_executing": false
    }
   },
   "outputs": [
    {
     "name": "stdout",
     "output_type": "stream",
     "text": [
      "\n",
      "accuracy_score on train dataset :  0.8731516477687156\n",
      "roc_score on train dataset :  0.7958294413859436\n",
      "Report on train dataset :  \n",
      "               precision    recall  f1-score   support\n",
      "\n",
      "           0       0.89      0.95      0.92     22654\n",
      "           1       0.81      0.64      0.72      7508\n",
      "\n",
      "    accuracy                           0.87     30162\n",
      "   macro avg       0.85      0.80      0.82     30162\n",
      "weighted avg       0.87      0.87      0.87     30162\n",
      "\n",
      "--------------------------------------------------\n",
      "\n",
      "accuracy_score on test dataset :  0.8695883134130146\n",
      "roc_score on test dataset :  0.7904517986296156\n",
      "Report on test dataset :  \n",
      "               precision    recall  f1-score   support\n",
      "\n",
      "           0       0.89      0.95      0.92     11360\n",
      "           1       0.79      0.63      0.71      3700\n",
      "\n",
      "    accuracy                           0.87     15060\n",
      "   macro avg       0.84      0.79      0.81     15060\n",
      "weighted avg       0.86      0.87      0.86     15060\n",
      "\n"
     ]
    }
   ],
   "source": [
    "# lightBGM\n",
    "predict_train_y_lgbm = lgbm.predict(x_train)\n",
    "\n",
    "# 查看模型在训练集上的精度\n",
    "accuracy_train_lgbm = accuracy_score(y_train, predict_train_y_lgbm)\n",
    "print('\\naccuracy_score on train dataset : ', accuracy_train_lgbm)\n",
    "print('roc_score on train dataset : ', roc_auc_score(y_train, predict_train_y_lgbm))\n",
    "print('Report on train dataset : ','\\n', classification_report(y_train, predict_train_y_lgbm))\n",
    "\n",
    "# predict the target on the test dataset\n",
    "predict_test_y_lgbm = lgbm.predict(x_test)\n",
    "\n",
    "print('-' * 50) # 分隔符\n",
    "# 查看模型在测试集上的精度\n",
    "accuracy_test_lgbm = accuracy_score(y_test, predict_test_y_lgbm)\n",
    "print('\\naccuracy_score on test dataset : ', accuracy_test_lgbm)\n",
    "print('roc_score on test dataset : ', roc_auc_score(y_test,predict_test_y_lgbm))\n",
    "print('Report on test dataset : ','\\n', classification_report(y_test, predict_test_y_lgbm))"
   ]
  },
  {
   "cell_type": "code",
   "execution_count": 25,
   "metadata": {
    "pycharm": {
     "is_executing": false,
     "name": "#%%\n"
    }
   },
   "outputs": [
    {
     "name": "stdout",
     "output_type": "stream",
     "text": [
      "\n",
      "accuracy_score on train dataset :  0.8626417346329819\n",
      "roc_score on train dataset :  0.774184332568435\n",
      "Report on train dataset :  \n",
      "               precision    recall  f1-score   support\n",
      "\n",
      "           0       0.88      0.95      0.91     22654\n",
      "           1       0.80      0.60      0.68      7508\n",
      "\n",
      "    accuracy                           0.86     30162\n",
      "   macro avg       0.84      0.77      0.80     30162\n",
      "weighted avg       0.86      0.86      0.86     30162\n",
      "\n",
      "--------------------------------------------------\n",
      "\n",
      "accuracy_score on test dataset :  0.8641434262948208\n",
      "roc_score on test dataset :  0.7754525123715266\n",
      "Report on test dataset :  \n",
      "               precision    recall  f1-score   support\n",
      "\n",
      "           0       0.88      0.95      0.91     11360\n",
      "           1       0.80      0.60      0.68      3700\n",
      "\n",
      "    accuracy                           0.86     15060\n",
      "   macro avg       0.84      0.78      0.80     15060\n",
      "weighted avg       0.86      0.86      0.86     15060\n",
      "\n"
     ]
    }
   ],
   "source": [
    "# xgboost\n",
    "predict_train_y_xgboost = xgboost.predict(x_train)\n",
    "\n",
    "# 查看模型在训练集上的精度\n",
    "accuracy_train_xgboost = accuracy_score(y_train, predict_train_y_xgboost)\n",
    "print('\\naccuracy_score on train dataset : ', accuracy_train_xgboost)\n",
    "print('roc_score on train dataset : ', roc_auc_score(y_train, predict_train_y_xgboost))\n",
    "print('Report on train dataset : ','\\n', classification_report(y_train, predict_train_y_xgboost))\n",
    "\n",
    "# predict the target on the test dataset\n",
    "predict_test_y_xgboost = xgboost.predict(x_test)\n",
    "\n",
    "print('-' * 50) # 分隔符\n",
    "# 查看模型在测试集上的精度\n",
    "accuracy_test_xgboost = accuracy_score(y_test, predict_test_y_xgboost)\n",
    "print('\\naccuracy_score on test dataset : ', accuracy_test_xgboost)\n",
    "print('roc_score on test dataset : ', roc_auc_score(y_test,predict_test_y_xgboost))\n",
    "print('Report on test dataset : ','\\n', classification_report(y_test, predict_test_y_xgboost))"
   ]
  },
  {
   "cell_type": "code",
   "execution_count": 26,
   "metadata": {
    "pycharm": {
     "is_executing": false,
     "name": "#%%\n"
    }
   },
   "outputs": [],
   "source": [
    "# 获得混淆矩阵\n",
    "svm_confusion_matrix = confusion_matrix(predict_test_y, y_test)"
   ]
  },
  {
   "cell_type": "code",
   "execution_count": 27,
   "metadata": {
    "pycharm": {
     "is_executing": false,
     "name": "#%%\n"
    }
   },
   "outputs": [
    {
     "name": "stdout",
     "output_type": "stream",
     "text": [
      "Confusion matrix, without normalization\n",
      "[[10650  1498]\n",
      " [  710  2202]]\n"
     ]
    },
    {
     "data": {
      "image/png": "[encoded data removed]",
      "text/plain": [
       "<Figure size 432x288 with 2 Axes>"
      ]
     },
     "metadata": {
      "needs_background": "light"
     },
     "output_type": "display_data"
    }
   ],
   "source": [
    "# 使用混淆图函数\n",
    "types = ['0', '1']\n",
    "plot_confusion_matrix(svm_confusion_matrix, classes=types, normalize=False,\n",
    "                      title='confusion matrix for SVM Classifier')"
   ]
  },
  {
   "cell_type": "code",
   "execution_count": 28,
   "metadata": {
    "pycharm": {
     "is_executing": false
    }
   },
   "outputs": [],
   "source": [
    "lgbm_confusion_matrix = confusion_matrix(predict_test_y_lgbm, y_test)\n"
   ]
  },
  {
   "cell_type": "code",
   "execution_count": 29,
   "metadata": {
    "pycharm": {
     "is_executing": false
    }
   },
   "outputs": [
    {
     "name": "stdout",
     "output_type": "stream",
     "text": [
      "Confusion matrix, without normalization\n",
      "[[10747  1351]\n",
      " [  613  2349]]\n"
     ]
    },
    {
     "data": {
      "image/png": "[encoded data removed]",
      "text/plain": [
       "<Figure size 432x288 with 2 Axes>"
      ]
     },
     "metadata": {
      "needs_background": "light"
     },
     "output_type": "display_data"
    }
   ],
   "source": [
    "# 使用混淆图函数\n",
    "types = ['0', '1']\n",
    "plot_confusion_matrix(lgbm_confusion_matrix, classes=types, normalize=False,\n",
    "                      title='confusion matrix for Light GBM Classifier')"
   ]
  },
  {
   "cell_type": "code",
   "execution_count": 30,
   "metadata": {
    "pycharm": {
     "is_executing": false,
     "name": "#%%\n"
    }
   },
   "outputs": [],
   "source": [
    "xgboost_confusion_matrix = confusion_matrix(predict_test_y_xgboost, y_test)"
   ]
  },
  {
   "cell_type": "code",
   "execution_count": 31,
   "metadata": {
    "pycharm": {
     "is_executing": false,
     "name": "#%%\n"
    }
   },
   "outputs": [
    {
     "name": "stdout",
     "output_type": "stream",
     "text": [
      "Confusion matrix, without normalization\n",
      "[[10790  1476]\n",
      " [  570  2224]]\n"
     ]
    },
    {
     "data": {
      "image/png": "[encoded data removed]",
      "text/plain": [
       "<Figure size 432x288 with 2 Axes>"
      ]
     },
     "metadata": {
      "needs_background": "light"
     },
     "output_type": "display_data"
    }
   ],
   "source": [
    "# 使用混淆图函数\n",
    "types = ['0', '1']\n",
    "plot_confusion_matrix(xgboost_confusion_matrix, classes=types, normalize=False,\n",
    "                      title='confusion matrix for XGboost Classifier')"
   ]
  },
  {
   "cell_type": "code",
   "execution_count": 34,
   "metadata": {
    "pycharm": {
     "is_executing": false,
     "name": "#%%\n"
    }
   },
   "outputs": [
    {
     "data": {
      "text/plain": [
       "Text(0.5, 1.0, 'LGBM vs XGboost vs SVM')"
      ]
     },
     "execution_count": 34,
     "metadata": {},
     "output_type": "execute_result"
    },
    {
     "data": {
      "image/png": "[encoded data removed]",
      "text/plain": [
       "<Figure size 720x576 with 1 Axes>"
      ]
     },
     "metadata": {
      "needs_background": "light"
     },
     "output_type": "display_data"
    }
   ],
   "source": [
    "# 查看ROC-AUC曲线\n",
    "\n",
    "yprob_svm = clf.predict_proba(x_test)\n",
    "yprob_svm = [x[1] for x in yprob_svm]\n",
    "fpr,tpr,threshold = roc_curve(y_test,yprob_svm)\n",
    "\n",
    "yprob_lgbm = lgbm.predict_proba(x_test)\n",
    "yprob_lgbm = [x[1] for x in yprob_lgbm]\n",
    "fpr1,tpr1,threshold1 = roc_curve(y_test,yprob_lgbm)\n",
    "\n",
    "yprob_xgboost = xgboost.predict_proba(x_test)\n",
    "yprob_xgboost = [x[1] for x in yprob_xgboost]\n",
    "fpr2,tpr2,threshold2 = roc_curve(y_test,yprob_xgboost)\n",
    "\n",
    "plt.figure(figsize=(10,8))\n",
    "plt.plot((0,1),(0,1), label='Random')\n",
    "plt.plot(fpr,tpr, label='ROC_AUC_SVM')\n",
    "plt.plot(fpr2, tpr2, label='ROC_AUC_XGboost')\n",
    "plt.plot(fpr1, tpr1, label='ROC_AUC_LGBM')\n",
    "\n",
    "plt.legend(loc='best')\n",
    "plt.title(\"LGBM vs XGboost vs SVM\")\n",
    "\n"
   ]
  },
  {
   "cell_type": "code",
   "execution_count": null,
   "metadata": {},
   "outputs": [],
   "source": []
  }
 ],
 "metadata": {
  "kernelspec": {
   "display_name": "Python 3",
   "language": "python",
   "name": "python3"
  },
  "language_info": {
   "codemirror_mode": {
    "name": "ipython",
    "version": 3
   },
   "file_extension": ".py",
   "mimetype": "text/x-python",
   "name": "python",
   "nbconvert_exporter": "python",
   "pygments_lexer": "ipython3",
   "version": "3.7.3"
  },
  "pycharm": {
   "stem_cell": {
    "cell_type": "raw",
    "metadata": {
     "collapsed": false
    },
    "source": []
   }
  }
 },
 "nbformat": 4,
 "nbformat_minor": 1
}
