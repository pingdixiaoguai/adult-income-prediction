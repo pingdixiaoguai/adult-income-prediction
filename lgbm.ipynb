{
 "cells": [
  {
   "cell_type": "code",
   "execution_count": 440,
   "outputs": [],
   "source": [
    "# 导包\n",
    "import pandas as pd\n",
    "import numpy as np\n",
    "import seaborn as sns\n",
    "\n",
    "from sklearn.preprocessing import StandardScaler\n",
    "from sklearn.metrics import confusion_matrix\n",
    "from sklearn.metrics import accuracy_score\n",
    "from sklearn.utils import resample\n",
    "from lightgbm import LGBMClassifier"
   ],
   "metadata": {
    "collapsed": false,
    "pycharm": {
     "name": "#%%\n",
     "is_executing": false
    }
   }
  },
  {
   "cell_type": "code",
   "execution_count": 441,
   "outputs": [],
   "source": [
    "# 读取数据\n",
    "# 根据题意，先把header设置好\n",
    "headers = ['age', 'workclass', 'fnlwgt',\n",
    "           'education', 'education_num', 'marital_status',\n",
    "           'occupation', 'relationship', 'race',\n",
    "           'sex', 'capital_gain', 'capital_loss',\n",
    "           'hours_per_week', 'native_country', 'income']\n",
    "\n",
    "# 读取训练集进入内存\n",
    "train_data = pd.read_csv(\"data/adult_train.csv\",names=headers)\n",
    "\n",
    "# 对于测试集，他的第一行是一个分隔，不读入\n",
    "test_data = pd.read_csv(\"data/adult_test.csv\",names=headers,skiprows=[0])"
   ],
   "metadata": {
    "collapsed": false,
    "pycharm": {
     "name": "#%%\n",
     "is_executing": false
    }
   }
  },
  {
   "cell_type": "code",
   "execution_count": 442,
   "outputs": [
    {
     "data": {
      "text/plain": "(32561, 15)"
     },
     "metadata": {},
     "output_type": "execute_result",
     "execution_count": 442
    }
   ],
   "source": [
    "# 看看训练集有多少数据\n",
    "train_data.shape"
   ],
   "metadata": {
    "collapsed": false,
    "pycharm": {
     "name": "#%%\n",
     "is_executing": false
    }
   }
  },
  {
   "cell_type": "code",
   "execution_count": 443,
   "outputs": [
    {
     "data": {
      "text/plain": "                age        fnlwgt  education_num  capital_gain  capital_loss  \\\ncount  32561.000000  3.256100e+04   32561.000000  32561.000000  32561.000000   \nmean      38.581647  1.897784e+05      10.080679   1077.648844     87.303830   \nstd       13.640433  1.055500e+05       2.572720   7385.292085    402.960219   \nmin       17.000000  1.228500e+04       1.000000      0.000000      0.000000   \n25%       28.000000  1.178270e+05       9.000000      0.000000      0.000000   \n50%       37.000000  1.783560e+05      10.000000      0.000000      0.000000   \n75%       48.000000  2.370510e+05      12.000000      0.000000      0.000000   \nmax       90.000000  1.484705e+06      16.000000  99999.000000   4356.000000   \n\n       hours_per_week  \ncount    32561.000000  \nmean        40.437456  \nstd         12.347429  \nmin          1.000000  \n25%         40.000000  \n50%         40.000000  \n75%         45.000000  \nmax         99.000000  ",
      "text/html": "<div>\n<style scoped>\n    .dataframe tbody tr th:only-of-type {\n        vertical-align: middle;\n    }\n\n    .dataframe tbody tr th {\n        vertical-align: top;\n    }\n\n    .dataframe thead th {\n        text-align: right;\n    }\n</style>\n<table border=\"1\" class=\"dataframe\">\n  <thead>\n    <tr style=\"text-align: right;\">\n      <th></th>\n      <th>age</th>\n      <th>fnlwgt</th>\n      <th>education_num</th>\n      <th>capital_gain</th>\n      <th>capital_loss</th>\n      <th>hours_per_week</th>\n    </tr>\n  </thead>\n  <tbody>\n    <tr>\n      <th>count</th>\n      <td>32561.000000</td>\n      <td>3.256100e+04</td>\n      <td>32561.000000</td>\n      <td>32561.000000</td>\n      <td>32561.000000</td>\n      <td>32561.000000</td>\n    </tr>\n    <tr>\n      <th>mean</th>\n      <td>38.581647</td>\n      <td>1.897784e+05</td>\n      <td>10.080679</td>\n      <td>1077.648844</td>\n      <td>87.303830</td>\n      <td>40.437456</td>\n    </tr>\n    <tr>\n      <th>std</th>\n      <td>13.640433</td>\n      <td>1.055500e+05</td>\n      <td>2.572720</td>\n      <td>7385.292085</td>\n      <td>402.960219</td>\n      <td>12.347429</td>\n    </tr>\n    <tr>\n      <th>min</th>\n      <td>17.000000</td>\n      <td>1.228500e+04</td>\n      <td>1.000000</td>\n      <td>0.000000</td>\n      <td>0.000000</td>\n      <td>1.000000</td>\n    </tr>\n    <tr>\n      <th>25%</th>\n      <td>28.000000</td>\n      <td>1.178270e+05</td>\n      <td>9.000000</td>\n      <td>0.000000</td>\n      <td>0.000000</td>\n      <td>40.000000</td>\n    </tr>\n    <tr>\n      <th>50%</th>\n      <td>37.000000</td>\n      <td>1.783560e+05</td>\n      <td>10.000000</td>\n      <td>0.000000</td>\n      <td>0.000000</td>\n      <td>40.000000</td>\n    </tr>\n    <tr>\n      <th>75%</th>\n      <td>48.000000</td>\n      <td>2.370510e+05</td>\n      <td>12.000000</td>\n      <td>0.000000</td>\n      <td>0.000000</td>\n      <td>45.000000</td>\n    </tr>\n    <tr>\n      <th>max</th>\n      <td>90.000000</td>\n      <td>1.484705e+06</td>\n      <td>16.000000</td>\n      <td>99999.000000</td>\n      <td>4356.000000</td>\n      <td>99.000000</td>\n    </tr>\n  </tbody>\n</table>\n</div>"
     },
     "metadata": {},
     "output_type": "execute_result",
     "execution_count": 443
    }
   ],
   "source": [
    "# 看看数据是怎么样的，平均值；最大最小值，标准差等等（只有连续性的）\n",
    "train_data.describe()"
   ],
   "metadata": {
    "collapsed": false,
    "pycharm": {
     "name": "#%%\n",
     "is_executing": false
    }
   }
  },
  {
   "cell_type": "code",
   "execution_count": 444,
   "outputs": [
    {
     "data": {
      "text/plain": "age                  0\nworkclass         1836\nfnlwgt               0\neducation            0\neducation_num        0\nmarital_status       0\noccupation        1843\nrelationship         0\nrace                 0\nsex                  0\ncapital_gain         0\ncapital_loss         0\nhours_per_week       0\nnative_country     583\nincome               0\ndtype: int64"
     },
     "metadata": {},
     "output_type": "execute_result",
     "execution_count": 444
    }
   ],
   "source": [
    "# 数据中有一些值是？，用python的NaN代替方便以后直接当作空值处理\n",
    "train_data = train_data.replace('[?]', np.NaN, regex=True)\n",
    "test_data = test_data.replace('[?]', np.NaN, regex=True)\n",
    "# 看看数据里有NaN的各类有多少\n",
    "train_data.isnull().sum()"
   ],
   "metadata": {
    "collapsed": false,
    "pycharm": {
     "name": "#%%\n",
     "is_executing": false
    }
   }
  },
  {
   "cell_type": "code",
   "execution_count": 445,
   "outputs": [
    {
     "data": {
      "text/plain": "age               0\nworkclass         0\nfnlwgt            0\neducation         0\neducation_num     0\nmarital_status    0\noccupation        0\nrelationship      0\nrace              0\nsex               0\ncapital_gain      0\ncapital_loss      0\nhours_per_week    0\nnative_country    0\nincome            0\ndtype: int64"
     },
     "metadata": {},
     "output_type": "execute_result",
     "execution_count": 445
    }
   ],
   "source": [
    "# 对于缺失属性的数据直接删除\n",
    "train_data['native_country'] = train_data['native_country'].fillna(' United-States')\n",
    "train_data = train_data.dropna()\n",
    "train_data.isnull().sum()"
   ],
   "metadata": {
    "collapsed": false,
    "pycharm": {
     "name": "#%%\n",
     "is_executing": false
    }
   }
  },
  {
   "cell_type": "code",
   "execution_count": 446,
   "outputs": [],
   "source": [
    "# 开始处理离散数据\n",
    "# income我们需要将其映射一下\n",
    "# 先将>=50K的映射成0，<=50K的设置为1\n",
    "income_map = {' <=50K':1,' >50K':0}\n",
    "income_map2 = {' <=50K.':1, ' >50K.':0}\n",
    "train_data['income'] = train_data['income'].map(income_map).astype(int)\n",
    "test_data['income'] = test_data['income'].map(income_map2).astype(int)\n"
   ],
   "metadata": {
    "collapsed": false,
    "pycharm": {
     "name": "#%%\n",
     "is_executing": false
    }
   }
  },
  {
   "cell_type": "code",
   "execution_count": 447,
   "outputs": [
    {
     "data": {
      "text/plain": "['workclass',\n 'education',\n 'marital_status',\n 'occupation',\n 'relationship',\n 'race',\n 'sex',\n 'native_country']"
     },
     "metadata": {},
     "output_type": "execute_result",
     "execution_count": 447
    }
   ],
   "source": [
    "# 取出所有的离散量属性\n",
    "discrete = [x for x in train_data.columns if train_data[x].dtype=='object']\n",
    "discrete"
   ],
   "metadata": {
    "collapsed": false,
    "pycharm": {
     "name": "#%%\n",
     "is_executing": false
    }
   }
  },
  {
   "cell_type": "code",
   "execution_count": 448,
   "outputs": [
    {
     "name": "stdout",
     "text": [
      " Private             22696\n Self-emp-not-inc     2541\n Local-gov            2093\n State-gov            1298\n Self-emp-inc         1116\n Federal-gov           960\n Without-pay            14\nName: workclass, dtype: int64\n HS-grad         9968\n Some-college    6775\n Bachelors       5182\n Masters         1675\n Assoc-voc       1321\n 11th            1056\n Assoc-acdm      1020\n 10th             831\n 7th-8th          573\n Prof-school      558\n 9th              463\n Doctorate        398\n 12th             393\n 5th-6th          303\n 1st-4th          156\n Preschool         46\nName: education, dtype: int64\n Married-civ-spouse       14339\n Never-married             9912\n Divorced                  4258\n Separated                  959\n Widowed                    840\n Married-spouse-absent      389\n Married-AF-spouse           21\nName: marital_status, dtype: int64\n Prof-specialty       4140\n Craft-repair         4099\n Exec-managerial      4066\n Adm-clerical         3770\n Sales                3650\n Other-service        3295\n Machine-op-inspct    2002\n Transport-moving     1597\n Handlers-cleaners    1370\n Farming-fishing       994\n Tech-support          928\n Protective-serv       649\n Priv-house-serv       149\n Armed-Forces            9\nName: occupation, dtype: int64\n Husband           12704\n Not-in-family      7865\n Own-child          4525\n Unmarried          3271\n Wife               1435\n Other-relative      918\nName: relationship, dtype: int64\n White                 26301\n Black                  2909\n Asian-Pac-Islander      974\n Amer-Indian-Eskimo      286\n Other                   248\nName: race, dtype: int64\n Male      20788\n Female     9930\nName: sex, dtype: int64\n United-States                 28060\n Mexico                          610\n Philippines                     188\n Germany                         128\n Puerto-Rico                     109\n Canada                          107\n El-Salvador                     100\n India                           100\n Cuba                             92\n England                          86\n Jamaica                          80\n South                            71\n China                            68\n Italy                            68\n Dominican-Republic               67\n Vietnam                          64\n Guatemala                        63\n Japan                            59\n Columbia                         56\n Poland                           56\n Taiwan                           42\n Iran                             42\n Haiti                            42\n Portugal                         34\n Nicaragua                        33\n Peru                             30\n Greece                           29\n Ecuador                          27\n France                           27\n Ireland                          24\n Hong                             19\n Trinadad&Tobago                  18\n Cambodia                         18\n Laos                             17\n Thailand                         17\n Yugoslavia                       16\n Outlying-US(Guam-USVI-etc)       14\n Hungary                          13\n Honduras                         12\n Scotland                         11\n Holand-Netherlands                1\nName: native_country, dtype: int64\n"
     ],
     "output_type": "stream"
    }
   ],
   "source": [
    "# 看看这些离散量属性的取值分布\n",
    "for i in discrete:\n",
    "    print(train_data[i].value_counts())\n",
    "    "
   ],
   "metadata": {
    "collapsed": false,
    "pycharm": {
     "name": "#%%\n",
     "is_executing": false
    }
   }
  },
  {
   "cell_type": "code",
   "execution_count": 449,
   "outputs": [],
   "source": [
    "# 发现有一些是比较接近重叠的，将这些重叠的归到同一类\n",
    "# 大致可以把gov有关的一类，Private一类，Self-emp一类，没工作的一类\n",
    "train_data['workclass'] = train_data['workclass'].replace([' Self-emp-not-inc', ' Self-emp-inc'],' Self-emp')\n",
    "train_data['workclass'] = train_data['workclass'].replace([' Federal-gov', ' Local-gov', ' State-gov'], ' Gov')\n",
    "train_data['workclass'] = train_data['workclass'].replace([' Without-pay', ' Never-worked'], ' Un-emp')\n",
    "train_data['workclass'].value_counts()                                                         \n",
    "\n",
    "test_data['workclass'] = test_data['workclass'].replace([' Self-emp-not-inc', ' Self-emp-inc'],' Self-emp')\n",
    "test_data['workclass'] = test_data['workclass'].replace([' Federal-gov', ' Local-gov', ' State-gov'], ' Gov')\n",
    "test_data['workclass'] = test_data['workclass'].replace([' Without-pay', ' Never-worked'], ' Un-emp')"
   ],
   "metadata": {
    "collapsed": false,
    "pycharm": {
     "name": "#%%\n",
     "is_executing": false
    }
   }
  },
  {
   "cell_type": "code",
   "execution_count": 450,
   "outputs": [],
   "source": [
    "# 同理对marital_status进行归类\n",
    "train_data['marital_status'] = train_data['marital_status'].replace([' Divorced',' Married-spouse-absent',' Never-married',' Separated',' Widowed'],' Single')\n",
    "train_data['marital_status'] = train_data['marital_status'].replace([' Married-civ-spouse', ' Married-AF-spouse'], ' Couple')\n",
    "train_data['marital_status'].value_counts()\n",
    "\n",
    "test_data['marital_status'] = test_data['marital_status'].replace([' Divorced',' Married-spouse-absent',' Never-married',' Separated',' Widowed'],' Single')\n",
    "test_data['marital_status'] = test_data['marital_status'].replace([' Married-civ-spouse', ' Married-AF-spouse'], ' Couple')"
   ],
   "metadata": {
    "collapsed": false,
    "pycharm": {
     "name": "#%%\n",
     "is_executing": false
    }
   }
  },
  {
   "cell_type": "code",
   "execution_count": 451,
   "outputs": [
    {
     "data": {
      "text/plain": " United-States         28060\n Mexico                  610\n Other                   486\n Philippines             188\n Germany                 128\n Puerto-Rico             109\n Canada                  107\n El-Salvador             100\n India                   100\n Cuba                     92\n England                  86\n Jamaica                  80\n South                    71\n Italy                    68\n China                    68\n Dominican-Republic       67\n Vietnam                  64\n Guatemala                63\n Japan                    59\n Poland                   56\n Columbia                 56\nName: native_country, dtype: int64"
     },
     "metadata": {},
     "output_type": "execute_result",
     "execution_count": 451
    }
   ],
   "source": [
    "# native_country这个分类太多了，而且很多类的人很少，干脆把人少的都归到other里\n",
    "train_data['native_country'] = train_data['native_country'].replace([' Holand-Netherlands',' Scotland', ' Honduras', \n",
    "                                                                     ' Hungary', ' Outlying-US(Guam-USVI-etc)', ' Yugoslavia', \n",
    "                                                                     ' Laos', ' Thailand', ' Cambodia', \n",
    "                                                                     ' Trinadad&Tobago', ' Hong', ' Ireland', \n",
    "                                                                     ' France',' Ecuador', ' Greece', ' Peru', \n",
    "                                                                     ' Nicaragua', ' Portugal', ' Iran', \n",
    "                                                                     ' Taiwan', ' Haiti'], ' Other')\n",
    "\n",
    "test_data['native_country'] = test_data['native_country'].replace([' Holand-Netherlands',' Scotland', ' Honduras', \n",
    "                                                                     ' Hungary', ' Outlying-US(Guam-USVI-etc)', ' Yugoslavia', \n",
    "                                                                     ' Laos', ' Thailand', ' Cambodia', \n",
    "                                                                     ' Trinadad&Tobago', ' Hong', ' Ireland', \n",
    "                                                                     ' France',' Ecuador', ' Greece', ' Peru', \n",
    "                                                                     ' Nicaragua', ' Portugal', ' Iran', \n",
    "                                                                     ' Taiwan', ' Haiti'], ' Other')\n",
    "train_data['native_country'].value_counts()"
   ],
   "metadata": {
    "collapsed": false,
    "pycharm": {
     "name": "#%%\n",
     "is_executing": false
    }
   }
  },
  {
   "cell_type": "code",
   "execution_count": 452,
   "outputs": [
    {
     "data": {
      "text/plain": " HS-grad         9968\n Some-college    6775\n Bachelors       5182\n Masters         1675\n Assoc-voc       1321\n 11th            1056\n Assoc-acdm      1020\n 10th             831\n 7th-8th          573\n Prof-school      558\n 9th              463\n Doctorate        398\n 12th             393\n 5th-6th          303\n 1st-4th          156\n Preschool         46\nName: education, dtype: int64"
     },
     "metadata": {},
     "output_type": "execute_result",
     "execution_count": 452
    }
   ],
   "source": [
    "# 最后，看看education_num这个连续量\n",
    "train_data['education'].value_counts()"
   ],
   "metadata": {
    "collapsed": false,
    "pycharm": {
     "name": "#%%\n",
     "is_executing": false
    }
   }
  },
  {
   "cell_type": "code",
   "execution_count": 453,
   "outputs": [],
   "source": [
    "# 发现跟education一样的，重复了，因为eudcation是离散的，不好处理。去掉这个属性\n",
    "train_data = train_data.drop(columns=['education'])\n",
    "test_data = test_data.drop(columns=['education'])"
   ],
   "metadata": {
    "collapsed": false,
    "pycharm": {
     "name": "#%%\n",
     "is_executing": false
    }
   }
  },
  {
   "cell_type": "code",
   "execution_count": 454,
   "outputs": [
    {
     "data": {
      "text/plain": "                     age    fnlwgt  education_num  capital_gain  capital_loss  \\\nage             1.000000 -0.076540       0.043567      0.080392      0.060409   \nfnlwgt         -0.076540  1.000000      -0.043509     -0.000189     -0.010011   \neducation_num   0.043567 -0.043509       1.000000      0.124247      0.079321   \ncapital_gain    0.080392 -0.000189       0.124247      1.000000     -0.032332   \ncapital_loss    0.060409 -0.010011       0.079321     -0.032332      1.000000   \nhours_per_week  0.101879 -0.022810       0.151241      0.079548      0.053961   \nincome         -0.242431  0.009446      -0.334640     -0.221871     -0.151461   \n\n                hours_per_week    income  \nage                   0.101879 -0.242431  \nfnlwgt               -0.022810  0.009446  \neducation_num         0.151241 -0.334640  \ncapital_gain          0.079548 -0.221871  \ncapital_loss          0.053961 -0.151461  \nhours_per_week        1.000000 -0.228547  \nincome               -0.228547  1.000000  ",
      "text/html": "<div>\n<style scoped>\n    .dataframe tbody tr th:only-of-type {\n        vertical-align: middle;\n    }\n\n    .dataframe tbody tr th {\n        vertical-align: top;\n    }\n\n    .dataframe thead th {\n        text-align: right;\n    }\n</style>\n<table border=\"1\" class=\"dataframe\">\n  <thead>\n    <tr style=\"text-align: right;\">\n      <th></th>\n      <th>age</th>\n      <th>fnlwgt</th>\n      <th>education_num</th>\n      <th>capital_gain</th>\n      <th>capital_loss</th>\n      <th>hours_per_week</th>\n      <th>income</th>\n    </tr>\n  </thead>\n  <tbody>\n    <tr>\n      <th>age</th>\n      <td>1.000000</td>\n      <td>-0.076540</td>\n      <td>0.043567</td>\n      <td>0.080392</td>\n      <td>0.060409</td>\n      <td>0.101879</td>\n      <td>-0.242431</td>\n    </tr>\n    <tr>\n      <th>fnlwgt</th>\n      <td>-0.076540</td>\n      <td>1.000000</td>\n      <td>-0.043509</td>\n      <td>-0.000189</td>\n      <td>-0.010011</td>\n      <td>-0.022810</td>\n      <td>0.009446</td>\n    </tr>\n    <tr>\n      <th>education_num</th>\n      <td>0.043567</td>\n      <td>-0.043509</td>\n      <td>1.000000</td>\n      <td>0.124247</td>\n      <td>0.079321</td>\n      <td>0.151241</td>\n      <td>-0.334640</td>\n    </tr>\n    <tr>\n      <th>capital_gain</th>\n      <td>0.080392</td>\n      <td>-0.000189</td>\n      <td>0.124247</td>\n      <td>1.000000</td>\n      <td>-0.032332</td>\n      <td>0.079548</td>\n      <td>-0.221871</td>\n    </tr>\n    <tr>\n      <th>capital_loss</th>\n      <td>0.060409</td>\n      <td>-0.010011</td>\n      <td>0.079321</td>\n      <td>-0.032332</td>\n      <td>1.000000</td>\n      <td>0.053961</td>\n      <td>-0.151461</td>\n    </tr>\n    <tr>\n      <th>hours_per_week</th>\n      <td>0.101879</td>\n      <td>-0.022810</td>\n      <td>0.151241</td>\n      <td>0.079548</td>\n      <td>0.053961</td>\n      <td>1.000000</td>\n      <td>-0.228547</td>\n    </tr>\n    <tr>\n      <th>income</th>\n      <td>-0.242431</td>\n      <td>0.009446</td>\n      <td>-0.334640</td>\n      <td>-0.221871</td>\n      <td>-0.151461</td>\n      <td>-0.228547</td>\n      <td>1.000000</td>\n    </tr>\n  </tbody>\n</table>\n</div>"
     },
     "metadata": {},
     "output_type": "execute_result",
     "execution_count": 454
    }
   ],
   "source": [
    "# 看看相关系数矩阵,检查一下连续变量。发现序号属性不太影响最后的收入\n",
    "train_data.corr()"
   ],
   "metadata": {
    "collapsed": false,
    "pycharm": {
     "name": "#%%\n",
     "is_executing": false
    }
   }
  },
  {
   "cell_type": "code",
   "execution_count": 455,
   "outputs": [],
   "source": [
    "# 把序号属性删掉\n",
    "train_data = train_data.drop(columns=['fnlwgt'])\n",
    "test_data = test_data.drop(columns=['fnlwgt'])"
   ],
   "metadata": {
    "collapsed": false,
    "pycharm": {
     "name": "#%%\n",
     "is_executing": false
    }
   }
  },
  {
   "cell_type": "code",
   "execution_count": 456,
   "outputs": [],
   "source": [
    "# 进行one-hot编码\n",
    "train_data = pd.get_dummies(train_data, columns=['workclass', 'marital_status', 'occupation',\n",
    "                                                 'relationship', 'race', 'sex',\n",
    "                                                 'native_country'])\n",
    "train_data\n",
    "\n",
    "test_data = pd.get_dummies(test_data, columns=['workclass', 'marital_status', 'occupation',\n",
    "                                                 'relationship', 'race', 'sex',\n",
    "                                                 'native_country'])"
   ],
   "metadata": {
    "collapsed": false,
    "pycharm": {
     "name": "#%%\n",
     "is_executing": false
    }
   }
  },
  {
   "cell_type": "code",
   "execution_count": 457,
   "outputs": [
    {
     "data": {
      "text/plain": "Index(['age', 'education_num', 'capital_gain', 'capital_loss',\n       'hours_per_week', 'income', 'workclass_ Gov', 'workclass_ Private',\n       'workclass_ Self-emp', 'workclass_ Un-emp', 'marital_status_ Couple',\n       'marital_status_ Single', 'occupation_ Adm-clerical',\n       'occupation_ Armed-Forces', 'occupation_ Craft-repair',\n       'occupation_ Exec-managerial', 'occupation_ Farming-fishing',\n       'occupation_ Handlers-cleaners', 'occupation_ Machine-op-inspct',\n       'occupation_ Other-service', 'occupation_ Priv-house-serv',\n       'occupation_ Prof-specialty', 'occupation_ Protective-serv',\n       'occupation_ Sales', 'occupation_ Tech-support',\n       'occupation_ Transport-moving', 'relationship_ Husband',\n       'relationship_ Not-in-family', 'relationship_ Other-relative',\n       'relationship_ Own-child', 'relationship_ Unmarried',\n       'relationship_ Wife', 'race_ Amer-Indian-Eskimo',\n       'race_ Asian-Pac-Islander', 'race_ Black', 'race_ Other', 'race_ White',\n       'sex_ Female', 'sex_ Male', 'native_country_ Canada',\n       'native_country_ China', 'native_country_ Columbia',\n       'native_country_ Cuba', 'native_country_ Dominican-Republic',\n       'native_country_ El-Salvador', 'native_country_ England',\n       'native_country_ Germany', 'native_country_ Guatemala',\n       'native_country_ India', 'native_country_ Italy',\n       'native_country_ Jamaica', 'native_country_ Japan',\n       'native_country_ Mexico', 'native_country_ Other',\n       'native_country_ Philippines', 'native_country_ Poland',\n       'native_country_ Puerto-Rico', 'native_country_ South',\n       'native_country_ United-States', 'native_country_ Vietnam'],\n      dtype='object')"
     },
     "metadata": {},
     "output_type": "execute_result",
     "execution_count": 457
    }
   ],
   "source": [
    "# 看看编码后的结果\n",
    "train_data.columns"
   ],
   "metadata": {
    "collapsed": false,
    "pycharm": {
     "name": "#%%\n",
     "is_executing": false
    }
   }
  },
  {
   "cell_type": "code",
   "execution_count": 458,
   "outputs": [
    {
     "data": {
      "text/plain": "       age  education_num  capital_gain  capital_loss  hours_per_week\n0       39             13          2174             0              40\n1       50             13             0             0              13\n2       38              9             0             0              40\n3       53              7             0             0              40\n4       28             13             0             0              40\n5       37             14             0             0              40\n6       49              5             0             0              16\n7       52              9             0             0              45\n8       31             14         14084             0              50\n9       42             13          5178             0              40\n10      37             10             0             0              80\n11      30             13             0             0              40\n12      23             13             0             0              30\n13      32             12             0             0              50\n14      40             11             0             0              40\n15      34              4             0             0              45\n16      25              9             0             0              35\n17      32              9             0             0              40\n18      38              7             0             0              50\n19      43             14             0             0              45\n20      40             16             0             0              60\n21      54              9             0             0              20\n22      35              5             0             0              40\n23      43              7             0          2042              40\n24      59              9             0             0              40\n25      56             13             0             0              40\n26      19              9             0             0              40\n28      39              9             0             0              80\n29      49              9             0             0              40\n30      23             12             0             0              52\n...    ...            ...           ...           ...             ...\n32526   32              6             0             0              40\n32527   22             10             0             0              40\n32528   31              9             0             0              40\n32529   29              9             0             0              35\n32532   34             16             0             0              60\n32533   54             13             0             0              50\n32534   37             10             0             0              39\n32535   22              8             0             0              35\n32536   34             13             0             0              55\n32537   30              9             0             0              46\n32538   38             13         15020             0              45\n32540   45              9             0             0              40\n32543   45             12             0             0              48\n32544   31             14             0             0              30\n32545   39             12             0             0              20\n32546   37             12             0             0              40\n32547   43              9             0             0              40\n32548   65             15          1086             0              60\n32549   43             10             0             0              40\n32550   43             10             0             0              50\n32551   32              6             0             0              40\n32552   43             11             0             0              45\n32553   32             14             0             0              11\n32554   53             14             0             0              40\n32555   22             10             0             0              40\n32556   27             12             0             0              38\n32557   40              9             0             0              40\n32558   58              9             0             0              40\n32559   22              9             0             0              20\n32560   52              9         15024             0              40\n\n[30718 rows x 5 columns]",
      "text/html": "<div>\n<style scoped>\n    .dataframe tbody tr th:only-of-type {\n        vertical-align: middle;\n    }\n\n    .dataframe tbody tr th {\n        vertical-align: top;\n    }\n\n    .dataframe thead th {\n        text-align: right;\n    }\n</style>\n<table border=\"1\" class=\"dataframe\">\n  <thead>\n    <tr style=\"text-align: right;\">\n      <th></th>\n      <th>age</th>\n      <th>education_num</th>\n      <th>capital_gain</th>\n      <th>capital_loss</th>\n      <th>hours_per_week</th>\n    </tr>\n  </thead>\n  <tbody>\n    <tr>\n      <th>0</th>\n      <td>39</td>\n      <td>13</td>\n      <td>2174</td>\n      <td>0</td>\n      <td>40</td>\n    </tr>\n    <tr>\n      <th>1</th>\n      <td>50</td>\n      <td>13</td>\n      <td>0</td>\n      <td>0</td>\n      <td>13</td>\n    </tr>\n    <tr>\n      <th>2</th>\n      <td>38</td>\n      <td>9</td>\n      <td>0</td>\n      <td>0</td>\n      <td>40</td>\n    </tr>\n    <tr>\n      <th>3</th>\n      <td>53</td>\n      <td>7</td>\n      <td>0</td>\n      <td>0</td>\n      <td>40</td>\n    </tr>\n    <tr>\n      <th>4</th>\n      <td>28</td>\n      <td>13</td>\n      <td>0</td>\n      <td>0</td>\n      <td>40</td>\n    </tr>\n    <tr>\n      <th>5</th>\n      <td>37</td>\n      <td>14</td>\n      <td>0</td>\n      <td>0</td>\n      <td>40</td>\n    </tr>\n    <tr>\n      <th>6</th>\n      <td>49</td>\n      <td>5</td>\n      <td>0</td>\n      <td>0</td>\n      <td>16</td>\n    </tr>\n    <tr>\n      <th>7</th>\n      <td>52</td>\n      <td>9</td>\n      <td>0</td>\n      <td>0</td>\n      <td>45</td>\n    </tr>\n    <tr>\n      <th>8</th>\n      <td>31</td>\n      <td>14</td>\n      <td>14084</td>\n      <td>0</td>\n      <td>50</td>\n    </tr>\n    <tr>\n      <th>9</th>\n      <td>42</td>\n      <td>13</td>\n      <td>5178</td>\n      <td>0</td>\n      <td>40</td>\n    </tr>\n    <tr>\n      <th>10</th>\n      <td>37</td>\n      <td>10</td>\n      <td>0</td>\n      <td>0</td>\n      <td>80</td>\n    </tr>\n    <tr>\n      <th>11</th>\n      <td>30</td>\n      <td>13</td>\n      <td>0</td>\n      <td>0</td>\n      <td>40</td>\n    </tr>\n    <tr>\n      <th>12</th>\n      <td>23</td>\n      <td>13</td>\n      <td>0</td>\n      <td>0</td>\n      <td>30</td>\n    </tr>\n    <tr>\n      <th>13</th>\n      <td>32</td>\n      <td>12</td>\n      <td>0</td>\n      <td>0</td>\n      <td>50</td>\n    </tr>\n    <tr>\n      <th>14</th>\n      <td>40</td>\n      <td>11</td>\n      <td>0</td>\n      <td>0</td>\n      <td>40</td>\n    </tr>\n    <tr>\n      <th>15</th>\n      <td>34</td>\n      <td>4</td>\n      <td>0</td>\n      <td>0</td>\n      <td>45</td>\n    </tr>\n    <tr>\n      <th>16</th>\n      <td>25</td>\n      <td>9</td>\n      <td>0</td>\n      <td>0</td>\n      <td>35</td>\n    </tr>\n    <tr>\n      <th>17</th>\n      <td>32</td>\n      <td>9</td>\n      <td>0</td>\n      <td>0</td>\n      <td>40</td>\n    </tr>\n    <tr>\n      <th>18</th>\n      <td>38</td>\n      <td>7</td>\n      <td>0</td>\n      <td>0</td>\n      <td>50</td>\n    </tr>\n    <tr>\n      <th>19</th>\n      <td>43</td>\n      <td>14</td>\n      <td>0</td>\n      <td>0</td>\n      <td>45</td>\n    </tr>\n    <tr>\n      <th>20</th>\n      <td>40</td>\n      <td>16</td>\n      <td>0</td>\n      <td>0</td>\n      <td>60</td>\n    </tr>\n    <tr>\n      <th>21</th>\n      <td>54</td>\n      <td>9</td>\n      <td>0</td>\n      <td>0</td>\n      <td>20</td>\n    </tr>\n    <tr>\n      <th>22</th>\n      <td>35</td>\n      <td>5</td>\n      <td>0</td>\n      <td>0</td>\n      <td>40</td>\n    </tr>\n    <tr>\n      <th>23</th>\n      <td>43</td>\n      <td>7</td>\n      <td>0</td>\n      <td>2042</td>\n      <td>40</td>\n    </tr>\n    <tr>\n      <th>24</th>\n      <td>59</td>\n      <td>9</td>\n      <td>0</td>\n      <td>0</td>\n      <td>40</td>\n    </tr>\n    <tr>\n      <th>25</th>\n      <td>56</td>\n      <td>13</td>\n      <td>0</td>\n      <td>0</td>\n      <td>40</td>\n    </tr>\n    <tr>\n      <th>26</th>\n      <td>19</td>\n      <td>9</td>\n      <td>0</td>\n      <td>0</td>\n      <td>40</td>\n    </tr>\n    <tr>\n      <th>28</th>\n      <td>39</td>\n      <td>9</td>\n      <td>0</td>\n      <td>0</td>\n      <td>80</td>\n    </tr>\n    <tr>\n      <th>29</th>\n      <td>49</td>\n      <td>9</td>\n      <td>0</td>\n      <td>0</td>\n      <td>40</td>\n    </tr>\n    <tr>\n      <th>30</th>\n      <td>23</td>\n      <td>12</td>\n      <td>0</td>\n      <td>0</td>\n      <td>52</td>\n    </tr>\n    <tr>\n      <th>...</th>\n      <td>...</td>\n      <td>...</td>\n      <td>...</td>\n      <td>...</td>\n      <td>...</td>\n    </tr>\n    <tr>\n      <th>32526</th>\n      <td>32</td>\n      <td>6</td>\n      <td>0</td>\n      <td>0</td>\n      <td>40</td>\n    </tr>\n    <tr>\n      <th>32527</th>\n      <td>22</td>\n      <td>10</td>\n      <td>0</td>\n      <td>0</td>\n      <td>40</td>\n    </tr>\n    <tr>\n      <th>32528</th>\n      <td>31</td>\n      <td>9</td>\n      <td>0</td>\n      <td>0</td>\n      <td>40</td>\n    </tr>\n    <tr>\n      <th>32529</th>\n      <td>29</td>\n      <td>9</td>\n      <td>0</td>\n      <td>0</td>\n      <td>35</td>\n    </tr>\n    <tr>\n      <th>32532</th>\n      <td>34</td>\n      <td>16</td>\n      <td>0</td>\n      <td>0</td>\n      <td>60</td>\n    </tr>\n    <tr>\n      <th>32533</th>\n      <td>54</td>\n      <td>13</td>\n      <td>0</td>\n      <td>0</td>\n      <td>50</td>\n    </tr>\n    <tr>\n      <th>32534</th>\n      <td>37</td>\n      <td>10</td>\n      <td>0</td>\n      <td>0</td>\n      <td>39</td>\n    </tr>\n    <tr>\n      <th>32535</th>\n      <td>22</td>\n      <td>8</td>\n      <td>0</td>\n      <td>0</td>\n      <td>35</td>\n    </tr>\n    <tr>\n      <th>32536</th>\n      <td>34</td>\n      <td>13</td>\n      <td>0</td>\n      <td>0</td>\n      <td>55</td>\n    </tr>\n    <tr>\n      <th>32537</th>\n      <td>30</td>\n      <td>9</td>\n      <td>0</td>\n      <td>0</td>\n      <td>46</td>\n    </tr>\n    <tr>\n      <th>32538</th>\n      <td>38</td>\n      <td>13</td>\n      <td>15020</td>\n      <td>0</td>\n      <td>45</td>\n    </tr>\n    <tr>\n      <th>32540</th>\n      <td>45</td>\n      <td>9</td>\n      <td>0</td>\n      <td>0</td>\n      <td>40</td>\n    </tr>\n    <tr>\n      <th>32543</th>\n      <td>45</td>\n      <td>12</td>\n      <td>0</td>\n      <td>0</td>\n      <td>48</td>\n    </tr>\n    <tr>\n      <th>32544</th>\n      <td>31</td>\n      <td>14</td>\n      <td>0</td>\n      <td>0</td>\n      <td>30</td>\n    </tr>\n    <tr>\n      <th>32545</th>\n      <td>39</td>\n      <td>12</td>\n      <td>0</td>\n      <td>0</td>\n      <td>20</td>\n    </tr>\n    <tr>\n      <th>32546</th>\n      <td>37</td>\n      <td>12</td>\n      <td>0</td>\n      <td>0</td>\n      <td>40</td>\n    </tr>\n    <tr>\n      <th>32547</th>\n      <td>43</td>\n      <td>9</td>\n      <td>0</td>\n      <td>0</td>\n      <td>40</td>\n    </tr>\n    <tr>\n      <th>32548</th>\n      <td>65</td>\n      <td>15</td>\n      <td>1086</td>\n      <td>0</td>\n      <td>60</td>\n    </tr>\n    <tr>\n      <th>32549</th>\n      <td>43</td>\n      <td>10</td>\n      <td>0</td>\n      <td>0</td>\n      <td>40</td>\n    </tr>\n    <tr>\n      <th>32550</th>\n      <td>43</td>\n      <td>10</td>\n      <td>0</td>\n      <td>0</td>\n      <td>50</td>\n    </tr>\n    <tr>\n      <th>32551</th>\n      <td>32</td>\n      <td>6</td>\n      <td>0</td>\n      <td>0</td>\n      <td>40</td>\n    </tr>\n    <tr>\n      <th>32552</th>\n      <td>43</td>\n      <td>11</td>\n      <td>0</td>\n      <td>0</td>\n      <td>45</td>\n    </tr>\n    <tr>\n      <th>32553</th>\n      <td>32</td>\n      <td>14</td>\n      <td>0</td>\n      <td>0</td>\n      <td>11</td>\n    </tr>\n    <tr>\n      <th>32554</th>\n      <td>53</td>\n      <td>14</td>\n      <td>0</td>\n      <td>0</td>\n      <td>40</td>\n    </tr>\n    <tr>\n      <th>32555</th>\n      <td>22</td>\n      <td>10</td>\n      <td>0</td>\n      <td>0</td>\n      <td>40</td>\n    </tr>\n    <tr>\n      <th>32556</th>\n      <td>27</td>\n      <td>12</td>\n      <td>0</td>\n      <td>0</td>\n      <td>38</td>\n    </tr>\n    <tr>\n      <th>32557</th>\n      <td>40</td>\n      <td>9</td>\n      <td>0</td>\n      <td>0</td>\n      <td>40</td>\n    </tr>\n    <tr>\n      <th>32558</th>\n      <td>58</td>\n      <td>9</td>\n      <td>0</td>\n      <td>0</td>\n      <td>40</td>\n    </tr>\n    <tr>\n      <th>32559</th>\n      <td>22</td>\n      <td>9</td>\n      <td>0</td>\n      <td>0</td>\n      <td>20</td>\n    </tr>\n    <tr>\n      <th>32560</th>\n      <td>52</td>\n      <td>9</td>\n      <td>15024</td>\n      <td>0</td>\n      <td>40</td>\n    </tr>\n  </tbody>\n</table>\n<p>30718 rows × 5 columns</p>\n</div>"
     },
     "metadata": {},
     "output_type": "execute_result",
     "execution_count": 458
    }
   ],
   "source": [
    "# 将非2值类型的数据进行标准化\n",
    "train_data_need_to_standard = train_data[['age', 'education_num', 'capital_gain',\n",
    "                                          'capital_loss', 'hours_per_week']]\n",
    "train_data_need_to_standard"
   ],
   "metadata": {
    "collapsed": false,
    "pycharm": {
     "name": "#%%\n",
     "is_executing": false
    }
   }
  },
  {
   "cell_type": "code",
   "execution_count": 459,
   "outputs": [
    {
     "data": {
      "text/plain": "StandardScaler(copy=True, with_mean=True, with_std=True)"
     },
     "metadata": {},
     "output_type": "execute_result",
     "execution_count": 459
    }
   ],
   "source": [
    "scaler = StandardScaler()\n",
    "scaler.fit(train_data_need_to_standard)"
   ],
   "metadata": {
    "collapsed": false,
    "pycharm": {
     "name": "#%%\n",
     "is_executing": false
    }
   }
  },
  {
   "cell_type": "code",
   "execution_count": 460,
   "outputs": [
    {
     "data": {
      "text/plain": "          0         1         2         3         4\n0  0.042416  1.119909  0.142438 -0.219179 -0.079207\n1  0.880958  1.119909 -0.147516 -0.219179 -2.331988\n2 -0.033815 -0.441111 -0.147516 -0.219179 -0.079207\n3  1.109651 -1.221621 -0.147516 -0.219179 -0.079207\n4 -0.796125  1.119909 -0.147516 -0.219179 -0.079207",
      "text/html": "<div>\n<style scoped>\n    .dataframe tbody tr th:only-of-type {\n        vertical-align: middle;\n    }\n\n    .dataframe tbody tr th {\n        vertical-align: top;\n    }\n\n    .dataframe thead th {\n        text-align: right;\n    }\n</style>\n<table border=\"1\" class=\"dataframe\">\n  <thead>\n    <tr style=\"text-align: right;\">\n      <th></th>\n      <th>0</th>\n      <th>1</th>\n      <th>2</th>\n      <th>3</th>\n      <th>4</th>\n    </tr>\n  </thead>\n  <tbody>\n    <tr>\n      <th>0</th>\n      <td>0.042416</td>\n      <td>1.119909</td>\n      <td>0.142438</td>\n      <td>-0.219179</td>\n      <td>-0.079207</td>\n    </tr>\n    <tr>\n      <th>1</th>\n      <td>0.880958</td>\n      <td>1.119909</td>\n      <td>-0.147516</td>\n      <td>-0.219179</td>\n      <td>-2.331988</td>\n    </tr>\n    <tr>\n      <th>2</th>\n      <td>-0.033815</td>\n      <td>-0.441111</td>\n      <td>-0.147516</td>\n      <td>-0.219179</td>\n      <td>-0.079207</td>\n    </tr>\n    <tr>\n      <th>3</th>\n      <td>1.109651</td>\n      <td>-1.221621</td>\n      <td>-0.147516</td>\n      <td>-0.219179</td>\n      <td>-0.079207</td>\n    </tr>\n    <tr>\n      <th>4</th>\n      <td>-0.796125</td>\n      <td>1.119909</td>\n      <td>-0.147516</td>\n      <td>-0.219179</td>\n      <td>-0.079207</td>\n    </tr>\n  </tbody>\n</table>\n</div>"
     },
     "metadata": {},
     "output_type": "execute_result",
     "execution_count": 460
    }
   ],
   "source": [
    "train_data_standard = pd.DataFrame(scaler.transform(train_data_need_to_standard))\n",
    "train_data_standard.head()"
   ],
   "metadata": {
    "collapsed": false,
    "pycharm": {
     "name": "#%%\n",
     "is_executing": false
    }
   }
  },
  {
   "cell_type": "code",
   "execution_count": 461,
   "outputs": [
    {
     "data": {
      "text/plain": "            age  education_num  capital_gain  capital_loss  hours_per_week\n0      0.042416       1.119909      0.142438     -0.219179       -0.079207\n1      0.880958       1.119909     -0.147516     -0.219179       -2.331988\n2     -0.033815      -0.441111     -0.147516     -0.219179       -0.079207\n3      1.109651      -1.221621     -0.147516     -0.219179       -0.079207\n4     -0.796125       1.119909     -0.147516     -0.219179       -0.079207\n5     -0.110046       1.510164     -0.147516     -0.219179       -0.079207\n6      0.804727      -2.002131     -0.147516     -0.219179       -2.081679\n7      1.033420      -0.441111     -0.147516     -0.219179        0.337974\n8     -0.567432       1.510164      1.730916     -0.219179        0.755156\n9      0.271109       1.119909      0.543092     -0.219179       -0.079207\n10    -0.110046      -0.050856     -0.147516     -0.219179        3.258246\n11    -0.643663       1.119909     -0.147516     -0.219179       -0.079207\n12    -1.177281       1.119909     -0.147516     -0.219179       -0.913570\n13    -0.491201       0.729654     -0.147516     -0.219179        0.755156\n14     0.118647       0.339399     -0.147516     -0.219179       -0.079207\n15    -0.338739      -2.392386     -0.147516     -0.219179        0.337974\n16    -1.024819      -0.441111     -0.147516     -0.219179       -0.496389\n17    -0.491201      -0.441111     -0.147516     -0.219179       -0.079207\n18    -0.033815      -1.221621     -0.147516     -0.219179        0.755156\n19     0.347340       1.510164     -0.147516     -0.219179        0.337974\n20     0.118647       2.290674     -0.147516     -0.219179        1.589519\n21     1.185882      -0.441111     -0.147516     -0.219179       -1.747934\n22    -0.262508      -2.002131     -0.147516     -0.219179       -0.079207\n23     0.347340      -1.221621     -0.147516      4.814709       -0.079207\n24     1.567037      -0.441111     -0.147516     -0.219179       -0.079207\n25     1.338344       1.119909     -0.147516     -0.219179       -0.079207\n26    -1.482205      -0.441111     -0.147516     -0.219179       -0.079207\n27     0.042416      -0.441111     -0.147516     -0.219179        3.258246\n28     0.804727      -0.441111     -0.147516     -0.219179       -0.079207\n29    -1.177281       0.729654     -0.147516     -0.219179        0.922029\n...         ...            ...           ...           ...             ...\n30688 -0.491201      -1.611876     -0.147516     -0.219179       -0.079207\n30689 -1.253512      -0.050856     -0.147516     -0.219179       -0.079207\n30690 -0.567432      -0.441111     -0.147516     -0.219179       -0.079207\n30691 -0.719894      -0.441111     -0.147516     -0.219179       -0.496389\n30692 -0.338739       2.290674     -0.147516     -0.219179        1.589519\n30693  1.185882       1.119909     -0.147516     -0.219179        0.755156\n30694 -0.110046      -0.050856     -0.147516     -0.219179       -0.162644\n30695 -1.253512      -0.831366     -0.147516     -0.219179       -0.496389\n30696 -0.338739       1.119909     -0.147516     -0.219179        1.172338\n30697 -0.643663      -0.441111     -0.147516     -0.219179        0.421411\n30698 -0.033815       1.119909      1.855754     -0.219179        0.337974\n30699  0.499803      -0.441111     -0.147516     -0.219179       -0.079207\n30700  0.499803       0.729654     -0.147516     -0.219179        0.588283\n30701 -0.567432       1.510164     -0.147516     -0.219179       -0.913570\n30702  0.042416       0.729654     -0.147516     -0.219179       -1.747934\n30703 -0.110046       0.729654     -0.147516     -0.219179       -0.079207\n30704  0.347340      -0.441111     -0.147516     -0.219179       -0.079207\n30705  2.024424       1.900419     -0.002672     -0.219179        1.589519\n30706  0.347340      -0.050856     -0.147516     -0.219179       -0.079207\n30707  0.347340      -0.050856     -0.147516     -0.219179        0.755156\n30708 -0.491201      -1.611876     -0.147516     -0.219179       -0.079207\n30709  0.347340       0.339399     -0.147516     -0.219179        0.337974\n30710 -0.491201       1.510164     -0.147516     -0.219179       -2.498861\n30711  1.109651       1.510164     -0.147516     -0.219179       -0.079207\n30712 -1.253512      -0.050856     -0.147516     -0.219179       -0.079207\n30713 -0.872356       0.729654     -0.147516     -0.219179       -0.246080\n30714  0.118647      -0.441111     -0.147516     -0.219179       -0.079207\n30715  1.490806      -0.441111     -0.147516     -0.219179       -0.079207\n30716 -1.253512      -0.441111     -0.147516     -0.219179       -1.747934\n30717  1.033420      -0.441111      1.856287     -0.219179       -0.079207\n\n[30718 rows x 5 columns]",
      "text/html": "<div>\n<style scoped>\n    .dataframe tbody tr th:only-of-type {\n        vertical-align: middle;\n    }\n\n    .dataframe tbody tr th {\n        vertical-align: top;\n    }\n\n    .dataframe thead th {\n        text-align: right;\n    }\n</style>\n<table border=\"1\" class=\"dataframe\">\n  <thead>\n    <tr style=\"text-align: right;\">\n      <th></th>\n      <th>age</th>\n      <th>education_num</th>\n      <th>capital_gain</th>\n      <th>capital_loss</th>\n      <th>hours_per_week</th>\n    </tr>\n  </thead>\n  <tbody>\n    <tr>\n      <th>0</th>\n      <td>0.042416</td>\n      <td>1.119909</td>\n      <td>0.142438</td>\n      <td>-0.219179</td>\n      <td>-0.079207</td>\n    </tr>\n    <tr>\n      <th>1</th>\n      <td>0.880958</td>\n      <td>1.119909</td>\n      <td>-0.147516</td>\n      <td>-0.219179</td>\n      <td>-2.331988</td>\n    </tr>\n    <tr>\n      <th>2</th>\n      <td>-0.033815</td>\n      <td>-0.441111</td>\n      <td>-0.147516</td>\n      <td>-0.219179</td>\n      <td>-0.079207</td>\n    </tr>\n    <tr>\n      <th>3</th>\n      <td>1.109651</td>\n      <td>-1.221621</td>\n      <td>-0.147516</td>\n      <td>-0.219179</td>\n      <td>-0.079207</td>\n    </tr>\n    <tr>\n      <th>4</th>\n      <td>-0.796125</td>\n      <td>1.119909</td>\n      <td>-0.147516</td>\n      <td>-0.219179</td>\n      <td>-0.079207</td>\n    </tr>\n    <tr>\n      <th>5</th>\n      <td>-0.110046</td>\n      <td>1.510164</td>\n      <td>-0.147516</td>\n      <td>-0.219179</td>\n      <td>-0.079207</td>\n    </tr>\n    <tr>\n      <th>6</th>\n      <td>0.804727</td>\n      <td>-2.002131</td>\n      <td>-0.147516</td>\n      <td>-0.219179</td>\n      <td>-2.081679</td>\n    </tr>\n    <tr>\n      <th>7</th>\n      <td>1.033420</td>\n      <td>-0.441111</td>\n      <td>-0.147516</td>\n      <td>-0.219179</td>\n      <td>0.337974</td>\n    </tr>\n    <tr>\n      <th>8</th>\n      <td>-0.567432</td>\n      <td>1.510164</td>\n      <td>1.730916</td>\n      <td>-0.219179</td>\n      <td>0.755156</td>\n    </tr>\n    <tr>\n      <th>9</th>\n      <td>0.271109</td>\n      <td>1.119909</td>\n      <td>0.543092</td>\n      <td>-0.219179</td>\n      <td>-0.079207</td>\n    </tr>\n    <tr>\n      <th>10</th>\n      <td>-0.110046</td>\n      <td>-0.050856</td>\n      <td>-0.147516</td>\n      <td>-0.219179</td>\n      <td>3.258246</td>\n    </tr>\n    <tr>\n      <th>11</th>\n      <td>-0.643663</td>\n      <td>1.119909</td>\n      <td>-0.147516</td>\n      <td>-0.219179</td>\n      <td>-0.079207</td>\n    </tr>\n    <tr>\n      <th>12</th>\n      <td>-1.177281</td>\n      <td>1.119909</td>\n      <td>-0.147516</td>\n      <td>-0.219179</td>\n      <td>-0.913570</td>\n    </tr>\n    <tr>\n      <th>13</th>\n      <td>-0.491201</td>\n      <td>0.729654</td>\n      <td>-0.147516</td>\n      <td>-0.219179</td>\n      <td>0.755156</td>\n    </tr>\n    <tr>\n      <th>14</th>\n      <td>0.118647</td>\n      <td>0.339399</td>\n      <td>-0.147516</td>\n      <td>-0.219179</td>\n      <td>-0.079207</td>\n    </tr>\n    <tr>\n      <th>15</th>\n      <td>-0.338739</td>\n      <td>-2.392386</td>\n      <td>-0.147516</td>\n      <td>-0.219179</td>\n      <td>0.337974</td>\n    </tr>\n    <tr>\n      <th>16</th>\n      <td>-1.024819</td>\n      <td>-0.441111</td>\n      <td>-0.147516</td>\n      <td>-0.219179</td>\n      <td>-0.496389</td>\n    </tr>\n    <tr>\n      <th>17</th>\n      <td>-0.491201</td>\n      <td>-0.441111</td>\n      <td>-0.147516</td>\n      <td>-0.219179</td>\n      <td>-0.079207</td>\n    </tr>\n    <tr>\n      <th>18</th>\n      <td>-0.033815</td>\n      <td>-1.221621</td>\n      <td>-0.147516</td>\n      <td>-0.219179</td>\n      <td>0.755156</td>\n    </tr>\n    <tr>\n      <th>19</th>\n      <td>0.347340</td>\n      <td>1.510164</td>\n      <td>-0.147516</td>\n      <td>-0.219179</td>\n      <td>0.337974</td>\n    </tr>\n    <tr>\n      <th>20</th>\n      <td>0.118647</td>\n      <td>2.290674</td>\n      <td>-0.147516</td>\n      <td>-0.219179</td>\n      <td>1.589519</td>\n    </tr>\n    <tr>\n      <th>21</th>\n      <td>1.185882</td>\n      <td>-0.441111</td>\n      <td>-0.147516</td>\n      <td>-0.219179</td>\n      <td>-1.747934</td>\n    </tr>\n    <tr>\n      <th>22</th>\n      <td>-0.262508</td>\n      <td>-2.002131</td>\n      <td>-0.147516</td>\n      <td>-0.219179</td>\n      <td>-0.079207</td>\n    </tr>\n    <tr>\n      <th>23</th>\n      <td>0.347340</td>\n      <td>-1.221621</td>\n      <td>-0.147516</td>\n      <td>4.814709</td>\n      <td>-0.079207</td>\n    </tr>\n    <tr>\n      <th>24</th>\n      <td>1.567037</td>\n      <td>-0.441111</td>\n      <td>-0.147516</td>\n      <td>-0.219179</td>\n      <td>-0.079207</td>\n    </tr>\n    <tr>\n      <th>25</th>\n      <td>1.338344</td>\n      <td>1.119909</td>\n      <td>-0.147516</td>\n      <td>-0.219179</td>\n      <td>-0.079207</td>\n    </tr>\n    <tr>\n      <th>26</th>\n      <td>-1.482205</td>\n      <td>-0.441111</td>\n      <td>-0.147516</td>\n      <td>-0.219179</td>\n      <td>-0.079207</td>\n    </tr>\n    <tr>\n      <th>27</th>\n      <td>0.042416</td>\n      <td>-0.441111</td>\n      <td>-0.147516</td>\n      <td>-0.219179</td>\n      <td>3.258246</td>\n    </tr>\n    <tr>\n      <th>28</th>\n      <td>0.804727</td>\n      <td>-0.441111</td>\n      <td>-0.147516</td>\n      <td>-0.219179</td>\n      <td>-0.079207</td>\n    </tr>\n    <tr>\n      <th>29</th>\n      <td>-1.177281</td>\n      <td>0.729654</td>\n      <td>-0.147516</td>\n      <td>-0.219179</td>\n      <td>0.922029</td>\n    </tr>\n    <tr>\n      <th>...</th>\n      <td>...</td>\n      <td>...</td>\n      <td>...</td>\n      <td>...</td>\n      <td>...</td>\n    </tr>\n    <tr>\n      <th>30688</th>\n      <td>-0.491201</td>\n      <td>-1.611876</td>\n      <td>-0.147516</td>\n      <td>-0.219179</td>\n      <td>-0.079207</td>\n    </tr>\n    <tr>\n      <th>30689</th>\n      <td>-1.253512</td>\n      <td>-0.050856</td>\n      <td>-0.147516</td>\n      <td>-0.219179</td>\n      <td>-0.079207</td>\n    </tr>\n    <tr>\n      <th>30690</th>\n      <td>-0.567432</td>\n      <td>-0.441111</td>\n      <td>-0.147516</td>\n      <td>-0.219179</td>\n      <td>-0.079207</td>\n    </tr>\n    <tr>\n      <th>30691</th>\n      <td>-0.719894</td>\n      <td>-0.441111</td>\n      <td>-0.147516</td>\n      <td>-0.219179</td>\n      <td>-0.496389</td>\n    </tr>\n    <tr>\n      <th>30692</th>\n      <td>-0.338739</td>\n      <td>2.290674</td>\n      <td>-0.147516</td>\n      <td>-0.219179</td>\n      <td>1.589519</td>\n    </tr>\n    <tr>\n      <th>30693</th>\n      <td>1.185882</td>\n      <td>1.119909</td>\n      <td>-0.147516</td>\n      <td>-0.219179</td>\n      <td>0.755156</td>\n    </tr>\n    <tr>\n      <th>30694</th>\n      <td>-0.110046</td>\n      <td>-0.050856</td>\n      <td>-0.147516</td>\n      <td>-0.219179</td>\n      <td>-0.162644</td>\n    </tr>\n    <tr>\n      <th>30695</th>\n      <td>-1.253512</td>\n      <td>-0.831366</td>\n      <td>-0.147516</td>\n      <td>-0.219179</td>\n      <td>-0.496389</td>\n    </tr>\n    <tr>\n      <th>30696</th>\n      <td>-0.338739</td>\n      <td>1.119909</td>\n      <td>-0.147516</td>\n      <td>-0.219179</td>\n      <td>1.172338</td>\n    </tr>\n    <tr>\n      <th>30697</th>\n      <td>-0.643663</td>\n      <td>-0.441111</td>\n      <td>-0.147516</td>\n      <td>-0.219179</td>\n      <td>0.421411</td>\n    </tr>\n    <tr>\n      <th>30698</th>\n      <td>-0.033815</td>\n      <td>1.119909</td>\n      <td>1.855754</td>\n      <td>-0.219179</td>\n      <td>0.337974</td>\n    </tr>\n    <tr>\n      <th>30699</th>\n      <td>0.499803</td>\n      <td>-0.441111</td>\n      <td>-0.147516</td>\n      <td>-0.219179</td>\n      <td>-0.079207</td>\n    </tr>\n    <tr>\n      <th>30700</th>\n      <td>0.499803</td>\n      <td>0.729654</td>\n      <td>-0.147516</td>\n      <td>-0.219179</td>\n      <td>0.588283</td>\n    </tr>\n    <tr>\n      <th>30701</th>\n      <td>-0.567432</td>\n      <td>1.510164</td>\n      <td>-0.147516</td>\n      <td>-0.219179</td>\n      <td>-0.913570</td>\n    </tr>\n    <tr>\n      <th>30702</th>\n      <td>0.042416</td>\n      <td>0.729654</td>\n      <td>-0.147516</td>\n      <td>-0.219179</td>\n      <td>-1.747934</td>\n    </tr>\n    <tr>\n      <th>30703</th>\n      <td>-0.110046</td>\n      <td>0.729654</td>\n      <td>-0.147516</td>\n      <td>-0.219179</td>\n      <td>-0.079207</td>\n    </tr>\n    <tr>\n      <th>30704</th>\n      <td>0.347340</td>\n      <td>-0.441111</td>\n      <td>-0.147516</td>\n      <td>-0.219179</td>\n      <td>-0.079207</td>\n    </tr>\n    <tr>\n      <th>30705</th>\n      <td>2.024424</td>\n      <td>1.900419</td>\n      <td>-0.002672</td>\n      <td>-0.219179</td>\n      <td>1.589519</td>\n    </tr>\n    <tr>\n      <th>30706</th>\n      <td>0.347340</td>\n      <td>-0.050856</td>\n      <td>-0.147516</td>\n      <td>-0.219179</td>\n      <td>-0.079207</td>\n    </tr>\n    <tr>\n      <th>30707</th>\n      <td>0.347340</td>\n      <td>-0.050856</td>\n      <td>-0.147516</td>\n      <td>-0.219179</td>\n      <td>0.755156</td>\n    </tr>\n    <tr>\n      <th>30708</th>\n      <td>-0.491201</td>\n      <td>-1.611876</td>\n      <td>-0.147516</td>\n      <td>-0.219179</td>\n      <td>-0.079207</td>\n    </tr>\n    <tr>\n      <th>30709</th>\n      <td>0.347340</td>\n      <td>0.339399</td>\n      <td>-0.147516</td>\n      <td>-0.219179</td>\n      <td>0.337974</td>\n    </tr>\n    <tr>\n      <th>30710</th>\n      <td>-0.491201</td>\n      <td>1.510164</td>\n      <td>-0.147516</td>\n      <td>-0.219179</td>\n      <td>-2.498861</td>\n    </tr>\n    <tr>\n      <th>30711</th>\n      <td>1.109651</td>\n      <td>1.510164</td>\n      <td>-0.147516</td>\n      <td>-0.219179</td>\n      <td>-0.079207</td>\n    </tr>\n    <tr>\n      <th>30712</th>\n      <td>-1.253512</td>\n      <td>-0.050856</td>\n      <td>-0.147516</td>\n      <td>-0.219179</td>\n      <td>-0.079207</td>\n    </tr>\n    <tr>\n      <th>30713</th>\n      <td>-0.872356</td>\n      <td>0.729654</td>\n      <td>-0.147516</td>\n      <td>-0.219179</td>\n      <td>-0.246080</td>\n    </tr>\n    <tr>\n      <th>30714</th>\n      <td>0.118647</td>\n      <td>-0.441111</td>\n      <td>-0.147516</td>\n      <td>-0.219179</td>\n      <td>-0.079207</td>\n    </tr>\n    <tr>\n      <th>30715</th>\n      <td>1.490806</td>\n      <td>-0.441111</td>\n      <td>-0.147516</td>\n      <td>-0.219179</td>\n      <td>-0.079207</td>\n    </tr>\n    <tr>\n      <th>30716</th>\n      <td>-1.253512</td>\n      <td>-0.441111</td>\n      <td>-0.147516</td>\n      <td>-0.219179</td>\n      <td>-1.747934</td>\n    </tr>\n    <tr>\n      <th>30717</th>\n      <td>1.033420</td>\n      <td>-0.441111</td>\n      <td>1.856287</td>\n      <td>-0.219179</td>\n      <td>-0.079207</td>\n    </tr>\n  </tbody>\n</table>\n<p>30718 rows × 5 columns</p>\n</div>"
     },
     "metadata": {},
     "output_type": "execute_result",
     "execution_count": 461
    }
   ],
   "source": [
    "# 将标准化的数据添回原来的整个表里\n",
    "# 但是我们之前可以看到他的列属性名字没有了，加回去\n",
    "column_name = ['age', 'education_num', 'capital_gain', \n",
    "               'capital_loss', 'hours_per_week']\n",
    "train_data_standard.columns = column_name\n",
    "train_data_standard"
   ],
   "metadata": {
    "collapsed": false,
    "pycharm": {
     "name": "#%%\n",
     "is_executing": false
    }
   }
  },
  {
   "cell_type": "code",
   "execution_count": 462,
   "outputs": [
    {
     "data": {
      "text/plain": "            age  education_num  capital_gain  capital_loss  hours_per_week  \\\n0      0.042416       1.119909      0.142438     -0.219179       -0.079207   \n1      0.880958       1.119909     -0.147516     -0.219179       -2.331988   \n2     -0.033815      -0.441111     -0.147516     -0.219179       -0.079207   \n3      1.109651      -1.221621     -0.147516     -0.219179       -0.079207   \n4     -0.796125       1.119909     -0.147516     -0.219179       -0.079207   \n5     -0.110046       1.510164     -0.147516     -0.219179       -0.079207   \n6      0.804727      -2.002131     -0.147516     -0.219179       -2.081679   \n7      1.033420      -0.441111     -0.147516     -0.219179        0.337974   \n8     -0.567432       1.510164      1.730916     -0.219179        0.755156   \n9      0.271109       1.119909      0.543092     -0.219179       -0.079207   \n10    -0.110046      -0.050856     -0.147516     -0.219179        3.258246   \n11    -0.643663       1.119909     -0.147516     -0.219179       -0.079207   \n12    -1.177281       1.119909     -0.147516     -0.219179       -0.913570   \n13    -0.491201       0.729654     -0.147516     -0.219179        0.755156   \n14     0.118647       0.339399     -0.147516     -0.219179       -0.079207   \n15    -0.338739      -2.392386     -0.147516     -0.219179        0.337974   \n16    -1.024819      -0.441111     -0.147516     -0.219179       -0.496389   \n17    -0.491201      -0.441111     -0.147516     -0.219179       -0.079207   \n18    -0.033815      -1.221621     -0.147516     -0.219179        0.755156   \n19     0.347340       1.510164     -0.147516     -0.219179        0.337974   \n20     0.118647       2.290674     -0.147516     -0.219179        1.589519   \n21     1.185882      -0.441111     -0.147516     -0.219179       -1.747934   \n22    -0.262508      -2.002131     -0.147516     -0.219179       -0.079207   \n23     0.347340      -1.221621     -0.147516      4.814709       -0.079207   \n24     1.567037      -0.441111     -0.147516     -0.219179       -0.079207   \n25     1.338344       1.119909     -0.147516     -0.219179       -0.079207   \n26    -1.482205      -0.441111     -0.147516     -0.219179       -0.079207   \n28     0.804727      -0.441111     -0.147516     -0.219179       -0.079207   \n29    -1.177281       0.729654     -0.147516     -0.219179        0.922029   \n30    -1.405974      -0.050856     -0.147516     -0.219179        0.254538   \n...         ...            ...           ...           ...             ...   \n30682  0.576034      -0.050856     -0.147516     -0.219179        0.588283   \n30683 -0.872356      -0.441111     -0.147516     -0.219179        1.923265   \n30684 -0.414970      -0.441111     -0.147516     -0.219179       -0.079207   \n30685  1.490806      -1.221621     -0.147516     -0.219179       -0.079207   \n30686 -0.643663      -0.441111     -0.147516     -0.219179        1.172338   \n30688 -0.491201      -1.611876     -0.147516     -0.219179       -0.079207   \n30689 -1.253512      -0.050856     -0.147516     -0.219179       -0.079207   \n30690 -0.567432      -0.441111     -0.147516     -0.219179       -0.079207   \n30691 -0.719894      -0.441111     -0.147516     -0.219179       -0.496389   \n30692 -0.338739       2.290674     -0.147516     -0.219179        1.589519   \n30694 -0.110046      -0.050856     -0.147516     -0.219179       -0.162644   \n30695 -1.253512      -0.831366     -0.147516     -0.219179       -0.496389   \n30696 -0.338739       1.119909     -0.147516     -0.219179        1.172338   \n30697 -0.643663      -0.441111     -0.147516     -0.219179        0.421411   \n30699  0.499803      -0.441111     -0.147516     -0.219179       -0.079207   \n30700  0.499803       0.729654     -0.147516     -0.219179        0.588283   \n30701 -0.567432       1.510164     -0.147516     -0.219179       -0.913570   \n30702  0.042416       0.729654     -0.147516     -0.219179       -1.747934   \n30703 -0.110046       0.729654     -0.147516     -0.219179       -0.079207   \n30704  0.347340      -0.441111     -0.147516     -0.219179       -0.079207   \n30705  2.024424       1.900419     -0.002672     -0.219179        1.589519   \n30706  0.347340      -0.050856     -0.147516     -0.219179       -0.079207   \n30708 -0.491201      -1.611876     -0.147516     -0.219179       -0.079207   \n30709  0.347340       0.339399     -0.147516     -0.219179        0.337974   \n30710 -0.491201       1.510164     -0.147516     -0.219179       -2.498861   \n30712 -1.253512      -0.050856     -0.147516     -0.219179       -0.079207   \n30714  0.118647      -0.441111     -0.147516     -0.219179       -0.079207   \n30715  1.490806      -0.441111     -0.147516     -0.219179       -0.079207   \n30716 -1.253512      -0.441111     -0.147516     -0.219179       -1.747934   \n30717  1.033420      -0.441111      1.856287     -0.219179       -0.079207   \n\n       income  workclass_ Gov  workclass_ Private  workclass_ Self-emp  \\\n0           1               1                   0                    0   \n1           1               0                   0                    1   \n2           1               0                   1                    0   \n3           1               0                   1                    0   \n4           1               0                   1                    0   \n5           1               0                   1                    0   \n6           1               0                   1                    0   \n7           0               0                   0                    1   \n8           0               0                   1                    0   \n9           0               0                   1                    0   \n10          0               0                   1                    0   \n11          0               1                   0                    0   \n12          1               0                   1                    0   \n13          1               0                   1                    0   \n14          0               0                   1                    0   \n15          1               0                   1                    0   \n16          1               0                   0                    1   \n17          1               0                   1                    0   \n18          1               0                   1                    0   \n19          0               0                   0                    1   \n20          0               0                   1                    0   \n21          1               0                   1                    0   \n22          1               1                   0                    0   \n23          1               0                   1                    0   \n24          1               0                   1                    0   \n25          0               1                   0                    0   \n26          1               0                   1                    0   \n28          1               0                   1                    0   \n29          1               0                   1                    0   \n30          1               1                   0                    0   \n...       ...             ...                 ...                  ...   \n30682       1               0                   1                    0   \n30683       0               0                   1                    0   \n30684       0               0                   1                    0   \n30685       1               0                   0                    1   \n30686       1               0                   1                    0   \n30688       0               0                   1                    0   \n30689       1               1                   0                    0   \n30690       0               0                   1                    0   \n30691       1               0                   1                    0   \n30692       1               0                   1                    0   \n30694       1               0                   1                    0   \n30695       0               0                   1                    0   \n30696       1               0                   1                    0   \n30697       1               0                   1                    0   \n30699       1               0                   1                    0   \n30700       0               1                   0                    0   \n30701       0               0                   1                    0   \n30702       1               0                   1                    0   \n30703       1               0                   1                    0   \n30704       1               0                   1                    0   \n30705       1               0                   1                    0   \n30706       1               0                   1                    0   \n30708       1               0                   1                    0   \n30709       1               0                   1                    0   \n30710       1               0                   1                    0   \n30712       1               1                   0                    0   \n30714       1               0                   1                    0   \n30715       1               0                   1                    0   \n30716       1               0                   1                    0   \n30717       1               0                   1                    0   \n\n       workclass_ Un-emp  ...  native_country_ Jamaica  native_country_ Japan  \\\n0                      0  ...                        0                      0   \n1                      0  ...                        0                      0   \n2                      0  ...                        0                      0   \n3                      0  ...                        0                      0   \n4                      0  ...                        0                      0   \n5                      0  ...                        0                      0   \n6                      0  ...                        1                      0   \n7                      0  ...                        0                      0   \n8                      0  ...                        0                      0   \n9                      0  ...                        0                      0   \n10                     0  ...                        0                      0   \n11                     0  ...                        0                      0   \n12                     0  ...                        0                      0   \n13                     0  ...                        0                      0   \n14                     0  ...                        0                      0   \n15                     0  ...                        0                      0   \n16                     0  ...                        0                      0   \n17                     0  ...                        0                      0   \n18                     0  ...                        0                      0   \n19                     0  ...                        0                      0   \n20                     0  ...                        0                      0   \n21                     0  ...                        0                      0   \n22                     0  ...                        0                      0   \n23                     0  ...                        0                      0   \n24                     0  ...                        0                      0   \n25                     0  ...                        0                      0   \n26                     0  ...                        0                      0   \n28                     0  ...                        0                      0   \n29                     0  ...                        0                      0   \n30                     0  ...                        0                      0   \n...                  ...  ...                      ...                    ...   \n30682                  0  ...                        0                      0   \n30683                  0  ...                        0                      0   \n30684                  0  ...                        0                      0   \n30685                  0  ...                        0                      0   \n30686                  0  ...                        0                      0   \n30688                  0  ...                        0                      0   \n30689                  0  ...                        0                      0   \n30690                  0  ...                        0                      0   \n30691                  0  ...                        0                      0   \n30692                  0  ...                        0                      0   \n30694                  0  ...                        0                      0   \n30695                  0  ...                        0                      0   \n30696                  0  ...                        0                      0   \n30697                  0  ...                        0                      0   \n30699                  0  ...                        0                      0   \n30700                  0  ...                        0                      0   \n30701                  0  ...                        0                      0   \n30702                  0  ...                        0                      0   \n30703                  0  ...                        0                      0   \n30704                  0  ...                        0                      0   \n30705                  0  ...                        0                      0   \n30706                  0  ...                        0                      0   \n30708                  0  ...                        0                      0   \n30709                  0  ...                        0                      0   \n30710                  0  ...                        0                      0   \n30712                  0  ...                        0                      0   \n30714                  0  ...                        0                      0   \n30715                  0  ...                        0                      0   \n30716                  0  ...                        0                      0   \n30717                  0  ...                        0                      0   \n\n       native_country_ Mexico  native_country_ Other  \\\n0                           0                      0   \n1                           0                      0   \n2                           0                      0   \n3                           0                      0   \n4                           0                      0   \n5                           0                      0   \n6                           0                      0   \n7                           0                      0   \n8                           0                      0   \n9                           0                      0   \n10                          0                      0   \n11                          0                      0   \n12                          0                      0   \n13                          0                      0   \n14                          0                      0   \n15                          1                      0   \n16                          0                      0   \n17                          0                      0   \n18                          0                      0   \n19                          0                      0   \n20                          0                      0   \n21                          0                      0   \n22                          0                      0   \n23                          0                      0   \n24                          0                      0   \n25                          0                      0   \n26                          0                      0   \n28                          0                      0   \n29                          0                      0   \n30                          0                      0   \n...                       ...                    ...   \n30682                       0                      0   \n30683                       0                      0   \n30684                       0                      0   \n30685                       0                      0   \n30686                       0                      0   \n30688                       0                      0   \n30689                       0                      0   \n30690                       0                      0   \n30691                       0                      0   \n30692                       0                      0   \n30694                       0                      0   \n30695                       0                      0   \n30696                       0                      0   \n30697                       0                      0   \n30699                       0                      0   \n30700                       0                      0   \n30701                       0                      0   \n30702                       0                      0   \n30703                       0                      0   \n30704                       0                      0   \n30705                       0                      0   \n30706                       0                      0   \n30708                       0                      0   \n30709                       0                      0   \n30710                       0                      0   \n30712                       0                      0   \n30714                       0                      0   \n30715                       0                      0   \n30716                       0                      0   \n30717                       0                      0   \n\n       native_country_ Philippines  native_country_ Poland  \\\n0                                0                       0   \n1                                0                       0   \n2                                0                       0   \n3                                0                       0   \n4                                0                       0   \n5                                0                       0   \n6                                0                       0   \n7                                0                       0   \n8                                0                       0   \n9                                0                       0   \n10                               0                       0   \n11                               0                       0   \n12                               0                       0   \n13                               0                       0   \n14                               0                       0   \n15                               0                       0   \n16                               0                       0   \n17                               0                       0   \n18                               0                       0   \n19                               0                       0   \n20                               0                       0   \n21                               0                       0   \n22                               0                       0   \n23                               0                       0   \n24                               0                       0   \n25                               0                       0   \n26                               0                       0   \n28                               0                       0   \n29                               0                       0   \n30                               0                       0   \n...                            ...                     ...   \n30682                            0                       0   \n30683                            0                       0   \n30684                            0                       0   \n30685                            0                       0   \n30686                            0                       0   \n30688                            0                       0   \n30689                            0                       0   \n30690                            0                       0   \n30691                            0                       0   \n30692                            0                       0   \n30694                            0                       0   \n30695                            0                       0   \n30696                            0                       0   \n30697                            0                       0   \n30699                            0                       0   \n30700                            0                       0   \n30701                            0                       0   \n30702                            0                       0   \n30703                            0                       0   \n30704                            0                       0   \n30705                            0                       0   \n30706                            0                       0   \n30708                            0                       0   \n30709                            0                       0   \n30710                            0                       0   \n30712                            0                       0   \n30714                            0                       0   \n30715                            0                       0   \n30716                            0                       0   \n30717                            0                       0   \n\n       native_country_ Puerto-Rico  native_country_ South  \\\n0                                0                      0   \n1                                0                      0   \n2                                0                      0   \n3                                0                      0   \n4                                0                      0   \n5                                0                      0   \n6                                0                      0   \n7                                0                      0   \n8                                0                      0   \n9                                0                      0   \n10                               0                      0   \n11                               0                      0   \n12                               0                      0   \n13                               0                      0   \n14                               0                      0   \n15                               0                      0   \n16                               0                      0   \n17                               0                      0   \n18                               0                      0   \n19                               0                      0   \n20                               0                      0   \n21                               0                      0   \n22                               0                      0   \n23                               0                      0   \n24                               0                      0   \n25                               0                      0   \n26                               0                      0   \n28                               0                      0   \n29                               0                      0   \n30                               0                      0   \n...                            ...                    ...   \n30682                            0                      0   \n30683                            0                      0   \n30684                            0                      0   \n30685                            0                      0   \n30686                            0                      0   \n30688                            0                      0   \n30689                            0                      0   \n30690                            0                      0   \n30691                            0                      0   \n30692                            0                      0   \n30694                            0                      0   \n30695                            0                      0   \n30696                            0                      0   \n30697                            0                      0   \n30699                            0                      0   \n30700                            0                      0   \n30701                            0                      0   \n30702                            0                      0   \n30703                            0                      0   \n30704                            0                      0   \n30705                            0                      0   \n30706                            0                      0   \n30708                            0                      0   \n30709                            0                      0   \n30710                            0                      0   \n30712                            0                      0   \n30714                            0                      0   \n30715                            0                      0   \n30716                            0                      0   \n30717                            0                      0   \n\n       native_country_ United-States  native_country_ Vietnam  \n0                                  1                        0  \n1                                  1                        0  \n2                                  1                        0  \n3                                  1                        0  \n4                                  0                        0  \n5                                  1                        0  \n6                                  0                        0  \n7                                  1                        0  \n8                                  1                        0  \n9                                  1                        0  \n10                                 1                        0  \n11                                 0                        0  \n12                                 1                        0  \n13                                 1                        0  \n14                                 1                        0  \n15                                 0                        0  \n16                                 1                        0  \n17                                 1                        0  \n18                                 1                        0  \n19                                 1                        0  \n20                                 1                        0  \n21                                 1                        0  \n22                                 1                        0  \n23                                 1                        0  \n24                                 1                        0  \n25                                 1                        0  \n26                                 1                        0  \n28                                 1                        0  \n29                                 1                        0  \n30                                 1                        0  \n...                              ...                      ...  \n30682                              1                        0  \n30683                              1                        0  \n30684                              1                        0  \n30685                              1                        0  \n30686                              1                        0  \n30688                              1                        0  \n30689                              1                        0  \n30690                              1                        0  \n30691                              1                        0  \n30692                              1                        0  \n30694                              1                        0  \n30695                              1                        0  \n30696                              1                        0  \n30697                              1                        0  \n30699                              1                        0  \n30700                              1                        0  \n30701                              1                        0  \n30702                              1                        0  \n30703                              1                        0  \n30704                              1                        0  \n30705                              1                        0  \n30706                              1                        0  \n30708                              1                        0  \n30709                              1                        0  \n30710                              1                        0  \n30712                              1                        0  \n30714                              1                        0  \n30715                              1                        0  \n30716                              1                        0  \n30717                              1                        0  \n\n[28992 rows x 60 columns]",
      "text/html": "<div>\n<style scoped>\n    .dataframe tbody tr th:only-of-type {\n        vertical-align: middle;\n    }\n\n    .dataframe tbody tr th {\n        vertical-align: top;\n    }\n\n    .dataframe thead th {\n        text-align: right;\n    }\n</style>\n<table border=\"1\" class=\"dataframe\">\n  <thead>\n    <tr style=\"text-align: right;\">\n      <th></th>\n      <th>age</th>\n      <th>education_num</th>\n      <th>capital_gain</th>\n      <th>capital_loss</th>\n      <th>hours_per_week</th>\n      <th>income</th>\n      <th>workclass_ Gov</th>\n      <th>workclass_ Private</th>\n      <th>workclass_ Self-emp</th>\n      <th>workclass_ Un-emp</th>\n      <th>...</th>\n      <th>native_country_ Jamaica</th>\n      <th>native_country_ Japan</th>\n      <th>native_country_ Mexico</th>\n      <th>native_country_ Other</th>\n      <th>native_country_ Philippines</th>\n      <th>native_country_ Poland</th>\n      <th>native_country_ Puerto-Rico</th>\n      <th>native_country_ South</th>\n      <th>native_country_ United-States</th>\n      <th>native_country_ Vietnam</th>\n    </tr>\n  </thead>\n  <tbody>\n    <tr>\n      <th>0</th>\n      <td>0.042416</td>\n      <td>1.119909</td>\n      <td>0.142438</td>\n      <td>-0.219179</td>\n      <td>-0.079207</td>\n      <td>1</td>\n      <td>1</td>\n      <td>0</td>\n      <td>0</td>\n      <td>0</td>\n      <td>...</td>\n      <td>0</td>\n      <td>0</td>\n      <td>0</td>\n      <td>0</td>\n      <td>0</td>\n      <td>0</td>\n      <td>0</td>\n      <td>0</td>\n      <td>1</td>\n      <td>0</td>\n    </tr>\n    <tr>\n      <th>1</th>\n      <td>0.880958</td>\n      <td>1.119909</td>\n      <td>-0.147516</td>\n      <td>-0.219179</td>\n      <td>-2.331988</td>\n      <td>1</td>\n      <td>0</td>\n      <td>0</td>\n      <td>1</td>\n      <td>0</td>\n      <td>...</td>\n      <td>0</td>\n      <td>0</td>\n      <td>0</td>\n      <td>0</td>\n      <td>0</td>\n      <td>0</td>\n      <td>0</td>\n      <td>0</td>\n      <td>1</td>\n      <td>0</td>\n    </tr>\n    <tr>\n      <th>2</th>\n      <td>-0.033815</td>\n      <td>-0.441111</td>\n      <td>-0.147516</td>\n      <td>-0.219179</td>\n      <td>-0.079207</td>\n      <td>1</td>\n      <td>0</td>\n      <td>1</td>\n      <td>0</td>\n      <td>0</td>\n      <td>...</td>\n      <td>0</td>\n      <td>0</td>\n      <td>0</td>\n      <td>0</td>\n      <td>0</td>\n      <td>0</td>\n      <td>0</td>\n      <td>0</td>\n      <td>1</td>\n      <td>0</td>\n    </tr>\n    <tr>\n      <th>3</th>\n      <td>1.109651</td>\n      <td>-1.221621</td>\n      <td>-0.147516</td>\n      <td>-0.219179</td>\n      <td>-0.079207</td>\n      <td>1</td>\n      <td>0</td>\n      <td>1</td>\n      <td>0</td>\n      <td>0</td>\n      <td>...</td>\n      <td>0</td>\n      <td>0</td>\n      <td>0</td>\n      <td>0</td>\n      <td>0</td>\n      <td>0</td>\n      <td>0</td>\n      <td>0</td>\n      <td>1</td>\n      <td>0</td>\n    </tr>\n    <tr>\n      <th>4</th>\n      <td>-0.796125</td>\n      <td>1.119909</td>\n      <td>-0.147516</td>\n      <td>-0.219179</td>\n      <td>-0.079207</td>\n      <td>1</td>\n      <td>0</td>\n      <td>1</td>\n      <td>0</td>\n      <td>0</td>\n      <td>...</td>\n      <td>0</td>\n      <td>0</td>\n      <td>0</td>\n      <td>0</td>\n      <td>0</td>\n      <td>0</td>\n      <td>0</td>\n      <td>0</td>\n      <td>0</td>\n      <td>0</td>\n    </tr>\n    <tr>\n      <th>5</th>\n      <td>-0.110046</td>\n      <td>1.510164</td>\n      <td>-0.147516</td>\n      <td>-0.219179</td>\n      <td>-0.079207</td>\n      <td>1</td>\n      <td>0</td>\n      <td>1</td>\n      <td>0</td>\n      <td>0</td>\n      <td>...</td>\n      <td>0</td>\n      <td>0</td>\n      <td>0</td>\n      <td>0</td>\n      <td>0</td>\n      <td>0</td>\n      <td>0</td>\n      <td>0</td>\n      <td>1</td>\n      <td>0</td>\n    </tr>\n    <tr>\n      <th>6</th>\n      <td>0.804727</td>\n      <td>-2.002131</td>\n      <td>-0.147516</td>\n      <td>-0.219179</td>\n      <td>-2.081679</td>\n      <td>1</td>\n      <td>0</td>\n      <td>1</td>\n      <td>0</td>\n      <td>0</td>\n      <td>...</td>\n      <td>1</td>\n      <td>0</td>\n      <td>0</td>\n      <td>0</td>\n      <td>0</td>\n      <td>0</td>\n      <td>0</td>\n      <td>0</td>\n      <td>0</td>\n      <td>0</td>\n    </tr>\n    <tr>\n      <th>7</th>\n      <td>1.033420</td>\n      <td>-0.441111</td>\n      <td>-0.147516</td>\n      <td>-0.219179</td>\n      <td>0.337974</td>\n      <td>0</td>\n      <td>0</td>\n      <td>0</td>\n      <td>1</td>\n      <td>0</td>\n      <td>...</td>\n      <td>0</td>\n      <td>0</td>\n      <td>0</td>\n      <td>0</td>\n      <td>0</td>\n      <td>0</td>\n      <td>0</td>\n      <td>0</td>\n      <td>1</td>\n      <td>0</td>\n    </tr>\n    <tr>\n      <th>8</th>\n      <td>-0.567432</td>\n      <td>1.510164</td>\n      <td>1.730916</td>\n      <td>-0.219179</td>\n      <td>0.755156</td>\n      <td>0</td>\n      <td>0</td>\n      <td>1</td>\n      <td>0</td>\n      <td>0</td>\n      <td>...</td>\n      <td>0</td>\n      <td>0</td>\n      <td>0</td>\n      <td>0</td>\n      <td>0</td>\n      <td>0</td>\n      <td>0</td>\n      <td>0</td>\n      <td>1</td>\n      <td>0</td>\n    </tr>\n    <tr>\n      <th>9</th>\n      <td>0.271109</td>\n      <td>1.119909</td>\n      <td>0.543092</td>\n      <td>-0.219179</td>\n      <td>-0.079207</td>\n      <td>0</td>\n      <td>0</td>\n      <td>1</td>\n      <td>0</td>\n      <td>0</td>\n      <td>...</td>\n      <td>0</td>\n      <td>0</td>\n      <td>0</td>\n      <td>0</td>\n      <td>0</td>\n      <td>0</td>\n      <td>0</td>\n      <td>0</td>\n      <td>1</td>\n      <td>0</td>\n    </tr>\n    <tr>\n      <th>10</th>\n      <td>-0.110046</td>\n      <td>-0.050856</td>\n      <td>-0.147516</td>\n      <td>-0.219179</td>\n      <td>3.258246</td>\n      <td>0</td>\n      <td>0</td>\n      <td>1</td>\n      <td>0</td>\n      <td>0</td>\n      <td>...</td>\n      <td>0</td>\n      <td>0</td>\n      <td>0</td>\n      <td>0</td>\n      <td>0</td>\n      <td>0</td>\n      <td>0</td>\n      <td>0</td>\n      <td>1</td>\n      <td>0</td>\n    </tr>\n    <tr>\n      <th>11</th>\n      <td>-0.643663</td>\n      <td>1.119909</td>\n      <td>-0.147516</td>\n      <td>-0.219179</td>\n      <td>-0.079207</td>\n      <td>0</td>\n      <td>1</td>\n      <td>0</td>\n      <td>0</td>\n      <td>0</td>\n      <td>...</td>\n      <td>0</td>\n      <td>0</td>\n      <td>0</td>\n      <td>0</td>\n      <td>0</td>\n      <td>0</td>\n      <td>0</td>\n      <td>0</td>\n      <td>0</td>\n      <td>0</td>\n    </tr>\n    <tr>\n      <th>12</th>\n      <td>-1.177281</td>\n      <td>1.119909</td>\n      <td>-0.147516</td>\n      <td>-0.219179</td>\n      <td>-0.913570</td>\n      <td>1</td>\n      <td>0</td>\n      <td>1</td>\n      <td>0</td>\n      <td>0</td>\n      <td>...</td>\n      <td>0</td>\n      <td>0</td>\n      <td>0</td>\n      <td>0</td>\n      <td>0</td>\n      <td>0</td>\n      <td>0</td>\n      <td>0</td>\n      <td>1</td>\n      <td>0</td>\n    </tr>\n    <tr>\n      <th>13</th>\n      <td>-0.491201</td>\n      <td>0.729654</td>\n      <td>-0.147516</td>\n      <td>-0.219179</td>\n      <td>0.755156</td>\n      <td>1</td>\n      <td>0</td>\n      <td>1</td>\n      <td>0</td>\n      <td>0</td>\n      <td>...</td>\n      <td>0</td>\n      <td>0</td>\n      <td>0</td>\n      <td>0</td>\n      <td>0</td>\n      <td>0</td>\n      <td>0</td>\n      <td>0</td>\n      <td>1</td>\n      <td>0</td>\n    </tr>\n    <tr>\n      <th>14</th>\n      <td>0.118647</td>\n      <td>0.339399</td>\n      <td>-0.147516</td>\n      <td>-0.219179</td>\n      <td>-0.079207</td>\n      <td>0</td>\n      <td>0</td>\n      <td>1</td>\n      <td>0</td>\n      <td>0</td>\n      <td>...</td>\n      <td>0</td>\n      <td>0</td>\n      <td>0</td>\n      <td>0</td>\n      <td>0</td>\n      <td>0</td>\n      <td>0</td>\n      <td>0</td>\n      <td>1</td>\n      <td>0</td>\n    </tr>\n    <tr>\n      <th>15</th>\n      <td>-0.338739</td>\n      <td>-2.392386</td>\n      <td>-0.147516</td>\n      <td>-0.219179</td>\n      <td>0.337974</td>\n      <td>1</td>\n      <td>0</td>\n      <td>1</td>\n      <td>0</td>\n      <td>0</td>\n      <td>...</td>\n      <td>0</td>\n      <td>0</td>\n      <td>1</td>\n      <td>0</td>\n      <td>0</td>\n      <td>0</td>\n      <td>0</td>\n      <td>0</td>\n      <td>0</td>\n      <td>0</td>\n    </tr>\n    <tr>\n      <th>16</th>\n      <td>-1.024819</td>\n      <td>-0.441111</td>\n      <td>-0.147516</td>\n      <td>-0.219179</td>\n      <td>-0.496389</td>\n      <td>1</td>\n      <td>0</td>\n      <td>0</td>\n      <td>1</td>\n      <td>0</td>\n      <td>...</td>\n      <td>0</td>\n      <td>0</td>\n      <td>0</td>\n      <td>0</td>\n      <td>0</td>\n      <td>0</td>\n      <td>0</td>\n      <td>0</td>\n      <td>1</td>\n      <td>0</td>\n    </tr>\n    <tr>\n      <th>17</th>\n      <td>-0.491201</td>\n      <td>-0.441111</td>\n      <td>-0.147516</td>\n      <td>-0.219179</td>\n      <td>-0.079207</td>\n      <td>1</td>\n      <td>0</td>\n      <td>1</td>\n      <td>0</td>\n      <td>0</td>\n      <td>...</td>\n      <td>0</td>\n      <td>0</td>\n      <td>0</td>\n      <td>0</td>\n      <td>0</td>\n      <td>0</td>\n      <td>0</td>\n      <td>0</td>\n      <td>1</td>\n      <td>0</td>\n    </tr>\n    <tr>\n      <th>18</th>\n      <td>-0.033815</td>\n      <td>-1.221621</td>\n      <td>-0.147516</td>\n      <td>-0.219179</td>\n      <td>0.755156</td>\n      <td>1</td>\n      <td>0</td>\n      <td>1</td>\n      <td>0</td>\n      <td>0</td>\n      <td>...</td>\n      <td>0</td>\n      <td>0</td>\n      <td>0</td>\n      <td>0</td>\n      <td>0</td>\n      <td>0</td>\n      <td>0</td>\n      <td>0</td>\n      <td>1</td>\n      <td>0</td>\n    </tr>\n    <tr>\n      <th>19</th>\n      <td>0.347340</td>\n      <td>1.510164</td>\n      <td>-0.147516</td>\n      <td>-0.219179</td>\n      <td>0.337974</td>\n      <td>0</td>\n      <td>0</td>\n      <td>0</td>\n      <td>1</td>\n      <td>0</td>\n      <td>...</td>\n      <td>0</td>\n      <td>0</td>\n      <td>0</td>\n      <td>0</td>\n      <td>0</td>\n      <td>0</td>\n      <td>0</td>\n      <td>0</td>\n      <td>1</td>\n      <td>0</td>\n    </tr>\n    <tr>\n      <th>20</th>\n      <td>0.118647</td>\n      <td>2.290674</td>\n      <td>-0.147516</td>\n      <td>-0.219179</td>\n      <td>1.589519</td>\n      <td>0</td>\n      <td>0</td>\n      <td>1</td>\n      <td>0</td>\n      <td>0</td>\n      <td>...</td>\n      <td>0</td>\n      <td>0</td>\n      <td>0</td>\n      <td>0</td>\n      <td>0</td>\n      <td>0</td>\n      <td>0</td>\n      <td>0</td>\n      <td>1</td>\n      <td>0</td>\n    </tr>\n    <tr>\n      <th>21</th>\n      <td>1.185882</td>\n      <td>-0.441111</td>\n      <td>-0.147516</td>\n      <td>-0.219179</td>\n      <td>-1.747934</td>\n      <td>1</td>\n      <td>0</td>\n      <td>1</td>\n      <td>0</td>\n      <td>0</td>\n      <td>...</td>\n      <td>0</td>\n      <td>0</td>\n      <td>0</td>\n      <td>0</td>\n      <td>0</td>\n      <td>0</td>\n      <td>0</td>\n      <td>0</td>\n      <td>1</td>\n      <td>0</td>\n    </tr>\n    <tr>\n      <th>22</th>\n      <td>-0.262508</td>\n      <td>-2.002131</td>\n      <td>-0.147516</td>\n      <td>-0.219179</td>\n      <td>-0.079207</td>\n      <td>1</td>\n      <td>1</td>\n      <td>0</td>\n      <td>0</td>\n      <td>0</td>\n      <td>...</td>\n      <td>0</td>\n      <td>0</td>\n      <td>0</td>\n      <td>0</td>\n      <td>0</td>\n      <td>0</td>\n      <td>0</td>\n      <td>0</td>\n      <td>1</td>\n      <td>0</td>\n    </tr>\n    <tr>\n      <th>23</th>\n      <td>0.347340</td>\n      <td>-1.221621</td>\n      <td>-0.147516</td>\n      <td>4.814709</td>\n      <td>-0.079207</td>\n      <td>1</td>\n      <td>0</td>\n      <td>1</td>\n      <td>0</td>\n      <td>0</td>\n      <td>...</td>\n      <td>0</td>\n      <td>0</td>\n      <td>0</td>\n      <td>0</td>\n      <td>0</td>\n      <td>0</td>\n      <td>0</td>\n      <td>0</td>\n      <td>1</td>\n      <td>0</td>\n    </tr>\n    <tr>\n      <th>24</th>\n      <td>1.567037</td>\n      <td>-0.441111</td>\n      <td>-0.147516</td>\n      <td>-0.219179</td>\n      <td>-0.079207</td>\n      <td>1</td>\n      <td>0</td>\n      <td>1</td>\n      <td>0</td>\n      <td>0</td>\n      <td>...</td>\n      <td>0</td>\n      <td>0</td>\n      <td>0</td>\n      <td>0</td>\n      <td>0</td>\n      <td>0</td>\n      <td>0</td>\n      <td>0</td>\n      <td>1</td>\n      <td>0</td>\n    </tr>\n    <tr>\n      <th>25</th>\n      <td>1.338344</td>\n      <td>1.119909</td>\n      <td>-0.147516</td>\n      <td>-0.219179</td>\n      <td>-0.079207</td>\n      <td>0</td>\n      <td>1</td>\n      <td>0</td>\n      <td>0</td>\n      <td>0</td>\n      <td>...</td>\n      <td>0</td>\n      <td>0</td>\n      <td>0</td>\n      <td>0</td>\n      <td>0</td>\n      <td>0</td>\n      <td>0</td>\n      <td>0</td>\n      <td>1</td>\n      <td>0</td>\n    </tr>\n    <tr>\n      <th>26</th>\n      <td>-1.482205</td>\n      <td>-0.441111</td>\n      <td>-0.147516</td>\n      <td>-0.219179</td>\n      <td>-0.079207</td>\n      <td>1</td>\n      <td>0</td>\n      <td>1</td>\n      <td>0</td>\n      <td>0</td>\n      <td>...</td>\n      <td>0</td>\n      <td>0</td>\n      <td>0</td>\n      <td>0</td>\n      <td>0</td>\n      <td>0</td>\n      <td>0</td>\n      <td>0</td>\n      <td>1</td>\n      <td>0</td>\n    </tr>\n    <tr>\n      <th>28</th>\n      <td>0.804727</td>\n      <td>-0.441111</td>\n      <td>-0.147516</td>\n      <td>-0.219179</td>\n      <td>-0.079207</td>\n      <td>1</td>\n      <td>0</td>\n      <td>1</td>\n      <td>0</td>\n      <td>0</td>\n      <td>...</td>\n      <td>0</td>\n      <td>0</td>\n      <td>0</td>\n      <td>0</td>\n      <td>0</td>\n      <td>0</td>\n      <td>0</td>\n      <td>0</td>\n      <td>1</td>\n      <td>0</td>\n    </tr>\n    <tr>\n      <th>29</th>\n      <td>-1.177281</td>\n      <td>0.729654</td>\n      <td>-0.147516</td>\n      <td>-0.219179</td>\n      <td>0.922029</td>\n      <td>1</td>\n      <td>0</td>\n      <td>1</td>\n      <td>0</td>\n      <td>0</td>\n      <td>...</td>\n      <td>0</td>\n      <td>0</td>\n      <td>0</td>\n      <td>0</td>\n      <td>0</td>\n      <td>0</td>\n      <td>0</td>\n      <td>0</td>\n      <td>1</td>\n      <td>0</td>\n    </tr>\n    <tr>\n      <th>30</th>\n      <td>-1.405974</td>\n      <td>-0.050856</td>\n      <td>-0.147516</td>\n      <td>-0.219179</td>\n      <td>0.254538</td>\n      <td>1</td>\n      <td>1</td>\n      <td>0</td>\n      <td>0</td>\n      <td>0</td>\n      <td>...</td>\n      <td>0</td>\n      <td>0</td>\n      <td>0</td>\n      <td>0</td>\n      <td>0</td>\n      <td>0</td>\n      <td>0</td>\n      <td>0</td>\n      <td>1</td>\n      <td>0</td>\n    </tr>\n    <tr>\n      <th>...</th>\n      <td>...</td>\n      <td>...</td>\n      <td>...</td>\n      <td>...</td>\n      <td>...</td>\n      <td>...</td>\n      <td>...</td>\n      <td>...</td>\n      <td>...</td>\n      <td>...</td>\n      <td>...</td>\n      <td>...</td>\n      <td>...</td>\n      <td>...</td>\n      <td>...</td>\n      <td>...</td>\n      <td>...</td>\n      <td>...</td>\n      <td>...</td>\n      <td>...</td>\n      <td>...</td>\n    </tr>\n    <tr>\n      <th>30682</th>\n      <td>0.576034</td>\n      <td>-0.050856</td>\n      <td>-0.147516</td>\n      <td>-0.219179</td>\n      <td>0.588283</td>\n      <td>1</td>\n      <td>0</td>\n      <td>1</td>\n      <td>0</td>\n      <td>0</td>\n      <td>...</td>\n      <td>0</td>\n      <td>0</td>\n      <td>0</td>\n      <td>0</td>\n      <td>0</td>\n      <td>0</td>\n      <td>0</td>\n      <td>0</td>\n      <td>1</td>\n      <td>0</td>\n    </tr>\n    <tr>\n      <th>30683</th>\n      <td>-0.872356</td>\n      <td>-0.441111</td>\n      <td>-0.147516</td>\n      <td>-0.219179</td>\n      <td>1.923265</td>\n      <td>0</td>\n      <td>0</td>\n      <td>1</td>\n      <td>0</td>\n      <td>0</td>\n      <td>...</td>\n      <td>0</td>\n      <td>0</td>\n      <td>0</td>\n      <td>0</td>\n      <td>0</td>\n      <td>0</td>\n      <td>0</td>\n      <td>0</td>\n      <td>1</td>\n      <td>0</td>\n    </tr>\n    <tr>\n      <th>30684</th>\n      <td>-0.414970</td>\n      <td>-0.441111</td>\n      <td>-0.147516</td>\n      <td>-0.219179</td>\n      <td>-0.079207</td>\n      <td>0</td>\n      <td>0</td>\n      <td>1</td>\n      <td>0</td>\n      <td>0</td>\n      <td>...</td>\n      <td>0</td>\n      <td>0</td>\n      <td>0</td>\n      <td>0</td>\n      <td>0</td>\n      <td>0</td>\n      <td>0</td>\n      <td>0</td>\n      <td>1</td>\n      <td>0</td>\n    </tr>\n    <tr>\n      <th>30685</th>\n      <td>1.490806</td>\n      <td>-1.221621</td>\n      <td>-0.147516</td>\n      <td>-0.219179</td>\n      <td>-0.079207</td>\n      <td>1</td>\n      <td>0</td>\n      <td>0</td>\n      <td>1</td>\n      <td>0</td>\n      <td>...</td>\n      <td>0</td>\n      <td>0</td>\n      <td>0</td>\n      <td>0</td>\n      <td>0</td>\n      <td>0</td>\n      <td>0</td>\n      <td>0</td>\n      <td>1</td>\n      <td>0</td>\n    </tr>\n    <tr>\n      <th>30686</th>\n      <td>-0.643663</td>\n      <td>-0.441111</td>\n      <td>-0.147516</td>\n      <td>-0.219179</td>\n      <td>1.172338</td>\n      <td>1</td>\n      <td>0</td>\n      <td>1</td>\n      <td>0</td>\n      <td>0</td>\n      <td>...</td>\n      <td>0</td>\n      <td>0</td>\n      <td>0</td>\n      <td>0</td>\n      <td>0</td>\n      <td>0</td>\n      <td>0</td>\n      <td>0</td>\n      <td>1</td>\n      <td>0</td>\n    </tr>\n    <tr>\n      <th>30688</th>\n      <td>-0.491201</td>\n      <td>-1.611876</td>\n      <td>-0.147516</td>\n      <td>-0.219179</td>\n      <td>-0.079207</td>\n      <td>0</td>\n      <td>0</td>\n      <td>1</td>\n      <td>0</td>\n      <td>0</td>\n      <td>...</td>\n      <td>0</td>\n      <td>0</td>\n      <td>0</td>\n      <td>0</td>\n      <td>0</td>\n      <td>0</td>\n      <td>0</td>\n      <td>0</td>\n      <td>1</td>\n      <td>0</td>\n    </tr>\n    <tr>\n      <th>30689</th>\n      <td>-1.253512</td>\n      <td>-0.050856</td>\n      <td>-0.147516</td>\n      <td>-0.219179</td>\n      <td>-0.079207</td>\n      <td>1</td>\n      <td>1</td>\n      <td>0</td>\n      <td>0</td>\n      <td>0</td>\n      <td>...</td>\n      <td>0</td>\n      <td>0</td>\n      <td>0</td>\n      <td>0</td>\n      <td>0</td>\n      <td>0</td>\n      <td>0</td>\n      <td>0</td>\n      <td>1</td>\n      <td>0</td>\n    </tr>\n    <tr>\n      <th>30690</th>\n      <td>-0.567432</td>\n      <td>-0.441111</td>\n      <td>-0.147516</td>\n      <td>-0.219179</td>\n      <td>-0.079207</td>\n      <td>0</td>\n      <td>0</td>\n      <td>1</td>\n      <td>0</td>\n      <td>0</td>\n      <td>...</td>\n      <td>0</td>\n      <td>0</td>\n      <td>0</td>\n      <td>0</td>\n      <td>0</td>\n      <td>0</td>\n      <td>0</td>\n      <td>0</td>\n      <td>1</td>\n      <td>0</td>\n    </tr>\n    <tr>\n      <th>30691</th>\n      <td>-0.719894</td>\n      <td>-0.441111</td>\n      <td>-0.147516</td>\n      <td>-0.219179</td>\n      <td>-0.496389</td>\n      <td>1</td>\n      <td>0</td>\n      <td>1</td>\n      <td>0</td>\n      <td>0</td>\n      <td>...</td>\n      <td>0</td>\n      <td>0</td>\n      <td>0</td>\n      <td>0</td>\n      <td>0</td>\n      <td>0</td>\n      <td>0</td>\n      <td>0</td>\n      <td>1</td>\n      <td>0</td>\n    </tr>\n    <tr>\n      <th>30692</th>\n      <td>-0.338739</td>\n      <td>2.290674</td>\n      <td>-0.147516</td>\n      <td>-0.219179</td>\n      <td>1.589519</td>\n      <td>1</td>\n      <td>0</td>\n      <td>1</td>\n      <td>0</td>\n      <td>0</td>\n      <td>...</td>\n      <td>0</td>\n      <td>0</td>\n      <td>0</td>\n      <td>0</td>\n      <td>0</td>\n      <td>0</td>\n      <td>0</td>\n      <td>0</td>\n      <td>1</td>\n      <td>0</td>\n    </tr>\n    <tr>\n      <th>30694</th>\n      <td>-0.110046</td>\n      <td>-0.050856</td>\n      <td>-0.147516</td>\n      <td>-0.219179</td>\n      <td>-0.162644</td>\n      <td>1</td>\n      <td>0</td>\n      <td>1</td>\n      <td>0</td>\n      <td>0</td>\n      <td>...</td>\n      <td>0</td>\n      <td>0</td>\n      <td>0</td>\n      <td>0</td>\n      <td>0</td>\n      <td>0</td>\n      <td>0</td>\n      <td>0</td>\n      <td>1</td>\n      <td>0</td>\n    </tr>\n    <tr>\n      <th>30695</th>\n      <td>-1.253512</td>\n      <td>-0.831366</td>\n      <td>-0.147516</td>\n      <td>-0.219179</td>\n      <td>-0.496389</td>\n      <td>0</td>\n      <td>0</td>\n      <td>1</td>\n      <td>0</td>\n      <td>0</td>\n      <td>...</td>\n      <td>0</td>\n      <td>0</td>\n      <td>0</td>\n      <td>0</td>\n      <td>0</td>\n      <td>0</td>\n      <td>0</td>\n      <td>0</td>\n      <td>1</td>\n      <td>0</td>\n    </tr>\n    <tr>\n      <th>30696</th>\n      <td>-0.338739</td>\n      <td>1.119909</td>\n      <td>-0.147516</td>\n      <td>-0.219179</td>\n      <td>1.172338</td>\n      <td>1</td>\n      <td>0</td>\n      <td>1</td>\n      <td>0</td>\n      <td>0</td>\n      <td>...</td>\n      <td>0</td>\n      <td>0</td>\n      <td>0</td>\n      <td>0</td>\n      <td>0</td>\n      <td>0</td>\n      <td>0</td>\n      <td>0</td>\n      <td>1</td>\n      <td>0</td>\n    </tr>\n    <tr>\n      <th>30697</th>\n      <td>-0.643663</td>\n      <td>-0.441111</td>\n      <td>-0.147516</td>\n      <td>-0.219179</td>\n      <td>0.421411</td>\n      <td>1</td>\n      <td>0</td>\n      <td>1</td>\n      <td>0</td>\n      <td>0</td>\n      <td>...</td>\n      <td>0</td>\n      <td>0</td>\n      <td>0</td>\n      <td>0</td>\n      <td>0</td>\n      <td>0</td>\n      <td>0</td>\n      <td>0</td>\n      <td>1</td>\n      <td>0</td>\n    </tr>\n    <tr>\n      <th>30699</th>\n      <td>0.499803</td>\n      <td>-0.441111</td>\n      <td>-0.147516</td>\n      <td>-0.219179</td>\n      <td>-0.079207</td>\n      <td>1</td>\n      <td>0</td>\n      <td>1</td>\n      <td>0</td>\n      <td>0</td>\n      <td>...</td>\n      <td>0</td>\n      <td>0</td>\n      <td>0</td>\n      <td>0</td>\n      <td>0</td>\n      <td>0</td>\n      <td>0</td>\n      <td>0</td>\n      <td>1</td>\n      <td>0</td>\n    </tr>\n    <tr>\n      <th>30700</th>\n      <td>0.499803</td>\n      <td>0.729654</td>\n      <td>-0.147516</td>\n      <td>-0.219179</td>\n      <td>0.588283</td>\n      <td>0</td>\n      <td>1</td>\n      <td>0</td>\n      <td>0</td>\n      <td>0</td>\n      <td>...</td>\n      <td>0</td>\n      <td>0</td>\n      <td>0</td>\n      <td>0</td>\n      <td>0</td>\n      <td>0</td>\n      <td>0</td>\n      <td>0</td>\n      <td>1</td>\n      <td>0</td>\n    </tr>\n    <tr>\n      <th>30701</th>\n      <td>-0.567432</td>\n      <td>1.510164</td>\n      <td>-0.147516</td>\n      <td>-0.219179</td>\n      <td>-0.913570</td>\n      <td>0</td>\n      <td>0</td>\n      <td>1</td>\n      <td>0</td>\n      <td>0</td>\n      <td>...</td>\n      <td>0</td>\n      <td>0</td>\n      <td>0</td>\n      <td>0</td>\n      <td>0</td>\n      <td>0</td>\n      <td>0</td>\n      <td>0</td>\n      <td>1</td>\n      <td>0</td>\n    </tr>\n    <tr>\n      <th>30702</th>\n      <td>0.042416</td>\n      <td>0.729654</td>\n      <td>-0.147516</td>\n      <td>-0.219179</td>\n      <td>-1.747934</td>\n      <td>1</td>\n      <td>0</td>\n      <td>1</td>\n      <td>0</td>\n      <td>0</td>\n      <td>...</td>\n      <td>0</td>\n      <td>0</td>\n      <td>0</td>\n      <td>0</td>\n      <td>0</td>\n      <td>0</td>\n      <td>0</td>\n      <td>0</td>\n      <td>1</td>\n      <td>0</td>\n    </tr>\n    <tr>\n      <th>30703</th>\n      <td>-0.110046</td>\n      <td>0.729654</td>\n      <td>-0.147516</td>\n      <td>-0.219179</td>\n      <td>-0.079207</td>\n      <td>1</td>\n      <td>0</td>\n      <td>1</td>\n      <td>0</td>\n      <td>0</td>\n      <td>...</td>\n      <td>0</td>\n      <td>0</td>\n      <td>0</td>\n      <td>0</td>\n      <td>0</td>\n      <td>0</td>\n      <td>0</td>\n      <td>0</td>\n      <td>1</td>\n      <td>0</td>\n    </tr>\n    <tr>\n      <th>30704</th>\n      <td>0.347340</td>\n      <td>-0.441111</td>\n      <td>-0.147516</td>\n      <td>-0.219179</td>\n      <td>-0.079207</td>\n      <td>1</td>\n      <td>0</td>\n      <td>1</td>\n      <td>0</td>\n      <td>0</td>\n      <td>...</td>\n      <td>0</td>\n      <td>0</td>\n      <td>0</td>\n      <td>0</td>\n      <td>0</td>\n      <td>0</td>\n      <td>0</td>\n      <td>0</td>\n      <td>1</td>\n      <td>0</td>\n    </tr>\n    <tr>\n      <th>30705</th>\n      <td>2.024424</td>\n      <td>1.900419</td>\n      <td>-0.002672</td>\n      <td>-0.219179</td>\n      <td>1.589519</td>\n      <td>1</td>\n      <td>0</td>\n      <td>1</td>\n      <td>0</td>\n      <td>0</td>\n      <td>...</td>\n      <td>0</td>\n      <td>0</td>\n      <td>0</td>\n      <td>0</td>\n      <td>0</td>\n      <td>0</td>\n      <td>0</td>\n      <td>0</td>\n      <td>1</td>\n      <td>0</td>\n    </tr>\n    <tr>\n      <th>30706</th>\n      <td>0.347340</td>\n      <td>-0.050856</td>\n      <td>-0.147516</td>\n      <td>-0.219179</td>\n      <td>-0.079207</td>\n      <td>1</td>\n      <td>0</td>\n      <td>1</td>\n      <td>0</td>\n      <td>0</td>\n      <td>...</td>\n      <td>0</td>\n      <td>0</td>\n      <td>0</td>\n      <td>0</td>\n      <td>0</td>\n      <td>0</td>\n      <td>0</td>\n      <td>0</td>\n      <td>1</td>\n      <td>0</td>\n    </tr>\n    <tr>\n      <th>30708</th>\n      <td>-0.491201</td>\n      <td>-1.611876</td>\n      <td>-0.147516</td>\n      <td>-0.219179</td>\n      <td>-0.079207</td>\n      <td>1</td>\n      <td>0</td>\n      <td>1</td>\n      <td>0</td>\n      <td>0</td>\n      <td>...</td>\n      <td>0</td>\n      <td>0</td>\n      <td>0</td>\n      <td>0</td>\n      <td>0</td>\n      <td>0</td>\n      <td>0</td>\n      <td>0</td>\n      <td>1</td>\n      <td>0</td>\n    </tr>\n    <tr>\n      <th>30709</th>\n      <td>0.347340</td>\n      <td>0.339399</td>\n      <td>-0.147516</td>\n      <td>-0.219179</td>\n      <td>0.337974</td>\n      <td>1</td>\n      <td>0</td>\n      <td>1</td>\n      <td>0</td>\n      <td>0</td>\n      <td>...</td>\n      <td>0</td>\n      <td>0</td>\n      <td>0</td>\n      <td>0</td>\n      <td>0</td>\n      <td>0</td>\n      <td>0</td>\n      <td>0</td>\n      <td>1</td>\n      <td>0</td>\n    </tr>\n    <tr>\n      <th>30710</th>\n      <td>-0.491201</td>\n      <td>1.510164</td>\n      <td>-0.147516</td>\n      <td>-0.219179</td>\n      <td>-2.498861</td>\n      <td>1</td>\n      <td>0</td>\n      <td>1</td>\n      <td>0</td>\n      <td>0</td>\n      <td>...</td>\n      <td>0</td>\n      <td>0</td>\n      <td>0</td>\n      <td>0</td>\n      <td>0</td>\n      <td>0</td>\n      <td>0</td>\n      <td>0</td>\n      <td>1</td>\n      <td>0</td>\n    </tr>\n    <tr>\n      <th>30712</th>\n      <td>-1.253512</td>\n      <td>-0.050856</td>\n      <td>-0.147516</td>\n      <td>-0.219179</td>\n      <td>-0.079207</td>\n      <td>1</td>\n      <td>1</td>\n      <td>0</td>\n      <td>0</td>\n      <td>0</td>\n      <td>...</td>\n      <td>0</td>\n      <td>0</td>\n      <td>0</td>\n      <td>0</td>\n      <td>0</td>\n      <td>0</td>\n      <td>0</td>\n      <td>0</td>\n      <td>1</td>\n      <td>0</td>\n    </tr>\n    <tr>\n      <th>30714</th>\n      <td>0.118647</td>\n      <td>-0.441111</td>\n      <td>-0.147516</td>\n      <td>-0.219179</td>\n      <td>-0.079207</td>\n      <td>1</td>\n      <td>0</td>\n      <td>1</td>\n      <td>0</td>\n      <td>0</td>\n      <td>...</td>\n      <td>0</td>\n      <td>0</td>\n      <td>0</td>\n      <td>0</td>\n      <td>0</td>\n      <td>0</td>\n      <td>0</td>\n      <td>0</td>\n      <td>1</td>\n      <td>0</td>\n    </tr>\n    <tr>\n      <th>30715</th>\n      <td>1.490806</td>\n      <td>-0.441111</td>\n      <td>-0.147516</td>\n      <td>-0.219179</td>\n      <td>-0.079207</td>\n      <td>1</td>\n      <td>0</td>\n      <td>1</td>\n      <td>0</td>\n      <td>0</td>\n      <td>...</td>\n      <td>0</td>\n      <td>0</td>\n      <td>0</td>\n      <td>0</td>\n      <td>0</td>\n      <td>0</td>\n      <td>0</td>\n      <td>0</td>\n      <td>1</td>\n      <td>0</td>\n    </tr>\n    <tr>\n      <th>30716</th>\n      <td>-1.253512</td>\n      <td>-0.441111</td>\n      <td>-0.147516</td>\n      <td>-0.219179</td>\n      <td>-1.747934</td>\n      <td>1</td>\n      <td>0</td>\n      <td>1</td>\n      <td>0</td>\n      <td>0</td>\n      <td>...</td>\n      <td>0</td>\n      <td>0</td>\n      <td>0</td>\n      <td>0</td>\n      <td>0</td>\n      <td>0</td>\n      <td>0</td>\n      <td>0</td>\n      <td>1</td>\n      <td>0</td>\n    </tr>\n    <tr>\n      <th>30717</th>\n      <td>1.033420</td>\n      <td>-0.441111</td>\n      <td>1.856287</td>\n      <td>-0.219179</td>\n      <td>-0.079207</td>\n      <td>1</td>\n      <td>0</td>\n      <td>1</td>\n      <td>0</td>\n      <td>0</td>\n      <td>...</td>\n      <td>0</td>\n      <td>0</td>\n      <td>0</td>\n      <td>0</td>\n      <td>0</td>\n      <td>0</td>\n      <td>0</td>\n      <td>0</td>\n      <td>1</td>\n      <td>0</td>\n    </tr>\n  </tbody>\n</table>\n<p>28992 rows × 60 columns</p>\n</div>"
     },
     "metadata": {},
     "output_type": "execute_result",
     "execution_count": 462
    }
   ],
   "source": [
    "# 用标准化数据覆盖原来的数据\n",
    "for i in train_data_standard.columns:\n",
    "    train_data[i] = train_data_standard[i]\n",
    "train_data = train_data.dropna()\n",
    "train_data\n"
   ],
   "metadata": {
    "collapsed": false,
    "pycharm": {
     "name": "#%%\n",
     "is_executing": false
    }
   }
  },
  {
   "cell_type": "code",
   "execution_count": 463,
   "outputs": [
    {
     "name": "stdout",
     "text": [
      "(28992, 59)\n(28992,)\n(16281, 59)\n(16281,)\n"
     ],
     "output_type": "stream"
    }
   ],
   "source": [
    "# 把要预测的值income单独拿出来看看\n",
    "y_train = train_data.income\n",
    "x_train = train_data.drop('income', axis=1)\n",
    "\n",
    "y_test = test_data.income\n",
    "x_test = test_data.drop('income', axis=1)\n",
    "\n",
    "print(x_train.shape)\n",
    "print(y_train.shape)\n",
    "\n",
    "print(x_test.shape)\n",
    "print(y_test.shape)"
   ],
   "metadata": {
    "collapsed": false,
    "pycharm": {
     "name": "#%%\n",
     "is_executing": false
    }
   }
  },
  {
   "cell_type": "code",
   "execution_count": 464,
   "outputs": [
    {
     "data": {
      "text/plain": "LGBMClassifier(boosting_type='gbdt', class_weight=None, colsample_bytree=1.0,\n               importance_type='split', learning_rate=0.1, max_depth=-1,\n               min_child_samples=20, min_child_weight=0.001, min_split_gain=0.0,\n               n_estimators=100, n_jobs=-1, num_leaves=31, objective=None,\n               random_state=None, reg_alpha=0.0, reg_lambda=0.0, silent=True,\n               subsample=1.0, subsample_for_bin=200000, subsample_freq=0)"
     },
     "metadata": {},
     "output_type": "execute_result",
     "execution_count": 464
    }
   ],
   "source": [
    "lgbm = LGBMClassifier()\n",
    "lgbm.fit(x_train, y_train)\n"
   ],
   "metadata": {
    "collapsed": false,
    "pycharm": {
     "name": "#%%\n",
     "is_executing": false
    }
   }
  },
  {
   "cell_type": "code",
   "execution_count": 465,
   "outputs": [
    {
     "name": "stdout",
     "text": [
      "82.34137952214238\n"
     ],
     "output_type": "stream"
    }
   ],
   "source": [
    "y_pred = lgbm.predict(x_test)\n",
    "print(accuracy_score(y_test, y_pred) * 100)"
   ],
   "metadata": {
    "collapsed": false,
    "pycharm": {
     "name": "#%%\n",
     "is_executing": false
    }
   }
  },
  {
   "cell_type": "code",
   "execution_count": 466,
   "outputs": [
    {
     "data": {
      "text/plain": "array([[ 2459,  1387],\n       [ 1488, 10947]], dtype=int64)"
     },
     "metadata": {},
     "output_type": "execute_result",
     "execution_count": 466
    }
   ],
   "source": [
    "lgbm_confusion_matrix = confusion_matrix(y_test, y_pred)\n",
    "lgbm_confusion_matrix"
   ],
   "metadata": {
    "collapsed": false,
    "pycharm": {
     "name": "#%%\n",
     "is_executing": false
    }
   }
  }
 ],
 "metadata": {
  "kernelspec": {
   "display_name": "Python 3",
   "language": "python",
   "name": "python3"
  },
  "language_info": {
   "codemirror_mode": {
    "name": "ipython",
    "version": 2
   },
   "file_extension": ".py",
   "mimetype": "text/x-python",
   "name": "python",
   "nbconvert_exporter": "python",
   "pygments_lexer": "ipython2",
   "version": "2.7.6"
  },
  "pycharm": {
   "stem_cell": {
    "cell_type": "raw",
    "source": [],
    "metadata": {
     "collapsed": false
    }
   }
  }
 },
 "nbformat": 4,
 "nbformat_minor": 0
}