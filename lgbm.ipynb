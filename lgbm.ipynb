{
 "cells": [
  {
   "cell_type": "code",
   "execution_count": 28,
   "outputs": [],
   "source": [
    "# 导包\n",
    "import pandas as pd\n",
    "import numpy as np\n",
    "\n",
    "from sklearn.preprocessing import StandardScaler\n",
    "from sklearn.metrics import confusion_matrix\n",
    "from sklearn.metrics import accuracy_score\n",
    "from lightgbm import LGBMClassifier"
   ],
   "metadata": {
    "collapsed": false,
    "pycharm": {
     "name": "#%%\n",
     "is_executing": false
    }
   }
  },
  {
   "cell_type": "code",
   "execution_count": 29,
   "outputs": [],
   "source": [
    "# 读取数据\n",
    "# 根据题意，先把header设置好\n",
    "headers = ['age', 'workclass', 'fnlwgt',\n",
    "           'education', 'education_num', 'marital_status',\n",
    "           'occupation', 'relationship', 'race',\n",
    "           'sex', 'capital_gain', 'capital_loss',\n",
    "           'hours_per_week', 'native_country', 'income']\n",
    "\n",
    "# 读取训练集进入内存\n",
    "train_data = pd.read_csv(\"data/adult_train.csv\",names=headers)\n",
    "\n",
    "# 对于测试集，他的第一行是一个分隔，不读入\n",
    "test_data = pd.read_csv(\"data/adult_test.csv\",names=headers,skiprows=[0])"
   ],
   "metadata": {
    "collapsed": false,
    "pycharm": {
     "name": "#%%\n",
     "is_executing": false
    }
   }
  },
  {
   "cell_type": "code",
   "execution_count": 30,
   "outputs": [
    {
     "data": {
      "text/plain": "(32561, 15)"
     },
     "metadata": {},
     "output_type": "execute_result",
     "execution_count": 30
    }
   ],
   "source": [
    "# 看看训练集有多少数据\n",
    "train_data.shape"
   ],
   "metadata": {
    "collapsed": false,
    "pycharm": {
     "name": "#%%\n",
     "is_executing": false
    }
   }
  },
  {
   "cell_type": "code",
   "execution_count": 31,
   "outputs": [
    {
     "data": {
      "text/plain": "                age        fnlwgt  education_num  capital_gain  capital_loss  \\\ncount  32561.000000  3.256100e+04   32561.000000  32561.000000  32561.000000   \nmean      38.581647  1.897784e+05      10.080679   1077.648844     87.303830   \nstd       13.640433  1.055500e+05       2.572720   7385.292085    402.960219   \nmin       17.000000  1.228500e+04       1.000000      0.000000      0.000000   \n25%       28.000000  1.178270e+05       9.000000      0.000000      0.000000   \n50%       37.000000  1.783560e+05      10.000000      0.000000      0.000000   \n75%       48.000000  2.370510e+05      12.000000      0.000000      0.000000   \nmax       90.000000  1.484705e+06      16.000000  99999.000000   4356.000000   \n\n       hours_per_week  \ncount    32561.000000  \nmean        40.437456  \nstd         12.347429  \nmin          1.000000  \n25%         40.000000  \n50%         40.000000  \n75%         45.000000  \nmax         99.000000  ",
      "text/html": "<div>\n<style scoped>\n    .dataframe tbody tr th:only-of-type {\n        vertical-align: middle;\n    }\n\n    .dataframe tbody tr th {\n        vertical-align: top;\n    }\n\n    .dataframe thead th {\n        text-align: right;\n    }\n</style>\n<table border=\"1\" class=\"dataframe\">\n  <thead>\n    <tr style=\"text-align: right;\">\n      <th></th>\n      <th>age</th>\n      <th>fnlwgt</th>\n      <th>education_num</th>\n      <th>capital_gain</th>\n      <th>capital_loss</th>\n      <th>hours_per_week</th>\n    </tr>\n  </thead>\n  <tbody>\n    <tr>\n      <th>count</th>\n      <td>32561.000000</td>\n      <td>3.256100e+04</td>\n      <td>32561.000000</td>\n      <td>32561.000000</td>\n      <td>32561.000000</td>\n      <td>32561.000000</td>\n    </tr>\n    <tr>\n      <th>mean</th>\n      <td>38.581647</td>\n      <td>1.897784e+05</td>\n      <td>10.080679</td>\n      <td>1077.648844</td>\n      <td>87.303830</td>\n      <td>40.437456</td>\n    </tr>\n    <tr>\n      <th>std</th>\n      <td>13.640433</td>\n      <td>1.055500e+05</td>\n      <td>2.572720</td>\n      <td>7385.292085</td>\n      <td>402.960219</td>\n      <td>12.347429</td>\n    </tr>\n    <tr>\n      <th>min</th>\n      <td>17.000000</td>\n      <td>1.228500e+04</td>\n      <td>1.000000</td>\n      <td>0.000000</td>\n      <td>0.000000</td>\n      <td>1.000000</td>\n    </tr>\n    <tr>\n      <th>25%</th>\n      <td>28.000000</td>\n      <td>1.178270e+05</td>\n      <td>9.000000</td>\n      <td>0.000000</td>\n      <td>0.000000</td>\n      <td>40.000000</td>\n    </tr>\n    <tr>\n      <th>50%</th>\n      <td>37.000000</td>\n      <td>1.783560e+05</td>\n      <td>10.000000</td>\n      <td>0.000000</td>\n      <td>0.000000</td>\n      <td>40.000000</td>\n    </tr>\n    <tr>\n      <th>75%</th>\n      <td>48.000000</td>\n      <td>2.370510e+05</td>\n      <td>12.000000</td>\n      <td>0.000000</td>\n      <td>0.000000</td>\n      <td>45.000000</td>\n    </tr>\n    <tr>\n      <th>max</th>\n      <td>90.000000</td>\n      <td>1.484705e+06</td>\n      <td>16.000000</td>\n      <td>99999.000000</td>\n      <td>4356.000000</td>\n      <td>99.000000</td>\n    </tr>\n  </tbody>\n</table>\n</div>"
     },
     "metadata": {},
     "output_type": "execute_result",
     "execution_count": 31
    }
   ],
   "source": [
    "# 看看数据是怎么样的，平均值；最大最小值，标准差等等（只有连续性的）\n",
    "train_data.describe()"
   ],
   "metadata": {
    "collapsed": false,
    "pycharm": {
     "name": "#%%\n",
     "is_executing": false
    }
   }
  },
  {
   "cell_type": "code",
   "execution_count": 32,
   "outputs": [
    {
     "data": {
      "text/plain": "age                  0\nworkclass         1836\nfnlwgt               0\neducation            0\neducation_num        0\nmarital_status       0\noccupation        1843\nrelationship         0\nrace                 0\nsex                  0\ncapital_gain         0\ncapital_loss         0\nhours_per_week       0\nnative_country     583\nincome               0\ndtype: int64"
     },
     "metadata": {},
     "output_type": "execute_result",
     "execution_count": 32
    }
   ],
   "source": [
    "# 数据中有一些值是？，用python的NaN代替方便以后直接当作空值处理\n",
    "train_data = train_data.replace('[?]', np.NaN, regex=True)\n",
    "test_data = test_data.replace('[?]', np.NaN, regex=True)\n",
    "# 看看数据里有NaN的各类有多少\n",
    "train_data.isnull().sum()"
   ],
   "metadata": {
    "collapsed": false,
    "pycharm": {
     "name": "#%%\n",
     "is_executing": false
    }
   }
  },
  {
   "cell_type": "code",
   "execution_count": 33,
   "outputs": [
    {
     "data": {
      "text/plain": "age               0\nworkclass         0\nfnlwgt            0\neducation         0\neducation_num     0\nmarital_status    0\noccupation        0\nrelationship      0\nrace              0\nsex               0\ncapital_gain      0\ncapital_loss      0\nhours_per_week    0\nnative_country    0\nincome            0\ndtype: int64"
     },
     "metadata": {},
     "output_type": "execute_result",
     "execution_count": 33
    }
   ],
   "source": [
    "# 对于缺失属性的数据直接删除\n",
    "train_data = train_data.dropna()\n",
    "train_data.isnull().sum()"
   ],
   "metadata": {
    "collapsed": false,
    "pycharm": {
     "name": "#%%\n",
     "is_executing": false
    }
   }
  },
  {
   "cell_type": "code",
   "execution_count": 34,
   "outputs": [],
   "source": [
    "# 开始处理离散数据\n",
    "# income我们需要将其映射一下\n",
    "# 先将>=50K的映射成0，<=50K的设置为1\n",
    "income_map = {' <=50K':1,' >50K':0}\n",
    "income_map2 = {' <=50K.':1, ' >50K.':0}\n",
    "train_data['income'] = train_data['income'].map(income_map).astype(int)\n",
    "test_data['income'] = test_data['income'].map(income_map2).astype(int)\n"
   ],
   "metadata": {
    "collapsed": false,
    "pycharm": {
     "name": "#%%\n",
     "is_executing": false
    }
   }
  },
  {
   "cell_type": "code",
   "execution_count": 35,
   "outputs": [
    {
     "data": {
      "text/plain": "['workclass',\n 'education',\n 'marital_status',\n 'occupation',\n 'relationship',\n 'race',\n 'sex',\n 'native_country']"
     },
     "metadata": {},
     "output_type": "execute_result",
     "execution_count": 35
    }
   ],
   "source": [
    "# 取出所有的离散量属性\n",
    "discrete = [x for x in train_data.columns if train_data[x].dtype=='object']\n",
    "discrete"
   ],
   "metadata": {
    "collapsed": false,
    "pycharm": {
     "name": "#%%\n",
     "is_executing": false
    }
   }
  },
  {
   "cell_type": "code",
   "execution_count": 36,
   "outputs": [
    {
     "name": "stdout",
     "text": [
      " Private             22286\n Self-emp-not-inc     2499\n Local-gov            2067\n State-gov            1279\n Self-emp-inc         1074\n Federal-gov           943\n Without-pay            14\nName: workclass, dtype: int64\n HS-grad         9840\n Some-college    6678\n Bachelors       5044\n Masters         1627\n Assoc-voc       1307\n 11th            1048\n Assoc-acdm      1008\n 10th             820\n 7th-8th          557\n Prof-school      542\n 9th              455\n 12th             377\n Doctorate        375\n 5th-6th          288\n 1st-4th          151\n Preschool         45\nName: education, dtype: int64\n Married-civ-spouse       14065\n Never-married             9726\n Divorced                  4214\n Separated                  939\n Widowed                    827\n Married-spouse-absent      370\n Married-AF-spouse           21\nName: marital_status, dtype: int64\n Prof-specialty       4038\n Craft-repair         4030\n Exec-managerial      3992\n Adm-clerical         3721\n Sales                3584\n Other-service        3212\n Machine-op-inspct    1966\n Transport-moving     1572\n Handlers-cleaners    1350\n Farming-fishing       989\n Tech-support          912\n Protective-serv       644\n Priv-house-serv       143\n Armed-Forces            9\nName: occupation, dtype: int64\n Husband           12463\n Not-in-family      7726\n Own-child          4466\n Unmarried          3212\n Wife               1406\n Other-relative      889\nName: relationship, dtype: int64\n White                 25933\n Black                  2817\n Asian-Pac-Islander      895\n Amer-Indian-Eskimo      286\n Other                   231\nName: race, dtype: int64\n Male      20380\n Female     9782\nName: sex, dtype: int64\n United-States                 27504\n Mexico                          610\n Philippines                     188\n Germany                         128\n Puerto-Rico                     109\n Canada                          107\n El-Salvador                     100\n India                           100\n Cuba                             92\n England                          86\n Jamaica                          80\n South                            71\n China                            68\n Italy                            68\n Dominican-Republic               67\n Vietnam                          64\n Guatemala                        63\n Japan                            59\n Columbia                         56\n Poland                           56\n Taiwan                           42\n Iran                             42\n Haiti                            42\n Portugal                         34\n Nicaragua                        33\n Peru                             30\n Greece                           29\n Ecuador                          27\n France                           27\n Ireland                          24\n Hong                             19\n Trinadad&Tobago                  18\n Cambodia                         18\n Laos                             17\n Thailand                         17\n Yugoslavia                       16\n Outlying-US(Guam-USVI-etc)       14\n Hungary                          13\n Honduras                         12\n Scotland                         11\n Holand-Netherlands                1\nName: native_country, dtype: int64\n"
     ],
     "output_type": "stream"
    }
   ],
   "source": [
    "# 看看这些离散量属性的取值分布\n",
    "for i in discrete:\n",
    "    print(train_data[i].value_counts())\n",
    "    "
   ],
   "metadata": {
    "collapsed": false,
    "pycharm": {
     "name": "#%%\n",
     "is_executing": false
    }
   }
  },
  {
   "cell_type": "code",
   "execution_count": 37,
   "outputs": [],
   "source": [
    "# 发现有一些是比较接近重叠的，将这些重叠的归到同一类\n",
    "# 大致可以把gov有关的一类，Private一类，Self-emp一类，没工作的一类\n",
    "train_data['workclass'] = train_data['workclass'].replace([' Self-emp-not-inc', ' Self-emp-inc'],' Self-emp')\n",
    "train_data['workclass'] = train_data['workclass'].replace([' Federal-gov', ' Local-gov', ' State-gov'], ' Gov')\n",
    "train_data['workclass'] = train_data['workclass'].replace([' Without-pay', ' Never-worked'], ' Un-emp')\n",
    "train_data['workclass'].value_counts()                                                         \n",
    "\n",
    "test_data['workclass'] = test_data['workclass'].replace([' Self-emp-not-inc', ' Self-emp-inc'],' Self-emp')\n",
    "test_data['workclass'] = test_data['workclass'].replace([' Federal-gov', ' Local-gov', ' State-gov'], ' Gov')\n",
    "test_data['workclass'] = test_data['workclass'].replace([' Without-pay', ' Never-worked'], ' Un-emp')"
   ],
   "metadata": {
    "collapsed": false,
    "pycharm": {
     "name": "#%%\n",
     "is_executing": false
    }
   }
  },
  {
   "cell_type": "code",
   "execution_count": 38,
   "outputs": [],
   "source": [
    "# 同理对marital_status进行归类\n",
    "train_data['marital_status'] = train_data['marital_status'].replace([' Divorced',' Married-spouse-absent',' Never-married',' Separated',' Widowed'],' Single')\n",
    "train_data['marital_status'] = train_data['marital_status'].replace([' Married-civ-spouse', ' Married-AF-spouse'], ' Couple')\n",
    "train_data['marital_status'].value_counts()\n",
    "\n",
    "test_data['marital_status'] = test_data['marital_status'].replace([' Divorced',' Married-spouse-absent',' Never-married',' Separated',' Widowed'],' Single')\n",
    "test_data['marital_status'] = test_data['marital_status'].replace([' Married-civ-spouse', ' Married-AF-spouse'], ' Couple')"
   ],
   "metadata": {
    "collapsed": false,
    "pycharm": {
     "name": "#%%\n",
     "is_executing": false
    }
   }
  },
  {
   "cell_type": "code",
   "execution_count": 39,
   "outputs": [
    {
     "data": {
      "text/plain": " United-States         27504\n Mexico                  610\n Other                   486\n Philippines             188\n Germany                 128\n Puerto-Rico             109\n Canada                  107\n El-Salvador             100\n India                   100\n Cuba                     92\n England                  86\n Jamaica                  80\n South                    71\n Italy                    68\n China                    68\n Dominican-Republic       67\n Vietnam                  64\n Guatemala                63\n Japan                    59\n Poland                   56\n Columbia                 56\nName: native_country, dtype: int64"
     },
     "metadata": {},
     "output_type": "execute_result",
     "execution_count": 39
    }
   ],
   "source": [
    "# native_country这个分类太多了，而且很多类的人很少，干脆把人少的都归到other里\n",
    "train_data['native_country'] = train_data['native_country'].replace([' Holand-Netherlands',' Scotland', ' Honduras', \n",
    "                                                                     ' Hungary', ' Outlying-US(Guam-USVI-etc)', ' Yugoslavia', \n",
    "                                                                     ' Laos', ' Thailand', ' Cambodia', \n",
    "                                                                     ' Trinadad&Tobago', ' Hong', ' Ireland', \n",
    "                                                                     ' France',' Ecuador', ' Greece', ' Peru', \n",
    "                                                                     ' Nicaragua', ' Portugal', ' Iran', \n",
    "                                                                     ' Taiwan', ' Haiti'], ' Other')\n",
    "\n",
    "test_data['native_country'] = test_data['native_country'].replace([' Holand-Netherlands',' Scotland', ' Honduras', \n",
    "                                                                     ' Hungary', ' Outlying-US(Guam-USVI-etc)', ' Yugoslavia', \n",
    "                                                                     ' Laos', ' Thailand', ' Cambodia', \n",
    "                                                                     ' Trinadad&Tobago', ' Hong', ' Ireland', \n",
    "                                                                     ' France',' Ecuador', ' Greece', ' Peru', \n",
    "                                                                     ' Nicaragua', ' Portugal', ' Iran', \n",
    "                                                                     ' Taiwan', ' Haiti'], ' Other')\n",
    "train_data['native_country'].value_counts()"
   ],
   "metadata": {
    "collapsed": false,
    "pycharm": {
     "name": "#%%\n",
     "is_executing": false
    }
   }
  },
  {
   "cell_type": "code",
   "execution_count": 40,
   "outputs": [
    {
     "data": {
      "text/plain": " HS-grad         9840\n Some-college    6678\n Bachelors       5044\n Masters         1627\n Assoc-voc       1307\n 11th            1048\n Assoc-acdm      1008\n 10th             820\n 7th-8th          557\n Prof-school      542\n 9th              455\n 12th             377\n Doctorate        375\n 5th-6th          288\n 1st-4th          151\n Preschool         45\nName: education, dtype: int64"
     },
     "metadata": {},
     "output_type": "execute_result",
     "execution_count": 40
    }
   ],
   "source": [
    "# 最后，看看education_num这个连续量\n",
    "train_data['education'].value_counts()"
   ],
   "metadata": {
    "collapsed": false,
    "pycharm": {
     "name": "#%%\n",
     "is_executing": false
    }
   }
  },
  {
   "cell_type": "code",
   "execution_count": 41,
   "outputs": [],
   "source": [
    "# 发现跟education一样的，重复了，因为eudcation是离散的，不好处理。去掉这个属性\n",
    "train_data = train_data.drop(columns=['education'])\n",
    "test_data = test_data.drop(columns=['education'])"
   ],
   "metadata": {
    "collapsed": false,
    "pycharm": {
     "name": "#%%\n",
     "is_executing": false
    }
   }
  },
  {
   "cell_type": "code",
   "execution_count": 42,
   "outputs": [
    {
     "data": {
      "text/plain": "                     age    fnlwgt  education_num  capital_gain  capital_loss  \\\nage             1.000000 -0.076511       0.043526      0.080154      0.060165   \nfnlwgt         -0.076511  1.000000      -0.044992      0.000422     -0.009750   \neducation_num   0.043526 -0.044992       1.000000      0.124416      0.079646   \ncapital_gain    0.080154  0.000422       0.124416      1.000000     -0.032229   \ncapital_loss    0.060165 -0.009750       0.079646     -0.032229      1.000000   \nhours_per_week  0.101599 -0.022886       0.152522      0.080432      0.052417   \nincome         -0.241998  0.008957      -0.335286     -0.221196     -0.150053   \n\n                hours_per_week    income  \nage                   0.101599 -0.241998  \nfnlwgt               -0.022886  0.008957  \neducation_num         0.152522 -0.335286  \ncapital_gain          0.080432 -0.221196  \ncapital_loss          0.052417 -0.150053  \nhours_per_week        1.000000 -0.229480  \nincome               -0.229480  1.000000  ",
      "text/html": "<div>\n<style scoped>\n    .dataframe tbody tr th:only-of-type {\n        vertical-align: middle;\n    }\n\n    .dataframe tbody tr th {\n        vertical-align: top;\n    }\n\n    .dataframe thead th {\n        text-align: right;\n    }\n</style>\n<table border=\"1\" class=\"dataframe\">\n  <thead>\n    <tr style=\"text-align: right;\">\n      <th></th>\n      <th>age</th>\n      <th>fnlwgt</th>\n      <th>education_num</th>\n      <th>capital_gain</th>\n      <th>capital_loss</th>\n      <th>hours_per_week</th>\n      <th>income</th>\n    </tr>\n  </thead>\n  <tbody>\n    <tr>\n      <th>age</th>\n      <td>1.000000</td>\n      <td>-0.076511</td>\n      <td>0.043526</td>\n      <td>0.080154</td>\n      <td>0.060165</td>\n      <td>0.101599</td>\n      <td>-0.241998</td>\n    </tr>\n    <tr>\n      <th>fnlwgt</th>\n      <td>-0.076511</td>\n      <td>1.000000</td>\n      <td>-0.044992</td>\n      <td>0.000422</td>\n      <td>-0.009750</td>\n      <td>-0.022886</td>\n      <td>0.008957</td>\n    </tr>\n    <tr>\n      <th>education_num</th>\n      <td>0.043526</td>\n      <td>-0.044992</td>\n      <td>1.000000</td>\n      <td>0.124416</td>\n      <td>0.079646</td>\n      <td>0.152522</td>\n      <td>-0.335286</td>\n    </tr>\n    <tr>\n      <th>capital_gain</th>\n      <td>0.080154</td>\n      <td>0.000422</td>\n      <td>0.124416</td>\n      <td>1.000000</td>\n      <td>-0.032229</td>\n      <td>0.080432</td>\n      <td>-0.221196</td>\n    </tr>\n    <tr>\n      <th>capital_loss</th>\n      <td>0.060165</td>\n      <td>-0.009750</td>\n      <td>0.079646</td>\n      <td>-0.032229</td>\n      <td>1.000000</td>\n      <td>0.052417</td>\n      <td>-0.150053</td>\n    </tr>\n    <tr>\n      <th>hours_per_week</th>\n      <td>0.101599</td>\n      <td>-0.022886</td>\n      <td>0.152522</td>\n      <td>0.080432</td>\n      <td>0.052417</td>\n      <td>1.000000</td>\n      <td>-0.229480</td>\n    </tr>\n    <tr>\n      <th>income</th>\n      <td>-0.241998</td>\n      <td>0.008957</td>\n      <td>-0.335286</td>\n      <td>-0.221196</td>\n      <td>-0.150053</td>\n      <td>-0.229480</td>\n      <td>1.000000</td>\n    </tr>\n  </tbody>\n</table>\n</div>"
     },
     "metadata": {},
     "output_type": "execute_result",
     "execution_count": 42
    }
   ],
   "source": [
    "# 看看相关系数矩阵,检查一下连续变量。发现序号属性不太影响最后的收入\n",
    "train_data.corr()"
   ],
   "metadata": {
    "collapsed": false,
    "pycharm": {
     "name": "#%%\n",
     "is_executing": false
    }
   }
  },
  {
   "cell_type": "code",
   "execution_count": 43,
   "outputs": [],
   "source": [
    "# 把序号属性删掉\n",
    "train_data = train_data.drop(columns=['fnlwgt'])\n",
    "test_data = test_data.drop(columns=['fnlwgt'])"
   ],
   "metadata": {
    "collapsed": false,
    "pycharm": {
     "name": "#%%\n",
     "is_executing": false
    }
   }
  },
  {
   "cell_type": "code",
   "execution_count": 44,
   "outputs": [],
   "source": [
    "# 进行one-hot编码\n",
    "train_data = pd.get_dummies(train_data, columns=['workclass', 'marital_status', 'occupation',\n",
    "                                                 'relationship', 'race', 'sex',\n",
    "                                                 'native_country'])\n",
    "train_data\n",
    "\n",
    "test_data = pd.get_dummies(test_data, columns=['workclass', 'marital_status', 'occupation',\n",
    "                                                 'relationship', 'race', 'sex',\n",
    "                                                 'native_country'])"
   ],
   "metadata": {
    "collapsed": false,
    "pycharm": {
     "name": "#%%\n",
     "is_executing": false
    }
   }
  },
  {
   "cell_type": "code",
   "execution_count": 45,
   "outputs": [
    {
     "data": {
      "text/plain": "Index(['age', 'education_num', 'capital_gain', 'capital_loss',\n       'hours_per_week', 'income', 'workclass_ Gov', 'workclass_ Private',\n       'workclass_ Self-emp', 'workclass_ Un-emp', 'marital_status_ Couple',\n       'marital_status_ Single', 'occupation_ Adm-clerical',\n       'occupation_ Armed-Forces', 'occupation_ Craft-repair',\n       'occupation_ Exec-managerial', 'occupation_ Farming-fishing',\n       'occupation_ Handlers-cleaners', 'occupation_ Machine-op-inspct',\n       'occupation_ Other-service', 'occupation_ Priv-house-serv',\n       'occupation_ Prof-specialty', 'occupation_ Protective-serv',\n       'occupation_ Sales', 'occupation_ Tech-support',\n       'occupation_ Transport-moving', 'relationship_ Husband',\n       'relationship_ Not-in-family', 'relationship_ Other-relative',\n       'relationship_ Own-child', 'relationship_ Unmarried',\n       'relationship_ Wife', 'race_ Amer-Indian-Eskimo',\n       'race_ Asian-Pac-Islander', 'race_ Black', 'race_ Other', 'race_ White',\n       'sex_ Female', 'sex_ Male', 'native_country_ Canada',\n       'native_country_ China', 'native_country_ Columbia',\n       'native_country_ Cuba', 'native_country_ Dominican-Republic',\n       'native_country_ El-Salvador', 'native_country_ England',\n       'native_country_ Germany', 'native_country_ Guatemala',\n       'native_country_ India', 'native_country_ Italy',\n       'native_country_ Jamaica', 'native_country_ Japan',\n       'native_country_ Mexico', 'native_country_ Other',\n       'native_country_ Philippines', 'native_country_ Poland',\n       'native_country_ Puerto-Rico', 'native_country_ South',\n       'native_country_ United-States', 'native_country_ Vietnam'],\n      dtype='object')"
     },
     "metadata": {},
     "output_type": "execute_result",
     "execution_count": 45
    }
   ],
   "source": [
    "# 看看编码后的结果\n",
    "train_data.columns"
   ],
   "metadata": {
    "collapsed": false,
    "pycharm": {
     "name": "#%%\n",
     "is_executing": false
    }
   }
  },
  {
   "cell_type": "code",
   "execution_count": 46,
   "outputs": [
    {
     "data": {
      "text/plain": "       age  education_num  capital_gain  capital_loss  hours_per_week\n0       39             13          2174             0              40\n1       50             13             0             0              13\n2       38              9             0             0              40\n3       53              7             0             0              40\n4       28             13             0             0              40\n5       37             14             0             0              40\n6       49              5             0             0              16\n7       52              9             0             0              45\n8       31             14         14084             0              50\n9       42             13          5178             0              40\n10      37             10             0             0              80\n11      30             13             0             0              40\n12      23             13             0             0              30\n13      32             12             0             0              50\n15      34              4             0             0              45\n16      25              9             0             0              35\n17      32              9             0             0              40\n18      38              7             0             0              50\n19      43             14             0             0              45\n20      40             16             0             0              60\n21      54              9             0             0              20\n22      35              5             0             0              40\n23      43              7             0          2042              40\n24      59              9             0             0              40\n25      56             13             0             0              40\n26      19              9             0             0              40\n28      39              9             0             0              80\n29      49              9             0             0              40\n30      23             12             0             0              52\n31      20             10             0             0              44\n...    ...            ...           ...           ...             ...\n32526   32              6             0             0              40\n32527   22             10             0             0              40\n32528   31              9             0             0              40\n32529   29              9             0             0              35\n32532   34             16             0             0              60\n32533   54             13             0             0              50\n32534   37             10             0             0              39\n32535   22              8             0             0              35\n32536   34             13             0             0              55\n32537   30              9             0             0              46\n32538   38             13         15020             0              45\n32540   45              9             0             0              40\n32543   45             12             0             0              48\n32544   31             14             0             0              30\n32545   39             12             0             0              20\n32546   37             12             0             0              40\n32547   43              9             0             0              40\n32548   65             15          1086             0              60\n32549   43             10             0             0              40\n32550   43             10             0             0              50\n32551   32              6             0             0              40\n32552   43             11             0             0              45\n32553   32             14             0             0              11\n32554   53             14             0             0              40\n32555   22             10             0             0              40\n32556   27             12             0             0              38\n32557   40              9             0             0              40\n32558   58              9             0             0              40\n32559   22              9             0             0              20\n32560   52              9         15024             0              40\n\n[30162 rows x 5 columns]",
      "text/html": "<div>\n<style scoped>\n    .dataframe tbody tr th:only-of-type {\n        vertical-align: middle;\n    }\n\n    .dataframe tbody tr th {\n        vertical-align: top;\n    }\n\n    .dataframe thead th {\n        text-align: right;\n    }\n</style>\n<table border=\"1\" class=\"dataframe\">\n  <thead>\n    <tr style=\"text-align: right;\">\n      <th></th>\n      <th>age</th>\n      <th>education_num</th>\n      <th>capital_gain</th>\n      <th>capital_loss</th>\n      <th>hours_per_week</th>\n    </tr>\n  </thead>\n  <tbody>\n    <tr>\n      <th>0</th>\n      <td>39</td>\n      <td>13</td>\n      <td>2174</td>\n      <td>0</td>\n      <td>40</td>\n    </tr>\n    <tr>\n      <th>1</th>\n      <td>50</td>\n      <td>13</td>\n      <td>0</td>\n      <td>0</td>\n      <td>13</td>\n    </tr>\n    <tr>\n      <th>2</th>\n      <td>38</td>\n      <td>9</td>\n      <td>0</td>\n      <td>0</td>\n      <td>40</td>\n    </tr>\n    <tr>\n      <th>3</th>\n      <td>53</td>\n      <td>7</td>\n      <td>0</td>\n      <td>0</td>\n      <td>40</td>\n    </tr>\n    <tr>\n      <th>4</th>\n      <td>28</td>\n      <td>13</td>\n      <td>0</td>\n      <td>0</td>\n      <td>40</td>\n    </tr>\n    <tr>\n      <th>5</th>\n      <td>37</td>\n      <td>14</td>\n      <td>0</td>\n      <td>0</td>\n      <td>40</td>\n    </tr>\n    <tr>\n      <th>6</th>\n      <td>49</td>\n      <td>5</td>\n      <td>0</td>\n      <td>0</td>\n      <td>16</td>\n    </tr>\n    <tr>\n      <th>7</th>\n      <td>52</td>\n      <td>9</td>\n      <td>0</td>\n      <td>0</td>\n      <td>45</td>\n    </tr>\n    <tr>\n      <th>8</th>\n      <td>31</td>\n      <td>14</td>\n      <td>14084</td>\n      <td>0</td>\n      <td>50</td>\n    </tr>\n    <tr>\n      <th>9</th>\n      <td>42</td>\n      <td>13</td>\n      <td>5178</td>\n      <td>0</td>\n      <td>40</td>\n    </tr>\n    <tr>\n      <th>10</th>\n      <td>37</td>\n      <td>10</td>\n      <td>0</td>\n      <td>0</td>\n      <td>80</td>\n    </tr>\n    <tr>\n      <th>11</th>\n      <td>30</td>\n      <td>13</td>\n      <td>0</td>\n      <td>0</td>\n      <td>40</td>\n    </tr>\n    <tr>\n      <th>12</th>\n      <td>23</td>\n      <td>13</td>\n      <td>0</td>\n      <td>0</td>\n      <td>30</td>\n    </tr>\n    <tr>\n      <th>13</th>\n      <td>32</td>\n      <td>12</td>\n      <td>0</td>\n      <td>0</td>\n      <td>50</td>\n    </tr>\n    <tr>\n      <th>15</th>\n      <td>34</td>\n      <td>4</td>\n      <td>0</td>\n      <td>0</td>\n      <td>45</td>\n    </tr>\n    <tr>\n      <th>16</th>\n      <td>25</td>\n      <td>9</td>\n      <td>0</td>\n      <td>0</td>\n      <td>35</td>\n    </tr>\n    <tr>\n      <th>17</th>\n      <td>32</td>\n      <td>9</td>\n      <td>0</td>\n      <td>0</td>\n      <td>40</td>\n    </tr>\n    <tr>\n      <th>18</th>\n      <td>38</td>\n      <td>7</td>\n      <td>0</td>\n      <td>0</td>\n      <td>50</td>\n    </tr>\n    <tr>\n      <th>19</th>\n      <td>43</td>\n      <td>14</td>\n      <td>0</td>\n      <td>0</td>\n      <td>45</td>\n    </tr>\n    <tr>\n      <th>20</th>\n      <td>40</td>\n      <td>16</td>\n      <td>0</td>\n      <td>0</td>\n      <td>60</td>\n    </tr>\n    <tr>\n      <th>21</th>\n      <td>54</td>\n      <td>9</td>\n      <td>0</td>\n      <td>0</td>\n      <td>20</td>\n    </tr>\n    <tr>\n      <th>22</th>\n      <td>35</td>\n      <td>5</td>\n      <td>0</td>\n      <td>0</td>\n      <td>40</td>\n    </tr>\n    <tr>\n      <th>23</th>\n      <td>43</td>\n      <td>7</td>\n      <td>0</td>\n      <td>2042</td>\n      <td>40</td>\n    </tr>\n    <tr>\n      <th>24</th>\n      <td>59</td>\n      <td>9</td>\n      <td>0</td>\n      <td>0</td>\n      <td>40</td>\n    </tr>\n    <tr>\n      <th>25</th>\n      <td>56</td>\n      <td>13</td>\n      <td>0</td>\n      <td>0</td>\n      <td>40</td>\n    </tr>\n    <tr>\n      <th>26</th>\n      <td>19</td>\n      <td>9</td>\n      <td>0</td>\n      <td>0</td>\n      <td>40</td>\n    </tr>\n    <tr>\n      <th>28</th>\n      <td>39</td>\n      <td>9</td>\n      <td>0</td>\n      <td>0</td>\n      <td>80</td>\n    </tr>\n    <tr>\n      <th>29</th>\n      <td>49</td>\n      <td>9</td>\n      <td>0</td>\n      <td>0</td>\n      <td>40</td>\n    </tr>\n    <tr>\n      <th>30</th>\n      <td>23</td>\n      <td>12</td>\n      <td>0</td>\n      <td>0</td>\n      <td>52</td>\n    </tr>\n    <tr>\n      <th>31</th>\n      <td>20</td>\n      <td>10</td>\n      <td>0</td>\n      <td>0</td>\n      <td>44</td>\n    </tr>\n    <tr>\n      <th>...</th>\n      <td>...</td>\n      <td>...</td>\n      <td>...</td>\n      <td>...</td>\n      <td>...</td>\n    </tr>\n    <tr>\n      <th>32526</th>\n      <td>32</td>\n      <td>6</td>\n      <td>0</td>\n      <td>0</td>\n      <td>40</td>\n    </tr>\n    <tr>\n      <th>32527</th>\n      <td>22</td>\n      <td>10</td>\n      <td>0</td>\n      <td>0</td>\n      <td>40</td>\n    </tr>\n    <tr>\n      <th>32528</th>\n      <td>31</td>\n      <td>9</td>\n      <td>0</td>\n      <td>0</td>\n      <td>40</td>\n    </tr>\n    <tr>\n      <th>32529</th>\n      <td>29</td>\n      <td>9</td>\n      <td>0</td>\n      <td>0</td>\n      <td>35</td>\n    </tr>\n    <tr>\n      <th>32532</th>\n      <td>34</td>\n      <td>16</td>\n      <td>0</td>\n      <td>0</td>\n      <td>60</td>\n    </tr>\n    <tr>\n      <th>32533</th>\n      <td>54</td>\n      <td>13</td>\n      <td>0</td>\n      <td>0</td>\n      <td>50</td>\n    </tr>\n    <tr>\n      <th>32534</th>\n      <td>37</td>\n      <td>10</td>\n      <td>0</td>\n      <td>0</td>\n      <td>39</td>\n    </tr>\n    <tr>\n      <th>32535</th>\n      <td>22</td>\n      <td>8</td>\n      <td>0</td>\n      <td>0</td>\n      <td>35</td>\n    </tr>\n    <tr>\n      <th>32536</th>\n      <td>34</td>\n      <td>13</td>\n      <td>0</td>\n      <td>0</td>\n      <td>55</td>\n    </tr>\n    <tr>\n      <th>32537</th>\n      <td>30</td>\n      <td>9</td>\n      <td>0</td>\n      <td>0</td>\n      <td>46</td>\n    </tr>\n    <tr>\n      <th>32538</th>\n      <td>38</td>\n      <td>13</td>\n      <td>15020</td>\n      <td>0</td>\n      <td>45</td>\n    </tr>\n    <tr>\n      <th>32540</th>\n      <td>45</td>\n      <td>9</td>\n      <td>0</td>\n      <td>0</td>\n      <td>40</td>\n    </tr>\n    <tr>\n      <th>32543</th>\n      <td>45</td>\n      <td>12</td>\n      <td>0</td>\n      <td>0</td>\n      <td>48</td>\n    </tr>\n    <tr>\n      <th>32544</th>\n      <td>31</td>\n      <td>14</td>\n      <td>0</td>\n      <td>0</td>\n      <td>30</td>\n    </tr>\n    <tr>\n      <th>32545</th>\n      <td>39</td>\n      <td>12</td>\n      <td>0</td>\n      <td>0</td>\n      <td>20</td>\n    </tr>\n    <tr>\n      <th>32546</th>\n      <td>37</td>\n      <td>12</td>\n      <td>0</td>\n      <td>0</td>\n      <td>40</td>\n    </tr>\n    <tr>\n      <th>32547</th>\n      <td>43</td>\n      <td>9</td>\n      <td>0</td>\n      <td>0</td>\n      <td>40</td>\n    </tr>\n    <tr>\n      <th>32548</th>\n      <td>65</td>\n      <td>15</td>\n      <td>1086</td>\n      <td>0</td>\n      <td>60</td>\n    </tr>\n    <tr>\n      <th>32549</th>\n      <td>43</td>\n      <td>10</td>\n      <td>0</td>\n      <td>0</td>\n      <td>40</td>\n    </tr>\n    <tr>\n      <th>32550</th>\n      <td>43</td>\n      <td>10</td>\n      <td>0</td>\n      <td>0</td>\n      <td>50</td>\n    </tr>\n    <tr>\n      <th>32551</th>\n      <td>32</td>\n      <td>6</td>\n      <td>0</td>\n      <td>0</td>\n      <td>40</td>\n    </tr>\n    <tr>\n      <th>32552</th>\n      <td>43</td>\n      <td>11</td>\n      <td>0</td>\n      <td>0</td>\n      <td>45</td>\n    </tr>\n    <tr>\n      <th>32553</th>\n      <td>32</td>\n      <td>14</td>\n      <td>0</td>\n      <td>0</td>\n      <td>11</td>\n    </tr>\n    <tr>\n      <th>32554</th>\n      <td>53</td>\n      <td>14</td>\n      <td>0</td>\n      <td>0</td>\n      <td>40</td>\n    </tr>\n    <tr>\n      <th>32555</th>\n      <td>22</td>\n      <td>10</td>\n      <td>0</td>\n      <td>0</td>\n      <td>40</td>\n    </tr>\n    <tr>\n      <th>32556</th>\n      <td>27</td>\n      <td>12</td>\n      <td>0</td>\n      <td>0</td>\n      <td>38</td>\n    </tr>\n    <tr>\n      <th>32557</th>\n      <td>40</td>\n      <td>9</td>\n      <td>0</td>\n      <td>0</td>\n      <td>40</td>\n    </tr>\n    <tr>\n      <th>32558</th>\n      <td>58</td>\n      <td>9</td>\n      <td>0</td>\n      <td>0</td>\n      <td>40</td>\n    </tr>\n    <tr>\n      <th>32559</th>\n      <td>22</td>\n      <td>9</td>\n      <td>0</td>\n      <td>0</td>\n      <td>20</td>\n    </tr>\n    <tr>\n      <th>32560</th>\n      <td>52</td>\n      <td>9</td>\n      <td>15024</td>\n      <td>0</td>\n      <td>40</td>\n    </tr>\n  </tbody>\n</table>\n<p>30162 rows × 5 columns</p>\n</div>"
     },
     "metadata": {},
     "output_type": "execute_result",
     "execution_count": 46
    }
   ],
   "source": [
    "# 将非2值类型的数据进行标准化\n",
    "train_data_need_to_standard = train_data[['age', 'education_num', 'capital_gain',\n",
    "                                          'capital_loss', 'hours_per_week']]\n",
    "train_data_need_to_standard"
   ],
   "metadata": {
    "collapsed": false,
    "pycharm": {
     "name": "#%%\n",
     "is_executing": false
    }
   }
  },
  {
   "cell_type": "code",
   "execution_count": 47,
   "outputs": [
    {
     "data": {
      "text/plain": "StandardScaler(copy=True, with_mean=True, with_std=True)"
     },
     "metadata": {},
     "output_type": "execute_result",
     "execution_count": 47
    }
   ],
   "source": [
    "scaler = StandardScaler()\n",
    "scaler.fit(train_data_need_to_standard)"
   ],
   "metadata": {
    "collapsed": false,
    "pycharm": {
     "name": "#%%\n",
     "is_executing": false
    }
   }
  },
  {
   "cell_type": "code",
   "execution_count": 48,
   "outputs": [
    {
     "data": {
      "text/plain": "          0         1         2         3         4\n0  0.042796  1.128918  0.146092 -0.218586 -0.077734\n1  0.880288  1.128918 -0.147445 -0.218586 -2.331531\n2 -0.033340 -0.439738 -0.147445 -0.218586 -0.077734\n3  1.108695 -1.224066 -0.147445 -0.218586 -0.077734\n4 -0.794697  1.128918 -0.147445 -0.218586 -0.077734",
      "text/html": "<div>\n<style scoped>\n    .dataframe tbody tr th:only-of-type {\n        vertical-align: middle;\n    }\n\n    .dataframe tbody tr th {\n        vertical-align: top;\n    }\n\n    .dataframe thead th {\n        text-align: right;\n    }\n</style>\n<table border=\"1\" class=\"dataframe\">\n  <thead>\n    <tr style=\"text-align: right;\">\n      <th></th>\n      <th>0</th>\n      <th>1</th>\n      <th>2</th>\n      <th>3</th>\n      <th>4</th>\n    </tr>\n  </thead>\n  <tbody>\n    <tr>\n      <th>0</th>\n      <td>0.042796</td>\n      <td>1.128918</td>\n      <td>0.146092</td>\n      <td>-0.218586</td>\n      <td>-0.077734</td>\n    </tr>\n    <tr>\n      <th>1</th>\n      <td>0.880288</td>\n      <td>1.128918</td>\n      <td>-0.147445</td>\n      <td>-0.218586</td>\n      <td>-2.331531</td>\n    </tr>\n    <tr>\n      <th>2</th>\n      <td>-0.033340</td>\n      <td>-0.439738</td>\n      <td>-0.147445</td>\n      <td>-0.218586</td>\n      <td>-0.077734</td>\n    </tr>\n    <tr>\n      <th>3</th>\n      <td>1.108695</td>\n      <td>-1.224066</td>\n      <td>-0.147445</td>\n      <td>-0.218586</td>\n      <td>-0.077734</td>\n    </tr>\n    <tr>\n      <th>4</th>\n      <td>-0.794697</td>\n      <td>1.128918</td>\n      <td>-0.147445</td>\n      <td>-0.218586</td>\n      <td>-0.077734</td>\n    </tr>\n  </tbody>\n</table>\n</div>"
     },
     "metadata": {},
     "output_type": "execute_result",
     "execution_count": 48
    }
   ],
   "source": [
    "train_data_standard = pd.DataFrame(scaler.transform(train_data_need_to_standard))\n",
    "train_data_standard.head()"
   ],
   "metadata": {
    "collapsed": false,
    "pycharm": {
     "name": "#%%\n",
     "is_executing": false
    }
   }
  },
  {
   "cell_type": "code",
   "execution_count": 49,
   "outputs": [
    {
     "data": {
      "text/plain": "            age  education_num  capital_gain  capital_loss  hours_per_week\n0      0.042796       1.128918      0.146092     -0.218586       -0.077734\n1      0.880288       1.128918     -0.147445     -0.218586       -2.331531\n2     -0.033340      -0.439738     -0.147445     -0.218586       -0.077734\n3      1.108695      -1.224066     -0.147445     -0.218586       -0.077734\n4     -0.794697       1.128918     -0.147445     -0.218586       -0.077734\n5     -0.109476       1.521083     -0.147445     -0.218586       -0.077734\n6      0.804152      -2.008395     -0.147445     -0.218586       -2.081109\n7      1.032559      -0.439738     -0.147445     -0.218586        0.339636\n8     -0.566290       1.521083      1.754199     -0.218586        0.757005\n9      0.271203       1.128918      0.551697     -0.218586       -0.077734\n10    -0.109476      -0.047574     -0.147445     -0.218586        3.261224\n11    -0.642425       1.128918     -0.147445     -0.218586       -0.077734\n12    -1.175375       1.128918     -0.147445     -0.218586       -0.912474\n13    -0.490154       0.736754     -0.147445     -0.218586        0.757005\n14    -0.337883      -2.400559     -0.147445     -0.218586        0.339636\n15    -1.023104      -0.439738     -0.147445     -0.218586       -0.495104\n16    -0.490154      -0.439738     -0.147445     -0.218586       -0.077734\n17    -0.033340      -1.224066     -0.147445     -0.218586        0.757005\n18     0.347338       1.521083     -0.147445     -0.218586        0.339636\n19     0.118931       2.305411     -0.147445     -0.218586        1.591745\n20     1.184831      -0.439738     -0.147445     -0.218586       -1.747213\n21    -0.261747      -2.008395     -0.147445     -0.218586       -0.077734\n22     0.347338      -1.224066     -0.147445      4.832223       -0.077734\n23     1.565509      -0.439738     -0.147445     -0.218586       -0.077734\n24     1.337102       1.128918     -0.147445     -0.218586       -0.077734\n25    -1.479918      -0.439738     -0.147445     -0.218586       -0.077734\n26     0.042796      -0.439738     -0.147445     -0.218586        3.261224\n27     0.804152      -0.439738     -0.147445     -0.218586       -0.077734\n28    -1.175375       0.736754     -0.147445     -0.218586        0.923953\n29    -1.403782      -0.047574     -0.147445     -0.218586        0.256162\n...         ...            ...           ...           ...             ...\n30132 -0.490154      -1.616231     -0.147445     -0.218586       -0.077734\n30133 -1.251511      -0.047574     -0.147445     -0.218586       -0.077734\n30134 -0.566290      -0.439738     -0.147445     -0.218586       -0.077734\n30135 -0.718561      -0.439738     -0.147445     -0.218586       -0.495104\n30136 -0.337883       2.305411     -0.147445     -0.218586        1.591745\n30137  1.184831       1.128918     -0.147445     -0.218586        0.757005\n30138 -0.109476      -0.047574     -0.147445     -0.218586       -0.161208\n30139 -1.251511      -0.831902     -0.147445     -0.218586       -0.495104\n30140 -0.337883       1.128918     -0.147445     -0.218586        1.174375\n30141 -0.642425      -0.439738     -0.147445     -0.218586        0.423110\n30142 -0.033340       1.128918      1.880579     -0.218586        0.339636\n30143  0.499610      -0.439738     -0.147445     -0.218586       -0.077734\n30144  0.499610       0.736754     -0.147445     -0.218586        0.590057\n30145 -0.566290       1.521083     -0.147445     -0.218586       -0.912474\n30146  0.042796       0.736754     -0.147445     -0.218586       -1.747213\n30147 -0.109476       0.736754     -0.147445     -0.218586       -0.077734\n30148  0.347338      -0.439738     -0.147445     -0.218586       -0.077734\n30149  2.022323       1.913247     -0.000811     -0.218586        1.591745\n30150  0.347338      -0.047574     -0.147445     -0.218586       -0.077734\n30151  0.347338      -0.047574     -0.147445     -0.218586        0.757005\n30152 -0.490154      -1.616231     -0.147445     -0.218586       -0.077734\n30153  0.347338       0.344590     -0.147445     -0.218586        0.339636\n30154 -0.490154       1.521083     -0.147445     -0.218586       -2.498479\n30155  1.108695       1.521083     -0.147445     -0.218586       -0.077734\n30156 -1.251511      -0.047574     -0.147445     -0.218586       -0.077734\n30157 -0.870832       0.736754     -0.147445     -0.218586       -0.244682\n30158  0.118931      -0.439738     -0.147445     -0.218586       -0.077734\n30159  1.489374      -0.439738     -0.147445     -0.218586       -0.077734\n30160 -1.251511      -0.439738     -0.147445     -0.218586       -1.747213\n30161  1.032559      -0.439738      1.881120     -0.218586       -0.077734\n\n[30162 rows x 5 columns]",
      "text/html": "<div>\n<style scoped>\n    .dataframe tbody tr th:only-of-type {\n        vertical-align: middle;\n    }\n\n    .dataframe tbody tr th {\n        vertical-align: top;\n    }\n\n    .dataframe thead th {\n        text-align: right;\n    }\n</style>\n<table border=\"1\" class=\"dataframe\">\n  <thead>\n    <tr style=\"text-align: right;\">\n      <th></th>\n      <th>age</th>\n      <th>education_num</th>\n      <th>capital_gain</th>\n      <th>capital_loss</th>\n      <th>hours_per_week</th>\n    </tr>\n  </thead>\n  <tbody>\n    <tr>\n      <th>0</th>\n      <td>0.042796</td>\n      <td>1.128918</td>\n      <td>0.146092</td>\n      <td>-0.218586</td>\n      <td>-0.077734</td>\n    </tr>\n    <tr>\n      <th>1</th>\n      <td>0.880288</td>\n      <td>1.128918</td>\n      <td>-0.147445</td>\n      <td>-0.218586</td>\n      <td>-2.331531</td>\n    </tr>\n    <tr>\n      <th>2</th>\n      <td>-0.033340</td>\n      <td>-0.439738</td>\n      <td>-0.147445</td>\n      <td>-0.218586</td>\n      <td>-0.077734</td>\n    </tr>\n    <tr>\n      <th>3</th>\n      <td>1.108695</td>\n      <td>-1.224066</td>\n      <td>-0.147445</td>\n      <td>-0.218586</td>\n      <td>-0.077734</td>\n    </tr>\n    <tr>\n      <th>4</th>\n      <td>-0.794697</td>\n      <td>1.128918</td>\n      <td>-0.147445</td>\n      <td>-0.218586</td>\n      <td>-0.077734</td>\n    </tr>\n    <tr>\n      <th>5</th>\n      <td>-0.109476</td>\n      <td>1.521083</td>\n      <td>-0.147445</td>\n      <td>-0.218586</td>\n      <td>-0.077734</td>\n    </tr>\n    <tr>\n      <th>6</th>\n      <td>0.804152</td>\n      <td>-2.008395</td>\n      <td>-0.147445</td>\n      <td>-0.218586</td>\n      <td>-2.081109</td>\n    </tr>\n    <tr>\n      <th>7</th>\n      <td>1.032559</td>\n      <td>-0.439738</td>\n      <td>-0.147445</td>\n      <td>-0.218586</td>\n      <td>0.339636</td>\n    </tr>\n    <tr>\n      <th>8</th>\n      <td>-0.566290</td>\n      <td>1.521083</td>\n      <td>1.754199</td>\n      <td>-0.218586</td>\n      <td>0.757005</td>\n    </tr>\n    <tr>\n      <th>9</th>\n      <td>0.271203</td>\n      <td>1.128918</td>\n      <td>0.551697</td>\n      <td>-0.218586</td>\n      <td>-0.077734</td>\n    </tr>\n    <tr>\n      <th>10</th>\n      <td>-0.109476</td>\n      <td>-0.047574</td>\n      <td>-0.147445</td>\n      <td>-0.218586</td>\n      <td>3.261224</td>\n    </tr>\n    <tr>\n      <th>11</th>\n      <td>-0.642425</td>\n      <td>1.128918</td>\n      <td>-0.147445</td>\n      <td>-0.218586</td>\n      <td>-0.077734</td>\n    </tr>\n    <tr>\n      <th>12</th>\n      <td>-1.175375</td>\n      <td>1.128918</td>\n      <td>-0.147445</td>\n      <td>-0.218586</td>\n      <td>-0.912474</td>\n    </tr>\n    <tr>\n      <th>13</th>\n      <td>-0.490154</td>\n      <td>0.736754</td>\n      <td>-0.147445</td>\n      <td>-0.218586</td>\n      <td>0.757005</td>\n    </tr>\n    <tr>\n      <th>14</th>\n      <td>-0.337883</td>\n      <td>-2.400559</td>\n      <td>-0.147445</td>\n      <td>-0.218586</td>\n      <td>0.339636</td>\n    </tr>\n    <tr>\n      <th>15</th>\n      <td>-1.023104</td>\n      <td>-0.439738</td>\n      <td>-0.147445</td>\n      <td>-0.218586</td>\n      <td>-0.495104</td>\n    </tr>\n    <tr>\n      <th>16</th>\n      <td>-0.490154</td>\n      <td>-0.439738</td>\n      <td>-0.147445</td>\n      <td>-0.218586</td>\n      <td>-0.077734</td>\n    </tr>\n    <tr>\n      <th>17</th>\n      <td>-0.033340</td>\n      <td>-1.224066</td>\n      <td>-0.147445</td>\n      <td>-0.218586</td>\n      <td>0.757005</td>\n    </tr>\n    <tr>\n      <th>18</th>\n      <td>0.347338</td>\n      <td>1.521083</td>\n      <td>-0.147445</td>\n      <td>-0.218586</td>\n      <td>0.339636</td>\n    </tr>\n    <tr>\n      <th>19</th>\n      <td>0.118931</td>\n      <td>2.305411</td>\n      <td>-0.147445</td>\n      <td>-0.218586</td>\n      <td>1.591745</td>\n    </tr>\n    <tr>\n      <th>20</th>\n      <td>1.184831</td>\n      <td>-0.439738</td>\n      <td>-0.147445</td>\n      <td>-0.218586</td>\n      <td>-1.747213</td>\n    </tr>\n    <tr>\n      <th>21</th>\n      <td>-0.261747</td>\n      <td>-2.008395</td>\n      <td>-0.147445</td>\n      <td>-0.218586</td>\n      <td>-0.077734</td>\n    </tr>\n    <tr>\n      <th>22</th>\n      <td>0.347338</td>\n      <td>-1.224066</td>\n      <td>-0.147445</td>\n      <td>4.832223</td>\n      <td>-0.077734</td>\n    </tr>\n    <tr>\n      <th>23</th>\n      <td>1.565509</td>\n      <td>-0.439738</td>\n      <td>-0.147445</td>\n      <td>-0.218586</td>\n      <td>-0.077734</td>\n    </tr>\n    <tr>\n      <th>24</th>\n      <td>1.337102</td>\n      <td>1.128918</td>\n      <td>-0.147445</td>\n      <td>-0.218586</td>\n      <td>-0.077734</td>\n    </tr>\n    <tr>\n      <th>25</th>\n      <td>-1.479918</td>\n      <td>-0.439738</td>\n      <td>-0.147445</td>\n      <td>-0.218586</td>\n      <td>-0.077734</td>\n    </tr>\n    <tr>\n      <th>26</th>\n      <td>0.042796</td>\n      <td>-0.439738</td>\n      <td>-0.147445</td>\n      <td>-0.218586</td>\n      <td>3.261224</td>\n    </tr>\n    <tr>\n      <th>27</th>\n      <td>0.804152</td>\n      <td>-0.439738</td>\n      <td>-0.147445</td>\n      <td>-0.218586</td>\n      <td>-0.077734</td>\n    </tr>\n    <tr>\n      <th>28</th>\n      <td>-1.175375</td>\n      <td>0.736754</td>\n      <td>-0.147445</td>\n      <td>-0.218586</td>\n      <td>0.923953</td>\n    </tr>\n    <tr>\n      <th>29</th>\n      <td>-1.403782</td>\n      <td>-0.047574</td>\n      <td>-0.147445</td>\n      <td>-0.218586</td>\n      <td>0.256162</td>\n    </tr>\n    <tr>\n      <th>...</th>\n      <td>...</td>\n      <td>...</td>\n      <td>...</td>\n      <td>...</td>\n      <td>...</td>\n    </tr>\n    <tr>\n      <th>30132</th>\n      <td>-0.490154</td>\n      <td>-1.616231</td>\n      <td>-0.147445</td>\n      <td>-0.218586</td>\n      <td>-0.077734</td>\n    </tr>\n    <tr>\n      <th>30133</th>\n      <td>-1.251511</td>\n      <td>-0.047574</td>\n      <td>-0.147445</td>\n      <td>-0.218586</td>\n      <td>-0.077734</td>\n    </tr>\n    <tr>\n      <th>30134</th>\n      <td>-0.566290</td>\n      <td>-0.439738</td>\n      <td>-0.147445</td>\n      <td>-0.218586</td>\n      <td>-0.077734</td>\n    </tr>\n    <tr>\n      <th>30135</th>\n      <td>-0.718561</td>\n      <td>-0.439738</td>\n      <td>-0.147445</td>\n      <td>-0.218586</td>\n      <td>-0.495104</td>\n    </tr>\n    <tr>\n      <th>30136</th>\n      <td>-0.337883</td>\n      <td>2.305411</td>\n      <td>-0.147445</td>\n      <td>-0.218586</td>\n      <td>1.591745</td>\n    </tr>\n    <tr>\n      <th>30137</th>\n      <td>1.184831</td>\n      <td>1.128918</td>\n      <td>-0.147445</td>\n      <td>-0.218586</td>\n      <td>0.757005</td>\n    </tr>\n    <tr>\n      <th>30138</th>\n      <td>-0.109476</td>\n      <td>-0.047574</td>\n      <td>-0.147445</td>\n      <td>-0.218586</td>\n      <td>-0.161208</td>\n    </tr>\n    <tr>\n      <th>30139</th>\n      <td>-1.251511</td>\n      <td>-0.831902</td>\n      <td>-0.147445</td>\n      <td>-0.218586</td>\n      <td>-0.495104</td>\n    </tr>\n    <tr>\n      <th>30140</th>\n      <td>-0.337883</td>\n      <td>1.128918</td>\n      <td>-0.147445</td>\n      <td>-0.218586</td>\n      <td>1.174375</td>\n    </tr>\n    <tr>\n      <th>30141</th>\n      <td>-0.642425</td>\n      <td>-0.439738</td>\n      <td>-0.147445</td>\n      <td>-0.218586</td>\n      <td>0.423110</td>\n    </tr>\n    <tr>\n      <th>30142</th>\n      <td>-0.033340</td>\n      <td>1.128918</td>\n      <td>1.880579</td>\n      <td>-0.218586</td>\n      <td>0.339636</td>\n    </tr>\n    <tr>\n      <th>30143</th>\n      <td>0.499610</td>\n      <td>-0.439738</td>\n      <td>-0.147445</td>\n      <td>-0.218586</td>\n      <td>-0.077734</td>\n    </tr>\n    <tr>\n      <th>30144</th>\n      <td>0.499610</td>\n      <td>0.736754</td>\n      <td>-0.147445</td>\n      <td>-0.218586</td>\n      <td>0.590057</td>\n    </tr>\n    <tr>\n      <th>30145</th>\n      <td>-0.566290</td>\n      <td>1.521083</td>\n      <td>-0.147445</td>\n      <td>-0.218586</td>\n      <td>-0.912474</td>\n    </tr>\n    <tr>\n      <th>30146</th>\n      <td>0.042796</td>\n      <td>0.736754</td>\n      <td>-0.147445</td>\n      <td>-0.218586</td>\n      <td>-1.747213</td>\n    </tr>\n    <tr>\n      <th>30147</th>\n      <td>-0.109476</td>\n      <td>0.736754</td>\n      <td>-0.147445</td>\n      <td>-0.218586</td>\n      <td>-0.077734</td>\n    </tr>\n    <tr>\n      <th>30148</th>\n      <td>0.347338</td>\n      <td>-0.439738</td>\n      <td>-0.147445</td>\n      <td>-0.218586</td>\n      <td>-0.077734</td>\n    </tr>\n    <tr>\n      <th>30149</th>\n      <td>2.022323</td>\n      <td>1.913247</td>\n      <td>-0.000811</td>\n      <td>-0.218586</td>\n      <td>1.591745</td>\n    </tr>\n    <tr>\n      <th>30150</th>\n      <td>0.347338</td>\n      <td>-0.047574</td>\n      <td>-0.147445</td>\n      <td>-0.218586</td>\n      <td>-0.077734</td>\n    </tr>\n    <tr>\n      <th>30151</th>\n      <td>0.347338</td>\n      <td>-0.047574</td>\n      <td>-0.147445</td>\n      <td>-0.218586</td>\n      <td>0.757005</td>\n    </tr>\n    <tr>\n      <th>30152</th>\n      <td>-0.490154</td>\n      <td>-1.616231</td>\n      <td>-0.147445</td>\n      <td>-0.218586</td>\n      <td>-0.077734</td>\n    </tr>\n    <tr>\n      <th>30153</th>\n      <td>0.347338</td>\n      <td>0.344590</td>\n      <td>-0.147445</td>\n      <td>-0.218586</td>\n      <td>0.339636</td>\n    </tr>\n    <tr>\n      <th>30154</th>\n      <td>-0.490154</td>\n      <td>1.521083</td>\n      <td>-0.147445</td>\n      <td>-0.218586</td>\n      <td>-2.498479</td>\n    </tr>\n    <tr>\n      <th>30155</th>\n      <td>1.108695</td>\n      <td>1.521083</td>\n      <td>-0.147445</td>\n      <td>-0.218586</td>\n      <td>-0.077734</td>\n    </tr>\n    <tr>\n      <th>30156</th>\n      <td>-1.251511</td>\n      <td>-0.047574</td>\n      <td>-0.147445</td>\n      <td>-0.218586</td>\n      <td>-0.077734</td>\n    </tr>\n    <tr>\n      <th>30157</th>\n      <td>-0.870832</td>\n      <td>0.736754</td>\n      <td>-0.147445</td>\n      <td>-0.218586</td>\n      <td>-0.244682</td>\n    </tr>\n    <tr>\n      <th>30158</th>\n      <td>0.118931</td>\n      <td>-0.439738</td>\n      <td>-0.147445</td>\n      <td>-0.218586</td>\n      <td>-0.077734</td>\n    </tr>\n    <tr>\n      <th>30159</th>\n      <td>1.489374</td>\n      <td>-0.439738</td>\n      <td>-0.147445</td>\n      <td>-0.218586</td>\n      <td>-0.077734</td>\n    </tr>\n    <tr>\n      <th>30160</th>\n      <td>-1.251511</td>\n      <td>-0.439738</td>\n      <td>-0.147445</td>\n      <td>-0.218586</td>\n      <td>-1.747213</td>\n    </tr>\n    <tr>\n      <th>30161</th>\n      <td>1.032559</td>\n      <td>-0.439738</td>\n      <td>1.881120</td>\n      <td>-0.218586</td>\n      <td>-0.077734</td>\n    </tr>\n  </tbody>\n</table>\n<p>30162 rows × 5 columns</p>\n</div>"
     },
     "metadata": {},
     "output_type": "execute_result",
     "execution_count": 49
    }
   ],
   "source": [
    "# 将标准化的数据添回原来的整个表里\n",
    "# 但是我们之前可以看到他的列属性名字没有了，加回去\n",
    "column_name = ['age', 'education_num', 'capital_gain', \n",
    "               'capital_loss', 'hours_per_week']\n",
    "train_data_standard.columns = column_name\n",
    "train_data_standard"
   ],
   "metadata": {
    "collapsed": false,
    "pycharm": {
     "name": "#%%\n",
     "is_executing": false
    }
   }
  },
  {
   "cell_type": "code",
   "execution_count": 50,
   "outputs": [
    {
     "data": {
      "text/plain": "            age  education_num  capital_gain  capital_loss  hours_per_week  \\\n0      0.042796       1.128918      0.146092     -0.218586       -0.077734   \n1      0.880288       1.128918     -0.147445     -0.218586       -2.331531   \n2     -0.033340      -0.439738     -0.147445     -0.218586       -0.077734   \n3      1.108695      -1.224066     -0.147445     -0.218586       -0.077734   \n4     -0.794697       1.128918     -0.147445     -0.218586       -0.077734   \n5     -0.109476       1.521083     -0.147445     -0.218586       -0.077734   \n6      0.804152      -2.008395     -0.147445     -0.218586       -2.081109   \n7      1.032559      -0.439738     -0.147445     -0.218586        0.339636   \n8     -0.566290       1.521083      1.754199     -0.218586        0.757005   \n9      0.271203       1.128918      0.551697     -0.218586       -0.077734   \n10    -0.109476      -0.047574     -0.147445     -0.218586        3.261224   \n11    -0.642425       1.128918     -0.147445     -0.218586       -0.077734   \n12    -1.175375       1.128918     -0.147445     -0.218586       -0.912474   \n13    -0.490154       0.736754     -0.147445     -0.218586        0.757005   \n15    -1.023104      -0.439738     -0.147445     -0.218586       -0.495104   \n16    -0.490154      -0.439738     -0.147445     -0.218586       -0.077734   \n17    -0.033340      -1.224066     -0.147445     -0.218586        0.757005   \n18     0.347338       1.521083     -0.147445     -0.218586        0.339636   \n19     0.118931       2.305411     -0.147445     -0.218586        1.591745   \n20     1.184831      -0.439738     -0.147445     -0.218586       -1.747213   \n21    -0.261747      -2.008395     -0.147445     -0.218586       -0.077734   \n22     0.347338      -1.224066     -0.147445      4.832223       -0.077734   \n23     1.565509      -0.439738     -0.147445     -0.218586       -0.077734   \n24     1.337102       1.128918     -0.147445     -0.218586       -0.077734   \n25    -1.479918      -0.439738     -0.147445     -0.218586       -0.077734   \n26     0.042796      -0.439738     -0.147445     -0.218586        3.261224   \n28    -1.175375       0.736754     -0.147445     -0.218586        0.923953   \n29    -1.403782      -0.047574     -0.147445     -0.218586        0.256162   \n30     0.499610       1.128918     -0.147445      3.264048       -0.077734   \n31    -0.642425      -0.047574     -0.147445     -0.218586       -0.077734   \n...         ...            ...           ...           ...             ...   \n30130 -0.642425      -0.439738     -0.147445     -0.218586        1.174375   \n30131 -0.946968       0.736754     -0.147445     -0.218586       -2.164583   \n30132 -0.490154      -1.616231     -0.147445     -0.218586       -0.077734   \n30133 -1.251511      -0.047574     -0.147445     -0.218586       -0.077734   \n30134 -0.566290      -0.439738     -0.147445     -0.218586       -0.077734   \n30135 -0.718561      -0.439738     -0.147445     -0.218586       -0.495104   \n30136 -0.337883       2.305411     -0.147445     -0.218586        1.591745   \n30137  1.184831       1.128918     -0.147445     -0.218586        0.757005   \n30138 -0.109476      -0.047574     -0.147445     -0.218586       -0.161208   \n30139 -1.251511      -0.831902     -0.147445     -0.218586       -0.495104   \n30140 -0.337883       1.128918     -0.147445     -0.218586        1.174375   \n30141 -0.642425      -0.439738     -0.147445     -0.218586        0.423110   \n30142 -0.033340       1.128918      1.880579     -0.218586        0.339636   \n30143  0.499610      -0.439738     -0.147445     -0.218586       -0.077734   \n30144  0.499610       0.736754     -0.147445     -0.218586        0.590057   \n30145 -0.566290       1.521083     -0.147445     -0.218586       -0.912474   \n30146  0.042796       0.736754     -0.147445     -0.218586       -1.747213   \n30147 -0.109476       0.736754     -0.147445     -0.218586       -0.077734   \n30148  0.347338      -0.439738     -0.147445     -0.218586       -0.077734   \n30149  2.022323       1.913247     -0.000811     -0.218586        1.591745   \n30150  0.347338      -0.047574     -0.147445     -0.218586       -0.077734   \n30151  0.347338      -0.047574     -0.147445     -0.218586        0.757005   \n30152 -0.490154      -1.616231     -0.147445     -0.218586       -0.077734   \n30153  0.347338       0.344590     -0.147445     -0.218586        0.339636   \n30154 -0.490154       1.521083     -0.147445     -0.218586       -2.498479   \n30155  1.108695       1.521083     -0.147445     -0.218586       -0.077734   \n30157 -0.870832       0.736754     -0.147445     -0.218586       -0.244682   \n30159  1.489374      -0.439738     -0.147445     -0.218586       -0.077734   \n30160 -1.251511      -0.439738     -0.147445     -0.218586       -1.747213   \n30161  1.032559      -0.439738      1.881120     -0.218586       -0.077734   \n\n       income  workclass_ Gov  workclass_ Private  workclass_ Self-emp  \\\n0           1               1                   0                    0   \n1           1               0                   0                    1   \n2           1               0                   1                    0   \n3           1               0                   1                    0   \n4           1               0                   1                    0   \n5           1               0                   1                    0   \n6           1               0                   1                    0   \n7           0               0                   0                    1   \n8           0               0                   1                    0   \n9           0               0                   1                    0   \n10          0               0                   1                    0   \n11          0               1                   0                    0   \n12          1               0                   1                    0   \n13          1               0                   1                    0   \n15          1               0                   1                    0   \n16          1               0                   0                    1   \n17          1               0                   1                    0   \n18          1               0                   1                    0   \n19          0               0                   0                    1   \n20          0               0                   1                    0   \n21          1               0                   1                    0   \n22          1               1                   0                    0   \n23          1               0                   1                    0   \n24          1               0                   1                    0   \n25          0               1                   0                    0   \n26          1               0                   1                    0   \n28          1               0                   1                    0   \n29          1               0                   1                    0   \n30          1               1                   0                    0   \n31          1               0                   1                    0   \n...       ...             ...                 ...                  ...   \n30130       1               0                   1                    0   \n30131       1               0                   1                    0   \n30132       1               0                   1                    0   \n30133       1               0                   1                    0   \n30134       1               0                   0                    1   \n30135       1               0                   1                    0   \n30136       1               0                   1                    0   \n30137       1               0                   1                    0   \n30138       0               0                   1                    0   \n30139       1               0                   1                    0   \n30140       1               0                   1                    0   \n30141       1               1                   0                    0   \n30142       1               0                   1                    0   \n30143       0               0                   0                    1   \n30144       1               0                   1                    0   \n30145       1               0                   0                    1   \n30146       1               0                   1                    0   \n30147       1               0                   1                    0   \n30148       1               0                   1                    0   \n30149       0               0                   1                    0   \n30150       1               0                   1                    0   \n30151       1               1                   0                    0   \n30152       0               0                   1                    0   \n30153       1               0                   1                    0   \n30154       1               0                   1                    0   \n30155       1               0                   0                    1   \n30157       1               0                   1                    0   \n30159       1               0                   1                    0   \n30160       1               1                   0                    0   \n30161       1               0                   1                    0   \n\n       workclass_ Un-emp  ...  native_country_ Jamaica  native_country_ Japan  \\\n0                      0  ...                        0                      0   \n1                      0  ...                        0                      0   \n2                      0  ...                        0                      0   \n3                      0  ...                        0                      0   \n4                      0  ...                        0                      0   \n5                      0  ...                        0                      0   \n6                      0  ...                        1                      0   \n7                      0  ...                        0                      0   \n8                      0  ...                        0                      0   \n9                      0  ...                        0                      0   \n10                     0  ...                        0                      0   \n11                     0  ...                        0                      0   \n12                     0  ...                        0                      0   \n13                     0  ...                        0                      0   \n15                     0  ...                        0                      0   \n16                     0  ...                        0                      0   \n17                     0  ...                        0                      0   \n18                     0  ...                        0                      0   \n19                     0  ...                        0                      0   \n20                     0  ...                        0                      0   \n21                     0  ...                        0                      0   \n22                     0  ...                        0                      0   \n23                     0  ...                        0                      0   \n24                     0  ...                        0                      0   \n25                     0  ...                        0                      0   \n26                     0  ...                        0                      0   \n28                     0  ...                        0                      0   \n29                     0  ...                        0                      0   \n30                     0  ...                        0                      0   \n31                     0  ...                        0                      0   \n...                  ...  ...                      ...                    ...   \n30130                  0  ...                        0                      0   \n30131                  0  ...                        0                      0   \n30132                  0  ...                        0                      0   \n30133                  0  ...                        0                      0   \n30134                  0  ...                        0                      0   \n30135                  0  ...                        0                      0   \n30136                  0  ...                        0                      0   \n30137                  0  ...                        0                      0   \n30138                  0  ...                        0                      0   \n30139                  0  ...                        0                      0   \n30140                  0  ...                        0                      0   \n30141                  0  ...                        0                      0   \n30142                  0  ...                        0                      0   \n30143                  0  ...                        0                      0   \n30144                  0  ...                        0                      0   \n30145                  0  ...                        0                      0   \n30146                  0  ...                        0                      0   \n30147                  0  ...                        0                      0   \n30148                  0  ...                        0                      0   \n30149                  0  ...                        0                      0   \n30150                  0  ...                        0                      0   \n30151                  0  ...                        0                      0   \n30152                  0  ...                        0                      0   \n30153                  0  ...                        0                      0   \n30154                  0  ...                        0                      0   \n30155                  0  ...                        0                      0   \n30157                  0  ...                        0                      0   \n30159                  0  ...                        0                      0   \n30160                  0  ...                        0                      0   \n30161                  0  ...                        0                      0   \n\n       native_country_ Mexico  native_country_ Other  \\\n0                           0                      0   \n1                           0                      0   \n2                           0                      0   \n3                           0                      0   \n4                           0                      0   \n5                           0                      0   \n6                           0                      0   \n7                           0                      0   \n8                           0                      0   \n9                           0                      0   \n10                          0                      0   \n11                          0                      0   \n12                          0                      0   \n13                          0                      0   \n15                          1                      0   \n16                          0                      0   \n17                          0                      0   \n18                          0                      0   \n19                          0                      0   \n20                          0                      0   \n21                          0                      0   \n22                          0                      0   \n23                          0                      0   \n24                          0                      0   \n25                          0                      0   \n26                          0                      0   \n28                          0                      0   \n29                          0                      0   \n30                          0                      0   \n31                          0                      0   \n...                       ...                    ...   \n30130                       0                      0   \n30131                       0                      0   \n30132                       0                      0   \n30133                       0                      0   \n30134                       0                      0   \n30135                       0                      0   \n30136                       0                      0   \n30137                       0                      0   \n30138                       0                      0   \n30139                       0                      0   \n30140                       0                      0   \n30141                       0                      0   \n30142                       0                      0   \n30143                       0                      0   \n30144                       0                      0   \n30145                       0                      0   \n30146                       0                      0   \n30147                       0                      0   \n30148                       0                      0   \n30149                       0                      0   \n30150                       0                      0   \n30151                       0                      0   \n30152                       0                      0   \n30153                       0                      0   \n30154                       0                      0   \n30155                       0                      0   \n30157                       0                      0   \n30159                       0                      0   \n30160                       0                      0   \n30161                       0                      0   \n\n       native_country_ Philippines  native_country_ Poland  \\\n0                                0                       0   \n1                                0                       0   \n2                                0                       0   \n3                                0                       0   \n4                                0                       0   \n5                                0                       0   \n6                                0                       0   \n7                                0                       0   \n8                                0                       0   \n9                                0                       0   \n10                               0                       0   \n11                               0                       0   \n12                               0                       0   \n13                               0                       0   \n15                               0                       0   \n16                               0                       0   \n17                               0                       0   \n18                               0                       0   \n19                               0                       0   \n20                               0                       0   \n21                               0                       0   \n22                               0                       0   \n23                               0                       0   \n24                               0                       0   \n25                               0                       0   \n26                               0                       0   \n28                               0                       0   \n29                               0                       0   \n30                               0                       0   \n31                               0                       0   \n...                            ...                     ...   \n30130                            0                       0   \n30131                            0                       0   \n30132                            0                       0   \n30133                            0                       0   \n30134                            0                       0   \n30135                            0                       0   \n30136                            0                       0   \n30137                            0                       0   \n30138                            0                       0   \n30139                            0                       0   \n30140                            0                       0   \n30141                            0                       0   \n30142                            0                       0   \n30143                            0                       0   \n30144                            0                       0   \n30145                            0                       0   \n30146                            0                       0   \n30147                            0                       0   \n30148                            0                       0   \n30149                            0                       0   \n30150                            0                       0   \n30151                            0                       0   \n30152                            0                       0   \n30153                            0                       0   \n30154                            0                       0   \n30155                            0                       0   \n30157                            0                       0   \n30159                            0                       0   \n30160                            0                       0   \n30161                            0                       0   \n\n       native_country_ Puerto-Rico  native_country_ South  \\\n0                                0                      0   \n1                                0                      0   \n2                                0                      0   \n3                                0                      0   \n4                                0                      0   \n5                                0                      0   \n6                                0                      0   \n7                                0                      0   \n8                                0                      0   \n9                                0                      0   \n10                               0                      0   \n11                               0                      0   \n12                               0                      0   \n13                               0                      0   \n15                               0                      0   \n16                               0                      0   \n17                               0                      0   \n18                               0                      0   \n19                               0                      0   \n20                               0                      0   \n21                               0                      0   \n22                               0                      0   \n23                               0                      0   \n24                               0                      0   \n25                               0                      0   \n26                               0                      0   \n28                               0                      0   \n29                               0                      0   \n30                               0                      0   \n31                               0                      0   \n...                            ...                    ...   \n30130                            0                      0   \n30131                            0                      0   \n30132                            0                      0   \n30133                            0                      0   \n30134                            0                      0   \n30135                            0                      0   \n30136                            0                      0   \n30137                            0                      0   \n30138                            0                      0   \n30139                            0                      0   \n30140                            0                      0   \n30141                            0                      0   \n30142                            0                      0   \n30143                            0                      0   \n30144                            0                      0   \n30145                            0                      0   \n30146                            0                      0   \n30147                            0                      0   \n30148                            0                      0   \n30149                            0                      0   \n30150                            0                      0   \n30151                            0                      0   \n30152                            0                      0   \n30153                            0                      0   \n30154                            0                      0   \n30155                            0                      0   \n30157                            0                      0   \n30159                            0                      0   \n30160                            0                      0   \n30161                            0                      0   \n\n       native_country_ United-States  native_country_ Vietnam  \n0                                  1                        0  \n1                                  1                        0  \n2                                  1                        0  \n3                                  1                        0  \n4                                  0                        0  \n5                                  1                        0  \n6                                  0                        0  \n7                                  1                        0  \n8                                  1                        0  \n9                                  1                        0  \n10                                 1                        0  \n11                                 0                        0  \n12                                 1                        0  \n13                                 1                        0  \n15                                 0                        0  \n16                                 1                        0  \n17                                 1                        0  \n18                                 1                        0  \n19                                 1                        0  \n20                                 1                        0  \n21                                 1                        0  \n22                                 1                        0  \n23                                 1                        0  \n24                                 1                        0  \n25                                 1                        0  \n26                                 1                        0  \n28                                 1                        0  \n29                                 1                        0  \n30                                 1                        0  \n31                                 1                        0  \n...                              ...                      ...  \n30130                              1                        0  \n30131                              1                        0  \n30132                              1                        0  \n30133                              1                        0  \n30134                              1                        0  \n30135                              0                        1  \n30136                              1                        0  \n30137                              1                        0  \n30138                              1                        0  \n30139                              1                        0  \n30140                              1                        0  \n30141                              1                        0  \n30142                              1                        0  \n30143                              1                        0  \n30144                              1                        0  \n30145                              1                        0  \n30146                              1                        0  \n30147                              1                        0  \n30148                              1                        0  \n30149                              1                        0  \n30150                              1                        0  \n30151                              1                        0  \n30152                              0                        0  \n30153                              1                        0  \n30154                              1                        0  \n30155                              1                        0  \n30157                              1                        0  \n30159                              1                        0  \n30160                              1                        0  \n30161                              0                        0  \n\n[27956 rows x 60 columns]",
      "text/html": "<div>\n<style scoped>\n    .dataframe tbody tr th:only-of-type {\n        vertical-align: middle;\n    }\n\n    .dataframe tbody tr th {\n        vertical-align: top;\n    }\n\n    .dataframe thead th {\n        text-align: right;\n    }\n</style>\n<table border=\"1\" class=\"dataframe\">\n  <thead>\n    <tr style=\"text-align: right;\">\n      <th></th>\n      <th>age</th>\n      <th>education_num</th>\n      <th>capital_gain</th>\n      <th>capital_loss</th>\n      <th>hours_per_week</th>\n      <th>income</th>\n      <th>workclass_ Gov</th>\n      <th>workclass_ Private</th>\n      <th>workclass_ Self-emp</th>\n      <th>workclass_ Un-emp</th>\n      <th>...</th>\n      <th>native_country_ Jamaica</th>\n      <th>native_country_ Japan</th>\n      <th>native_country_ Mexico</th>\n      <th>native_country_ Other</th>\n      <th>native_country_ Philippines</th>\n      <th>native_country_ Poland</th>\n      <th>native_country_ Puerto-Rico</th>\n      <th>native_country_ South</th>\n      <th>native_country_ United-States</th>\n      <th>native_country_ Vietnam</th>\n    </tr>\n  </thead>\n  <tbody>\n    <tr>\n      <th>0</th>\n      <td>0.042796</td>\n      <td>1.128918</td>\n      <td>0.146092</td>\n      <td>-0.218586</td>\n      <td>-0.077734</td>\n      <td>1</td>\n      <td>1</td>\n      <td>0</td>\n      <td>0</td>\n      <td>0</td>\n      <td>...</td>\n      <td>0</td>\n      <td>0</td>\n      <td>0</td>\n      <td>0</td>\n      <td>0</td>\n      <td>0</td>\n      <td>0</td>\n      <td>0</td>\n      <td>1</td>\n      <td>0</td>\n    </tr>\n    <tr>\n      <th>1</th>\n      <td>0.880288</td>\n      <td>1.128918</td>\n      <td>-0.147445</td>\n      <td>-0.218586</td>\n      <td>-2.331531</td>\n      <td>1</td>\n      <td>0</td>\n      <td>0</td>\n      <td>1</td>\n      <td>0</td>\n      <td>...</td>\n      <td>0</td>\n      <td>0</td>\n      <td>0</td>\n      <td>0</td>\n      <td>0</td>\n      <td>0</td>\n      <td>0</td>\n      <td>0</td>\n      <td>1</td>\n      <td>0</td>\n    </tr>\n    <tr>\n      <th>2</th>\n      <td>-0.033340</td>\n      <td>-0.439738</td>\n      <td>-0.147445</td>\n      <td>-0.218586</td>\n      <td>-0.077734</td>\n      <td>1</td>\n      <td>0</td>\n      <td>1</td>\n      <td>0</td>\n      <td>0</td>\n      <td>...</td>\n      <td>0</td>\n      <td>0</td>\n      <td>0</td>\n      <td>0</td>\n      <td>0</td>\n      <td>0</td>\n      <td>0</td>\n      <td>0</td>\n      <td>1</td>\n      <td>0</td>\n    </tr>\n    <tr>\n      <th>3</th>\n      <td>1.108695</td>\n      <td>-1.224066</td>\n      <td>-0.147445</td>\n      <td>-0.218586</td>\n      <td>-0.077734</td>\n      <td>1</td>\n      <td>0</td>\n      <td>1</td>\n      <td>0</td>\n      <td>0</td>\n      <td>...</td>\n      <td>0</td>\n      <td>0</td>\n      <td>0</td>\n      <td>0</td>\n      <td>0</td>\n      <td>0</td>\n      <td>0</td>\n      <td>0</td>\n      <td>1</td>\n      <td>0</td>\n    </tr>\n    <tr>\n      <th>4</th>\n      <td>-0.794697</td>\n      <td>1.128918</td>\n      <td>-0.147445</td>\n      <td>-0.218586</td>\n      <td>-0.077734</td>\n      <td>1</td>\n      <td>0</td>\n      <td>1</td>\n      <td>0</td>\n      <td>0</td>\n      <td>...</td>\n      <td>0</td>\n      <td>0</td>\n      <td>0</td>\n      <td>0</td>\n      <td>0</td>\n      <td>0</td>\n      <td>0</td>\n      <td>0</td>\n      <td>0</td>\n      <td>0</td>\n    </tr>\n    <tr>\n      <th>5</th>\n      <td>-0.109476</td>\n      <td>1.521083</td>\n      <td>-0.147445</td>\n      <td>-0.218586</td>\n      <td>-0.077734</td>\n      <td>1</td>\n      <td>0</td>\n      <td>1</td>\n      <td>0</td>\n      <td>0</td>\n      <td>...</td>\n      <td>0</td>\n      <td>0</td>\n      <td>0</td>\n      <td>0</td>\n      <td>0</td>\n      <td>0</td>\n      <td>0</td>\n      <td>0</td>\n      <td>1</td>\n      <td>0</td>\n    </tr>\n    <tr>\n      <th>6</th>\n      <td>0.804152</td>\n      <td>-2.008395</td>\n      <td>-0.147445</td>\n      <td>-0.218586</td>\n      <td>-2.081109</td>\n      <td>1</td>\n      <td>0</td>\n      <td>1</td>\n      <td>0</td>\n      <td>0</td>\n      <td>...</td>\n      <td>1</td>\n      <td>0</td>\n      <td>0</td>\n      <td>0</td>\n      <td>0</td>\n      <td>0</td>\n      <td>0</td>\n      <td>0</td>\n      <td>0</td>\n      <td>0</td>\n    </tr>\n    <tr>\n      <th>7</th>\n      <td>1.032559</td>\n      <td>-0.439738</td>\n      <td>-0.147445</td>\n      <td>-0.218586</td>\n      <td>0.339636</td>\n      <td>0</td>\n      <td>0</td>\n      <td>0</td>\n      <td>1</td>\n      <td>0</td>\n      <td>...</td>\n      <td>0</td>\n      <td>0</td>\n      <td>0</td>\n      <td>0</td>\n      <td>0</td>\n      <td>0</td>\n      <td>0</td>\n      <td>0</td>\n      <td>1</td>\n      <td>0</td>\n    </tr>\n    <tr>\n      <th>8</th>\n      <td>-0.566290</td>\n      <td>1.521083</td>\n      <td>1.754199</td>\n      <td>-0.218586</td>\n      <td>0.757005</td>\n      <td>0</td>\n      <td>0</td>\n      <td>1</td>\n      <td>0</td>\n      <td>0</td>\n      <td>...</td>\n      <td>0</td>\n      <td>0</td>\n      <td>0</td>\n      <td>0</td>\n      <td>0</td>\n      <td>0</td>\n      <td>0</td>\n      <td>0</td>\n      <td>1</td>\n      <td>0</td>\n    </tr>\n    <tr>\n      <th>9</th>\n      <td>0.271203</td>\n      <td>1.128918</td>\n      <td>0.551697</td>\n      <td>-0.218586</td>\n      <td>-0.077734</td>\n      <td>0</td>\n      <td>0</td>\n      <td>1</td>\n      <td>0</td>\n      <td>0</td>\n      <td>...</td>\n      <td>0</td>\n      <td>0</td>\n      <td>0</td>\n      <td>0</td>\n      <td>0</td>\n      <td>0</td>\n      <td>0</td>\n      <td>0</td>\n      <td>1</td>\n      <td>0</td>\n    </tr>\n    <tr>\n      <th>10</th>\n      <td>-0.109476</td>\n      <td>-0.047574</td>\n      <td>-0.147445</td>\n      <td>-0.218586</td>\n      <td>3.261224</td>\n      <td>0</td>\n      <td>0</td>\n      <td>1</td>\n      <td>0</td>\n      <td>0</td>\n      <td>...</td>\n      <td>0</td>\n      <td>0</td>\n      <td>0</td>\n      <td>0</td>\n      <td>0</td>\n      <td>0</td>\n      <td>0</td>\n      <td>0</td>\n      <td>1</td>\n      <td>0</td>\n    </tr>\n    <tr>\n      <th>11</th>\n      <td>-0.642425</td>\n      <td>1.128918</td>\n      <td>-0.147445</td>\n      <td>-0.218586</td>\n      <td>-0.077734</td>\n      <td>0</td>\n      <td>1</td>\n      <td>0</td>\n      <td>0</td>\n      <td>0</td>\n      <td>...</td>\n      <td>0</td>\n      <td>0</td>\n      <td>0</td>\n      <td>0</td>\n      <td>0</td>\n      <td>0</td>\n      <td>0</td>\n      <td>0</td>\n      <td>0</td>\n      <td>0</td>\n    </tr>\n    <tr>\n      <th>12</th>\n      <td>-1.175375</td>\n      <td>1.128918</td>\n      <td>-0.147445</td>\n      <td>-0.218586</td>\n      <td>-0.912474</td>\n      <td>1</td>\n      <td>0</td>\n      <td>1</td>\n      <td>0</td>\n      <td>0</td>\n      <td>...</td>\n      <td>0</td>\n      <td>0</td>\n      <td>0</td>\n      <td>0</td>\n      <td>0</td>\n      <td>0</td>\n      <td>0</td>\n      <td>0</td>\n      <td>1</td>\n      <td>0</td>\n    </tr>\n    <tr>\n      <th>13</th>\n      <td>-0.490154</td>\n      <td>0.736754</td>\n      <td>-0.147445</td>\n      <td>-0.218586</td>\n      <td>0.757005</td>\n      <td>1</td>\n      <td>0</td>\n      <td>1</td>\n      <td>0</td>\n      <td>0</td>\n      <td>...</td>\n      <td>0</td>\n      <td>0</td>\n      <td>0</td>\n      <td>0</td>\n      <td>0</td>\n      <td>0</td>\n      <td>0</td>\n      <td>0</td>\n      <td>1</td>\n      <td>0</td>\n    </tr>\n    <tr>\n      <th>15</th>\n      <td>-1.023104</td>\n      <td>-0.439738</td>\n      <td>-0.147445</td>\n      <td>-0.218586</td>\n      <td>-0.495104</td>\n      <td>1</td>\n      <td>0</td>\n      <td>1</td>\n      <td>0</td>\n      <td>0</td>\n      <td>...</td>\n      <td>0</td>\n      <td>0</td>\n      <td>1</td>\n      <td>0</td>\n      <td>0</td>\n      <td>0</td>\n      <td>0</td>\n      <td>0</td>\n      <td>0</td>\n      <td>0</td>\n    </tr>\n    <tr>\n      <th>16</th>\n      <td>-0.490154</td>\n      <td>-0.439738</td>\n      <td>-0.147445</td>\n      <td>-0.218586</td>\n      <td>-0.077734</td>\n      <td>1</td>\n      <td>0</td>\n      <td>0</td>\n      <td>1</td>\n      <td>0</td>\n      <td>...</td>\n      <td>0</td>\n      <td>0</td>\n      <td>0</td>\n      <td>0</td>\n      <td>0</td>\n      <td>0</td>\n      <td>0</td>\n      <td>0</td>\n      <td>1</td>\n      <td>0</td>\n    </tr>\n    <tr>\n      <th>17</th>\n      <td>-0.033340</td>\n      <td>-1.224066</td>\n      <td>-0.147445</td>\n      <td>-0.218586</td>\n      <td>0.757005</td>\n      <td>1</td>\n      <td>0</td>\n      <td>1</td>\n      <td>0</td>\n      <td>0</td>\n      <td>...</td>\n      <td>0</td>\n      <td>0</td>\n      <td>0</td>\n      <td>0</td>\n      <td>0</td>\n      <td>0</td>\n      <td>0</td>\n      <td>0</td>\n      <td>1</td>\n      <td>0</td>\n    </tr>\n    <tr>\n      <th>18</th>\n      <td>0.347338</td>\n      <td>1.521083</td>\n      <td>-0.147445</td>\n      <td>-0.218586</td>\n      <td>0.339636</td>\n      <td>1</td>\n      <td>0</td>\n      <td>1</td>\n      <td>0</td>\n      <td>0</td>\n      <td>...</td>\n      <td>0</td>\n      <td>0</td>\n      <td>0</td>\n      <td>0</td>\n      <td>0</td>\n      <td>0</td>\n      <td>0</td>\n      <td>0</td>\n      <td>1</td>\n      <td>0</td>\n    </tr>\n    <tr>\n      <th>19</th>\n      <td>0.118931</td>\n      <td>2.305411</td>\n      <td>-0.147445</td>\n      <td>-0.218586</td>\n      <td>1.591745</td>\n      <td>0</td>\n      <td>0</td>\n      <td>0</td>\n      <td>1</td>\n      <td>0</td>\n      <td>...</td>\n      <td>0</td>\n      <td>0</td>\n      <td>0</td>\n      <td>0</td>\n      <td>0</td>\n      <td>0</td>\n      <td>0</td>\n      <td>0</td>\n      <td>1</td>\n      <td>0</td>\n    </tr>\n    <tr>\n      <th>20</th>\n      <td>1.184831</td>\n      <td>-0.439738</td>\n      <td>-0.147445</td>\n      <td>-0.218586</td>\n      <td>-1.747213</td>\n      <td>0</td>\n      <td>0</td>\n      <td>1</td>\n      <td>0</td>\n      <td>0</td>\n      <td>...</td>\n      <td>0</td>\n      <td>0</td>\n      <td>0</td>\n      <td>0</td>\n      <td>0</td>\n      <td>0</td>\n      <td>0</td>\n      <td>0</td>\n      <td>1</td>\n      <td>0</td>\n    </tr>\n    <tr>\n      <th>21</th>\n      <td>-0.261747</td>\n      <td>-2.008395</td>\n      <td>-0.147445</td>\n      <td>-0.218586</td>\n      <td>-0.077734</td>\n      <td>1</td>\n      <td>0</td>\n      <td>1</td>\n      <td>0</td>\n      <td>0</td>\n      <td>...</td>\n      <td>0</td>\n      <td>0</td>\n      <td>0</td>\n      <td>0</td>\n      <td>0</td>\n      <td>0</td>\n      <td>0</td>\n      <td>0</td>\n      <td>1</td>\n      <td>0</td>\n    </tr>\n    <tr>\n      <th>22</th>\n      <td>0.347338</td>\n      <td>-1.224066</td>\n      <td>-0.147445</td>\n      <td>4.832223</td>\n      <td>-0.077734</td>\n      <td>1</td>\n      <td>1</td>\n      <td>0</td>\n      <td>0</td>\n      <td>0</td>\n      <td>...</td>\n      <td>0</td>\n      <td>0</td>\n      <td>0</td>\n      <td>0</td>\n      <td>0</td>\n      <td>0</td>\n      <td>0</td>\n      <td>0</td>\n      <td>1</td>\n      <td>0</td>\n    </tr>\n    <tr>\n      <th>23</th>\n      <td>1.565509</td>\n      <td>-0.439738</td>\n      <td>-0.147445</td>\n      <td>-0.218586</td>\n      <td>-0.077734</td>\n      <td>1</td>\n      <td>0</td>\n      <td>1</td>\n      <td>0</td>\n      <td>0</td>\n      <td>...</td>\n      <td>0</td>\n      <td>0</td>\n      <td>0</td>\n      <td>0</td>\n      <td>0</td>\n      <td>0</td>\n      <td>0</td>\n      <td>0</td>\n      <td>1</td>\n      <td>0</td>\n    </tr>\n    <tr>\n      <th>24</th>\n      <td>1.337102</td>\n      <td>1.128918</td>\n      <td>-0.147445</td>\n      <td>-0.218586</td>\n      <td>-0.077734</td>\n      <td>1</td>\n      <td>0</td>\n      <td>1</td>\n      <td>0</td>\n      <td>0</td>\n      <td>...</td>\n      <td>0</td>\n      <td>0</td>\n      <td>0</td>\n      <td>0</td>\n      <td>0</td>\n      <td>0</td>\n      <td>0</td>\n      <td>0</td>\n      <td>1</td>\n      <td>0</td>\n    </tr>\n    <tr>\n      <th>25</th>\n      <td>-1.479918</td>\n      <td>-0.439738</td>\n      <td>-0.147445</td>\n      <td>-0.218586</td>\n      <td>-0.077734</td>\n      <td>0</td>\n      <td>1</td>\n      <td>0</td>\n      <td>0</td>\n      <td>0</td>\n      <td>...</td>\n      <td>0</td>\n      <td>0</td>\n      <td>0</td>\n      <td>0</td>\n      <td>0</td>\n      <td>0</td>\n      <td>0</td>\n      <td>0</td>\n      <td>1</td>\n      <td>0</td>\n    </tr>\n    <tr>\n      <th>26</th>\n      <td>0.042796</td>\n      <td>-0.439738</td>\n      <td>-0.147445</td>\n      <td>-0.218586</td>\n      <td>3.261224</td>\n      <td>1</td>\n      <td>0</td>\n      <td>1</td>\n      <td>0</td>\n      <td>0</td>\n      <td>...</td>\n      <td>0</td>\n      <td>0</td>\n      <td>0</td>\n      <td>0</td>\n      <td>0</td>\n      <td>0</td>\n      <td>0</td>\n      <td>0</td>\n      <td>1</td>\n      <td>0</td>\n    </tr>\n    <tr>\n      <th>28</th>\n      <td>-1.175375</td>\n      <td>0.736754</td>\n      <td>-0.147445</td>\n      <td>-0.218586</td>\n      <td>0.923953</td>\n      <td>1</td>\n      <td>0</td>\n      <td>1</td>\n      <td>0</td>\n      <td>0</td>\n      <td>...</td>\n      <td>0</td>\n      <td>0</td>\n      <td>0</td>\n      <td>0</td>\n      <td>0</td>\n      <td>0</td>\n      <td>0</td>\n      <td>0</td>\n      <td>1</td>\n      <td>0</td>\n    </tr>\n    <tr>\n      <th>29</th>\n      <td>-1.403782</td>\n      <td>-0.047574</td>\n      <td>-0.147445</td>\n      <td>-0.218586</td>\n      <td>0.256162</td>\n      <td>1</td>\n      <td>0</td>\n      <td>1</td>\n      <td>0</td>\n      <td>0</td>\n      <td>...</td>\n      <td>0</td>\n      <td>0</td>\n      <td>0</td>\n      <td>0</td>\n      <td>0</td>\n      <td>0</td>\n      <td>0</td>\n      <td>0</td>\n      <td>1</td>\n      <td>0</td>\n    </tr>\n    <tr>\n      <th>30</th>\n      <td>0.499610</td>\n      <td>1.128918</td>\n      <td>-0.147445</td>\n      <td>3.264048</td>\n      <td>-0.077734</td>\n      <td>1</td>\n      <td>1</td>\n      <td>0</td>\n      <td>0</td>\n      <td>0</td>\n      <td>...</td>\n      <td>0</td>\n      <td>0</td>\n      <td>0</td>\n      <td>0</td>\n      <td>0</td>\n      <td>0</td>\n      <td>0</td>\n      <td>0</td>\n      <td>1</td>\n      <td>0</td>\n    </tr>\n    <tr>\n      <th>31</th>\n      <td>-0.642425</td>\n      <td>-0.047574</td>\n      <td>-0.147445</td>\n      <td>-0.218586</td>\n      <td>-0.077734</td>\n      <td>1</td>\n      <td>0</td>\n      <td>1</td>\n      <td>0</td>\n      <td>0</td>\n      <td>...</td>\n      <td>0</td>\n      <td>0</td>\n      <td>0</td>\n      <td>0</td>\n      <td>0</td>\n      <td>0</td>\n      <td>0</td>\n      <td>0</td>\n      <td>1</td>\n      <td>0</td>\n    </tr>\n    <tr>\n      <th>...</th>\n      <td>...</td>\n      <td>...</td>\n      <td>...</td>\n      <td>...</td>\n      <td>...</td>\n      <td>...</td>\n      <td>...</td>\n      <td>...</td>\n      <td>...</td>\n      <td>...</td>\n      <td>...</td>\n      <td>...</td>\n      <td>...</td>\n      <td>...</td>\n      <td>...</td>\n      <td>...</td>\n      <td>...</td>\n      <td>...</td>\n      <td>...</td>\n      <td>...</td>\n      <td>...</td>\n    </tr>\n    <tr>\n      <th>30130</th>\n      <td>-0.642425</td>\n      <td>-0.439738</td>\n      <td>-0.147445</td>\n      <td>-0.218586</td>\n      <td>1.174375</td>\n      <td>1</td>\n      <td>0</td>\n      <td>1</td>\n      <td>0</td>\n      <td>0</td>\n      <td>...</td>\n      <td>0</td>\n      <td>0</td>\n      <td>0</td>\n      <td>0</td>\n      <td>0</td>\n      <td>0</td>\n      <td>0</td>\n      <td>0</td>\n      <td>1</td>\n      <td>0</td>\n    </tr>\n    <tr>\n      <th>30131</th>\n      <td>-0.946968</td>\n      <td>0.736754</td>\n      <td>-0.147445</td>\n      <td>-0.218586</td>\n      <td>-2.164583</td>\n      <td>1</td>\n      <td>0</td>\n      <td>1</td>\n      <td>0</td>\n      <td>0</td>\n      <td>...</td>\n      <td>0</td>\n      <td>0</td>\n      <td>0</td>\n      <td>0</td>\n      <td>0</td>\n      <td>0</td>\n      <td>0</td>\n      <td>0</td>\n      <td>1</td>\n      <td>0</td>\n    </tr>\n    <tr>\n      <th>30132</th>\n      <td>-0.490154</td>\n      <td>-1.616231</td>\n      <td>-0.147445</td>\n      <td>-0.218586</td>\n      <td>-0.077734</td>\n      <td>1</td>\n      <td>0</td>\n      <td>1</td>\n      <td>0</td>\n      <td>0</td>\n      <td>...</td>\n      <td>0</td>\n      <td>0</td>\n      <td>0</td>\n      <td>0</td>\n      <td>0</td>\n      <td>0</td>\n      <td>0</td>\n      <td>0</td>\n      <td>1</td>\n      <td>0</td>\n    </tr>\n    <tr>\n      <th>30133</th>\n      <td>-1.251511</td>\n      <td>-0.047574</td>\n      <td>-0.147445</td>\n      <td>-0.218586</td>\n      <td>-0.077734</td>\n      <td>1</td>\n      <td>0</td>\n      <td>1</td>\n      <td>0</td>\n      <td>0</td>\n      <td>...</td>\n      <td>0</td>\n      <td>0</td>\n      <td>0</td>\n      <td>0</td>\n      <td>0</td>\n      <td>0</td>\n      <td>0</td>\n      <td>0</td>\n      <td>1</td>\n      <td>0</td>\n    </tr>\n    <tr>\n      <th>30134</th>\n      <td>-0.566290</td>\n      <td>-0.439738</td>\n      <td>-0.147445</td>\n      <td>-0.218586</td>\n      <td>-0.077734</td>\n      <td>1</td>\n      <td>0</td>\n      <td>0</td>\n      <td>1</td>\n      <td>0</td>\n      <td>...</td>\n      <td>0</td>\n      <td>0</td>\n      <td>0</td>\n      <td>0</td>\n      <td>0</td>\n      <td>0</td>\n      <td>0</td>\n      <td>0</td>\n      <td>1</td>\n      <td>0</td>\n    </tr>\n    <tr>\n      <th>30135</th>\n      <td>-0.718561</td>\n      <td>-0.439738</td>\n      <td>-0.147445</td>\n      <td>-0.218586</td>\n      <td>-0.495104</td>\n      <td>1</td>\n      <td>0</td>\n      <td>1</td>\n      <td>0</td>\n      <td>0</td>\n      <td>...</td>\n      <td>0</td>\n      <td>0</td>\n      <td>0</td>\n      <td>0</td>\n      <td>0</td>\n      <td>0</td>\n      <td>0</td>\n      <td>0</td>\n      <td>0</td>\n      <td>1</td>\n    </tr>\n    <tr>\n      <th>30136</th>\n      <td>-0.337883</td>\n      <td>2.305411</td>\n      <td>-0.147445</td>\n      <td>-0.218586</td>\n      <td>1.591745</td>\n      <td>1</td>\n      <td>0</td>\n      <td>1</td>\n      <td>0</td>\n      <td>0</td>\n      <td>...</td>\n      <td>0</td>\n      <td>0</td>\n      <td>0</td>\n      <td>0</td>\n      <td>0</td>\n      <td>0</td>\n      <td>0</td>\n      <td>0</td>\n      <td>1</td>\n      <td>0</td>\n    </tr>\n    <tr>\n      <th>30137</th>\n      <td>1.184831</td>\n      <td>1.128918</td>\n      <td>-0.147445</td>\n      <td>-0.218586</td>\n      <td>0.757005</td>\n      <td>1</td>\n      <td>0</td>\n      <td>1</td>\n      <td>0</td>\n      <td>0</td>\n      <td>...</td>\n      <td>0</td>\n      <td>0</td>\n      <td>0</td>\n      <td>0</td>\n      <td>0</td>\n      <td>0</td>\n      <td>0</td>\n      <td>0</td>\n      <td>1</td>\n      <td>0</td>\n    </tr>\n    <tr>\n      <th>30138</th>\n      <td>-0.109476</td>\n      <td>-0.047574</td>\n      <td>-0.147445</td>\n      <td>-0.218586</td>\n      <td>-0.161208</td>\n      <td>0</td>\n      <td>0</td>\n      <td>1</td>\n      <td>0</td>\n      <td>0</td>\n      <td>...</td>\n      <td>0</td>\n      <td>0</td>\n      <td>0</td>\n      <td>0</td>\n      <td>0</td>\n      <td>0</td>\n      <td>0</td>\n      <td>0</td>\n      <td>1</td>\n      <td>0</td>\n    </tr>\n    <tr>\n      <th>30139</th>\n      <td>-1.251511</td>\n      <td>-0.831902</td>\n      <td>-0.147445</td>\n      <td>-0.218586</td>\n      <td>-0.495104</td>\n      <td>1</td>\n      <td>0</td>\n      <td>1</td>\n      <td>0</td>\n      <td>0</td>\n      <td>...</td>\n      <td>0</td>\n      <td>0</td>\n      <td>0</td>\n      <td>0</td>\n      <td>0</td>\n      <td>0</td>\n      <td>0</td>\n      <td>0</td>\n      <td>1</td>\n      <td>0</td>\n    </tr>\n    <tr>\n      <th>30140</th>\n      <td>-0.337883</td>\n      <td>1.128918</td>\n      <td>-0.147445</td>\n      <td>-0.218586</td>\n      <td>1.174375</td>\n      <td>1</td>\n      <td>0</td>\n      <td>1</td>\n      <td>0</td>\n      <td>0</td>\n      <td>...</td>\n      <td>0</td>\n      <td>0</td>\n      <td>0</td>\n      <td>0</td>\n      <td>0</td>\n      <td>0</td>\n      <td>0</td>\n      <td>0</td>\n      <td>1</td>\n      <td>0</td>\n    </tr>\n    <tr>\n      <th>30141</th>\n      <td>-0.642425</td>\n      <td>-0.439738</td>\n      <td>-0.147445</td>\n      <td>-0.218586</td>\n      <td>0.423110</td>\n      <td>1</td>\n      <td>1</td>\n      <td>0</td>\n      <td>0</td>\n      <td>0</td>\n      <td>...</td>\n      <td>0</td>\n      <td>0</td>\n      <td>0</td>\n      <td>0</td>\n      <td>0</td>\n      <td>0</td>\n      <td>0</td>\n      <td>0</td>\n      <td>1</td>\n      <td>0</td>\n    </tr>\n    <tr>\n      <th>30142</th>\n      <td>-0.033340</td>\n      <td>1.128918</td>\n      <td>1.880579</td>\n      <td>-0.218586</td>\n      <td>0.339636</td>\n      <td>1</td>\n      <td>0</td>\n      <td>1</td>\n      <td>0</td>\n      <td>0</td>\n      <td>...</td>\n      <td>0</td>\n      <td>0</td>\n      <td>0</td>\n      <td>0</td>\n      <td>0</td>\n      <td>0</td>\n      <td>0</td>\n      <td>0</td>\n      <td>1</td>\n      <td>0</td>\n    </tr>\n    <tr>\n      <th>30143</th>\n      <td>0.499610</td>\n      <td>-0.439738</td>\n      <td>-0.147445</td>\n      <td>-0.218586</td>\n      <td>-0.077734</td>\n      <td>0</td>\n      <td>0</td>\n      <td>0</td>\n      <td>1</td>\n      <td>0</td>\n      <td>...</td>\n      <td>0</td>\n      <td>0</td>\n      <td>0</td>\n      <td>0</td>\n      <td>0</td>\n      <td>0</td>\n      <td>0</td>\n      <td>0</td>\n      <td>1</td>\n      <td>0</td>\n    </tr>\n    <tr>\n      <th>30144</th>\n      <td>0.499610</td>\n      <td>0.736754</td>\n      <td>-0.147445</td>\n      <td>-0.218586</td>\n      <td>0.590057</td>\n      <td>1</td>\n      <td>0</td>\n      <td>1</td>\n      <td>0</td>\n      <td>0</td>\n      <td>...</td>\n      <td>0</td>\n      <td>0</td>\n      <td>0</td>\n      <td>0</td>\n      <td>0</td>\n      <td>0</td>\n      <td>0</td>\n      <td>0</td>\n      <td>1</td>\n      <td>0</td>\n    </tr>\n    <tr>\n      <th>30145</th>\n      <td>-0.566290</td>\n      <td>1.521083</td>\n      <td>-0.147445</td>\n      <td>-0.218586</td>\n      <td>-0.912474</td>\n      <td>1</td>\n      <td>0</td>\n      <td>0</td>\n      <td>1</td>\n      <td>0</td>\n      <td>...</td>\n      <td>0</td>\n      <td>0</td>\n      <td>0</td>\n      <td>0</td>\n      <td>0</td>\n      <td>0</td>\n      <td>0</td>\n      <td>0</td>\n      <td>1</td>\n      <td>0</td>\n    </tr>\n    <tr>\n      <th>30146</th>\n      <td>0.042796</td>\n      <td>0.736754</td>\n      <td>-0.147445</td>\n      <td>-0.218586</td>\n      <td>-1.747213</td>\n      <td>1</td>\n      <td>0</td>\n      <td>1</td>\n      <td>0</td>\n      <td>0</td>\n      <td>...</td>\n      <td>0</td>\n      <td>0</td>\n      <td>0</td>\n      <td>0</td>\n      <td>0</td>\n      <td>0</td>\n      <td>0</td>\n      <td>0</td>\n      <td>1</td>\n      <td>0</td>\n    </tr>\n    <tr>\n      <th>30147</th>\n      <td>-0.109476</td>\n      <td>0.736754</td>\n      <td>-0.147445</td>\n      <td>-0.218586</td>\n      <td>-0.077734</td>\n      <td>1</td>\n      <td>0</td>\n      <td>1</td>\n      <td>0</td>\n      <td>0</td>\n      <td>...</td>\n      <td>0</td>\n      <td>0</td>\n      <td>0</td>\n      <td>0</td>\n      <td>0</td>\n      <td>0</td>\n      <td>0</td>\n      <td>0</td>\n      <td>1</td>\n      <td>0</td>\n    </tr>\n    <tr>\n      <th>30148</th>\n      <td>0.347338</td>\n      <td>-0.439738</td>\n      <td>-0.147445</td>\n      <td>-0.218586</td>\n      <td>-0.077734</td>\n      <td>1</td>\n      <td>0</td>\n      <td>1</td>\n      <td>0</td>\n      <td>0</td>\n      <td>...</td>\n      <td>0</td>\n      <td>0</td>\n      <td>0</td>\n      <td>0</td>\n      <td>0</td>\n      <td>0</td>\n      <td>0</td>\n      <td>0</td>\n      <td>1</td>\n      <td>0</td>\n    </tr>\n    <tr>\n      <th>30149</th>\n      <td>2.022323</td>\n      <td>1.913247</td>\n      <td>-0.000811</td>\n      <td>-0.218586</td>\n      <td>1.591745</td>\n      <td>0</td>\n      <td>0</td>\n      <td>1</td>\n      <td>0</td>\n      <td>0</td>\n      <td>...</td>\n      <td>0</td>\n      <td>0</td>\n      <td>0</td>\n      <td>0</td>\n      <td>0</td>\n      <td>0</td>\n      <td>0</td>\n      <td>0</td>\n      <td>1</td>\n      <td>0</td>\n    </tr>\n    <tr>\n      <th>30150</th>\n      <td>0.347338</td>\n      <td>-0.047574</td>\n      <td>-0.147445</td>\n      <td>-0.218586</td>\n      <td>-0.077734</td>\n      <td>1</td>\n      <td>0</td>\n      <td>1</td>\n      <td>0</td>\n      <td>0</td>\n      <td>...</td>\n      <td>0</td>\n      <td>0</td>\n      <td>0</td>\n      <td>0</td>\n      <td>0</td>\n      <td>0</td>\n      <td>0</td>\n      <td>0</td>\n      <td>1</td>\n      <td>0</td>\n    </tr>\n    <tr>\n      <th>30151</th>\n      <td>0.347338</td>\n      <td>-0.047574</td>\n      <td>-0.147445</td>\n      <td>-0.218586</td>\n      <td>0.757005</td>\n      <td>1</td>\n      <td>1</td>\n      <td>0</td>\n      <td>0</td>\n      <td>0</td>\n      <td>...</td>\n      <td>0</td>\n      <td>0</td>\n      <td>0</td>\n      <td>0</td>\n      <td>0</td>\n      <td>0</td>\n      <td>0</td>\n      <td>0</td>\n      <td>1</td>\n      <td>0</td>\n    </tr>\n    <tr>\n      <th>30152</th>\n      <td>-0.490154</td>\n      <td>-1.616231</td>\n      <td>-0.147445</td>\n      <td>-0.218586</td>\n      <td>-0.077734</td>\n      <td>0</td>\n      <td>0</td>\n      <td>1</td>\n      <td>0</td>\n      <td>0</td>\n      <td>...</td>\n      <td>0</td>\n      <td>0</td>\n      <td>0</td>\n      <td>0</td>\n      <td>0</td>\n      <td>0</td>\n      <td>0</td>\n      <td>0</td>\n      <td>0</td>\n      <td>0</td>\n    </tr>\n    <tr>\n      <th>30153</th>\n      <td>0.347338</td>\n      <td>0.344590</td>\n      <td>-0.147445</td>\n      <td>-0.218586</td>\n      <td>0.339636</td>\n      <td>1</td>\n      <td>0</td>\n      <td>1</td>\n      <td>0</td>\n      <td>0</td>\n      <td>...</td>\n      <td>0</td>\n      <td>0</td>\n      <td>0</td>\n      <td>0</td>\n      <td>0</td>\n      <td>0</td>\n      <td>0</td>\n      <td>0</td>\n      <td>1</td>\n      <td>0</td>\n    </tr>\n    <tr>\n      <th>30154</th>\n      <td>-0.490154</td>\n      <td>1.521083</td>\n      <td>-0.147445</td>\n      <td>-0.218586</td>\n      <td>-2.498479</td>\n      <td>1</td>\n      <td>0</td>\n      <td>1</td>\n      <td>0</td>\n      <td>0</td>\n      <td>...</td>\n      <td>0</td>\n      <td>0</td>\n      <td>0</td>\n      <td>0</td>\n      <td>0</td>\n      <td>0</td>\n      <td>0</td>\n      <td>0</td>\n      <td>1</td>\n      <td>0</td>\n    </tr>\n    <tr>\n      <th>30155</th>\n      <td>1.108695</td>\n      <td>1.521083</td>\n      <td>-0.147445</td>\n      <td>-0.218586</td>\n      <td>-0.077734</td>\n      <td>1</td>\n      <td>0</td>\n      <td>0</td>\n      <td>1</td>\n      <td>0</td>\n      <td>...</td>\n      <td>0</td>\n      <td>0</td>\n      <td>0</td>\n      <td>0</td>\n      <td>0</td>\n      <td>0</td>\n      <td>0</td>\n      <td>0</td>\n      <td>1</td>\n      <td>0</td>\n    </tr>\n    <tr>\n      <th>30157</th>\n      <td>-0.870832</td>\n      <td>0.736754</td>\n      <td>-0.147445</td>\n      <td>-0.218586</td>\n      <td>-0.244682</td>\n      <td>1</td>\n      <td>0</td>\n      <td>1</td>\n      <td>0</td>\n      <td>0</td>\n      <td>...</td>\n      <td>0</td>\n      <td>0</td>\n      <td>0</td>\n      <td>0</td>\n      <td>0</td>\n      <td>0</td>\n      <td>0</td>\n      <td>0</td>\n      <td>1</td>\n      <td>0</td>\n    </tr>\n    <tr>\n      <th>30159</th>\n      <td>1.489374</td>\n      <td>-0.439738</td>\n      <td>-0.147445</td>\n      <td>-0.218586</td>\n      <td>-0.077734</td>\n      <td>1</td>\n      <td>0</td>\n      <td>1</td>\n      <td>0</td>\n      <td>0</td>\n      <td>...</td>\n      <td>0</td>\n      <td>0</td>\n      <td>0</td>\n      <td>0</td>\n      <td>0</td>\n      <td>0</td>\n      <td>0</td>\n      <td>0</td>\n      <td>1</td>\n      <td>0</td>\n    </tr>\n    <tr>\n      <th>30160</th>\n      <td>-1.251511</td>\n      <td>-0.439738</td>\n      <td>-0.147445</td>\n      <td>-0.218586</td>\n      <td>-1.747213</td>\n      <td>1</td>\n      <td>1</td>\n      <td>0</td>\n      <td>0</td>\n      <td>0</td>\n      <td>...</td>\n      <td>0</td>\n      <td>0</td>\n      <td>0</td>\n      <td>0</td>\n      <td>0</td>\n      <td>0</td>\n      <td>0</td>\n      <td>0</td>\n      <td>1</td>\n      <td>0</td>\n    </tr>\n    <tr>\n      <th>30161</th>\n      <td>1.032559</td>\n      <td>-0.439738</td>\n      <td>1.881120</td>\n      <td>-0.218586</td>\n      <td>-0.077734</td>\n      <td>1</td>\n      <td>0</td>\n      <td>1</td>\n      <td>0</td>\n      <td>0</td>\n      <td>...</td>\n      <td>0</td>\n      <td>0</td>\n      <td>0</td>\n      <td>0</td>\n      <td>0</td>\n      <td>0</td>\n      <td>0</td>\n      <td>0</td>\n      <td>0</td>\n      <td>0</td>\n    </tr>\n  </tbody>\n</table>\n<p>27956 rows × 60 columns</p>\n</div>"
     },
     "metadata": {},
     "output_type": "execute_result",
     "execution_count": 50
    }
   ],
   "source": [
    "# 用标准化数据覆盖原来的数据\n",
    "for i in train_data_standard.columns:\n",
    "    train_data[i] = train_data_standard[i]\n",
    "train_data = train_data.dropna()\n",
    "train_data"
   ],
   "metadata": {
    "collapsed": false,
    "pycharm": {
     "name": "#%%\n",
     "is_executing": false
    }
   }
  },
  {
   "cell_type": "code",
   "execution_count": 51,
   "outputs": [
    {
     "name": "stdout",
     "text": [
      "(27956, 59)\n(27956,)\n(16281, 59)\n(16281,)\n"
     ],
     "output_type": "stream"
    }
   ],
   "source": [
    "# 把要预测的值income单独拿出来看看\n",
    "y_train = train_data.income\n",
    "x_train = train_data.drop('income', axis=1)\n",
    "\n",
    "y_test = test_data.income\n",
    "x_test = test_data.drop('income', axis=1)\n",
    "\n",
    "print(x_train.shape)\n",
    "print(y_train.shape)\n",
    "\n",
    "print(x_test.shape)\n",
    "print(y_test.shape)"
   ],
   "metadata": {
    "collapsed": false,
    "pycharm": {
     "name": "#%%\n",
     "is_executing": false
    }
   }
  },
  {
   "cell_type": "code",
   "execution_count": 52,
   "outputs": [
    {
     "data": {
      "text/plain": "LGBMClassifier(boosting_type='gbdt', class_weight=None, colsample_bytree=1.0,\n               importance_type='split', learning_rate=0.1, max_depth=-1,\n               min_child_samples=20, min_child_weight=0.001, min_split_gain=0.0,\n               n_estimators=100, n_jobs=-1, num_leaves=31, objective=None,\n               random_state=None, reg_alpha=0.0, reg_lambda=0.0, silent=True,\n               subsample=1.0, subsample_for_bin=200000, subsample_freq=0)"
     },
     "metadata": {},
     "output_type": "execute_result",
     "execution_count": 52
    }
   ],
   "source": [
    "lgbm = LGBMClassifier()\n",
    "lgbm.fit(x_train, y_train)\n"
   ],
   "metadata": {
    "collapsed": false,
    "pycharm": {
     "name": "#%%\n",
     "is_executing": false
    }
   }
  },
  {
   "cell_type": "code",
   "execution_count": 53,
   "outputs": [
    {
     "name": "stdout",
     "text": [
      "81.6964559916467\n"
     ],
     "output_type": "stream"
    }
   ],
   "source": [
    "y_pred = lgbm.predict(x_test)\n",
    "print(accuracy_score(y_test, y_pred) * 100)"
   ],
   "metadata": {
    "collapsed": false,
    "pycharm": {
     "name": "#%%\n",
     "is_executing": false
    }
   }
  },
  {
   "cell_type": "code",
   "execution_count": 54,
   "outputs": [
    {
     "data": {
      "text/plain": "array([[ 1547,  2299],\n       [  681, 11754]], dtype=int64)"
     },
     "metadata": {},
     "output_type": "execute_result",
     "execution_count": 54
    }
   ],
   "source": [
    "random_forest_confusion_matrix = confusion_matrix(y_test, y_pred)\n",
    "random_forest_confusion_matrix"
   ],
   "metadata": {
    "collapsed": false,
    "pycharm": {
     "name": "#%%\n",
     "is_executing": false
    }
   }
  }
 ],
 "metadata": {
  "kernelspec": {
   "display_name": "Python 3",
   "language": "python",
   "name": "python3"
  },
  "language_info": {
   "codemirror_mode": {
    "name": "ipython",
    "version": 2
   },
   "file_extension": ".py",
   "mimetype": "text/x-python",
   "name": "python",
   "nbconvert_exporter": "python",
   "pygments_lexer": "ipython2",
   "version": "2.7.6"
  },
  "pycharm": {
   "stem_cell": {
    "cell_type": "raw",
    "source": [],
    "metadata": {
     "collapsed": false
    }
   }
  }
 },
 "nbformat": 4,
 "nbformat_minor": 0
}